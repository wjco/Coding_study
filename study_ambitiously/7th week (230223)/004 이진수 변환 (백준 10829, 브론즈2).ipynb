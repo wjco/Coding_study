{
 "cells": [
  {
   "cell_type": "markdown",
   "id": "ff8d0252",
   "metadata": {},
   "source": [
    "# 이진수 변환 (백준 #10829)\n",
    "- 브론즈2\n",
    "- https://www.acmicpc.net/problem/10829"
   ]
  },
  {
   "cell_type": "markdown",
   "id": "f0db6a29",
   "metadata": {},
   "source": [
    "**[문제]**\n",
    "\n",
    "자연수 N이 주어진다. N을 이진수로 바꿔서 출력하는 프로그램을 작성하시오."
   ]
  },
  {
   "cell_type": "markdown",
   "id": "510f3a8f",
   "metadata": {},
   "source": [
    "**[입력]**\n",
    "\n",
    "첫째 줄에 자연수 N이 주어진다. (1 ≤ N ≤ 100,000,000,000,000)"
   ]
  },
  {
   "cell_type": "markdown",
   "id": "47ecce3f",
   "metadata": {},
   "source": [
    "**[출력]**\n",
    "\n",
    "N을 이진수로 바꿔서 출력한다. 이진수는 0으로 시작하면 안 된다."
   ]
  },
  {
   "cell_type": "code",
   "execution_count": 15,
   "id": "b3bd941f",
   "metadata": {
    "ExecuteTime": {
     "end_time": "2023-02-20T14:29:04.795844Z",
     "start_time": "2023-02-20T14:29:04.059396Z"
    }
   },
   "outputs": [
    {
     "name": "stdout",
     "output_type": "stream",
     "text": [
      "53\n",
      "110101\n"
     ]
    }
   ],
   "source": [
    "# My Solution\n",
    "\n",
    "def binary(num, result):\n",
    "    if num == 0 or num == 1:\n",
    "        result.append(str(num))\n",
    "        return result\n",
    "    else:\n",
    "        result.append(str(num % 2))\n",
    "        return binary(num // 2, result)\n",
    "\n",
    "n = int(input())\n",
    "print(\"\".join(binary(n, [])[::-1]))"
   ]
  }
 ],
 "metadata": {
  "kernelspec": {
   "display_name": "Python 3 (ipykernel)",
   "language": "python",
   "name": "python3"
  },
  "language_info": {
   "codemirror_mode": {
    "name": "ipython",
    "version": 3
   },
   "file_extension": ".py",
   "mimetype": "text/x-python",
   "name": "python",
   "nbconvert_exporter": "python",
   "pygments_lexer": "ipython3",
   "version": "3.9.16"
  }
 },
 "nbformat": 4,
 "nbformat_minor": 5
}
