{
 "cells": [
  {
   "cell_type": "markdown",
   "id": "ff8d0252",
   "metadata": {},
   "source": [
    "# 괄호 (백준 #9012)\n",
    "- 실버4\n",
    "- https://www.acmicpc.net/problem/9012"
   ]
  },
  {
   "cell_type": "markdown",
   "id": "f0db6a29",
   "metadata": {},
   "source": [
    "**[문제]**\n",
    "\n",
    "괄호 문자열(Parenthesis String, PS)은 두 개의 괄호 기호인 ‘(’ 와 ‘)’ 만으로 구성되어 있는 문자열이다. 그 중에서 괄호의 모양이 바르게 구성된 문자열을 올바른 괄호 문자열(Valid PS, VPS)이라고 부른다. 한 쌍의 괄호 기호로 된 “( )” 문자열은 기본 VPS 이라고 부른다. 만일 x 가 VPS 라면 이것을 하나의 괄호에 넣은 새로운 문자열 “(x)”도 VPS 가 된다. 그리고 두 VPS x 와 y를 접합(concatenation)시킨 새로운 문자열 xy도 VPS 가 된다. 예를 들어 “(())()”와 “((()))” 는 VPS 이지만 “(()(”, “(())()))” , 그리고 “(()” 는 모두 VPS 가 아닌 문자열이다. \n",
    "\n",
    "여러분은 입력으로 주어진 괄호 문자열이 VPS 인지 아닌지를 판단해서 그 결과를 YES 와 NO 로 나타내어야 한다. "
   ]
  },
  {
   "cell_type": "markdown",
   "id": "510f3a8f",
   "metadata": {},
   "source": [
    "**[입력]**\n",
    "\n",
    "입력 데이터는 표준 입력을 사용한다. 입력은 T개의 테스트 데이터로 주어진다. 입력의 첫 번째 줄에는 입력 데이터의 수를 나타내는 정수 T가 주어진다. 각 테스트 데이터의 첫째 줄에는 괄호 문자열이 한 줄에 주어진다. 하나의 괄호 문자열의 길이는 2 이상 50 이하이다. "
   ]
  },
  {
   "cell_type": "markdown",
   "id": "47ecce3f",
   "metadata": {},
   "source": [
    "**[출력]**\n",
    "\n",
    "출력은 표준 출력을 사용한다. 만일 입력 괄호 문자열이 올바른 괄호 문자열(VPS)이면 “YES”, 아니면 “NO”를 한 줄에 하나씩 차례대로 출력해야 한다."
   ]
  },
  {
   "cell_type": "code",
   "execution_count": 5,
   "id": "b3bd941f",
   "metadata": {
    "ExecuteTime": {
     "end_time": "2023-02-08T05:46:58.029625Z",
     "start_time": "2023-02-08T05:46:50.537306Z"
    }
   },
   "outputs": [
    {
     "name": "stdout",
     "output_type": "stream",
     "text": [
      "3\n",
      "((\n",
      "((\n",
      "NO\n",
      "))\n",
      "))\n",
      "NO\n",
      "())(()\n",
      "())(()\n",
      "NO\n"
     ]
    }
   ],
   "source": [
    "# My Solution (1) - 스택/큐 없이 풀어보기\n",
    "\n",
    "t = int(input())\n",
    "\n",
    "for _ in range(t):\n",
    "    opener = []\n",
    "    txt = input()\n",
    "    for letter in txt:\n",
    "        if letter == '(':\n",
    "            opener.append(letter)\n",
    "        elif letter == ')':\n",
    "            try:\n",
    "                if opener[-1] == '(':\n",
    "                    opener.pop(-1)\n",
    "            except:\n",
    "                opener = [\"코딩왕 이우진\"]\n",
    "                break\n",
    "    print(\"NO\") if opener else print(\"YES\")"
   ]
  },
  {
   "cell_type": "code",
   "execution_count": 9,
   "id": "14d5d119",
   "metadata": {
    "ExecuteTime": {
     "end_time": "2023-02-08T06:36:49.845888Z",
     "start_time": "2023-02-08T06:36:28.991563Z"
    }
   },
   "outputs": [
    {
     "name": "stdout",
     "output_type": "stream",
     "text": [
      "6\n",
      "(())())\n",
      "NO\n",
      "(((()())()\n",
      "NO\n",
      "(()())((()))\n",
      "YES\n",
      "((()()(()))(((())))()\n",
      "NO\n",
      "()()()()(()()())()\n",
      "YES\n",
      "(()((())()(\n",
      "NO\n"
     ]
    }
   ],
   "source": [
    "# My Solution (2) - 스택/큐 활용\n",
    "\n",
    "class MyStack(list):\n",
    "    \n",
    "    push = list.append\n",
    "    \n",
    "    def peek(self):\n",
    "        return self[-1]\n",
    "    \n",
    "class MyQue(list):\n",
    "    \n",
    "    put = list.append\n",
    "    \n",
    "    def peek(self):\n",
    "        return self[0]\n",
    "    \n",
    "    def get(self):\n",
    "        return self.pop(0)\n",
    "\n",
    "t = int(input())\n",
    "\n",
    "for _ in range(t):\n",
    "    opener_s = MyStack()\n",
    "    txt_q = MyQue(input())\n",
    "\n",
    "    for __ in range(len(txt_q)):\n",
    "        letter = txt_q.get()\n",
    "        if letter == '(':\n",
    "            opener_s.push(letter)\n",
    "        elif letter == ')':\n",
    "            try:\n",
    "                if opener_s.peek() == '(':\n",
    "                    opener_s.pop()\n",
    "                else:\n",
    "                    opener_s.push(\"코딩왕 이우진 스택/큐까지 섭렵하다\")\n",
    "                    break\n",
    "            except:\n",
    "                opener_s.push(\"코딩왕 이우진 월클 반열에 오르다\")\n",
    "                break\n",
    "    print(\"NO\") if opener_s else print(\"YES\")"
   ]
  }
 ],
 "metadata": {
  "kernelspec": {
   "display_name": "Python 3 (ipykernel)",
   "language": "python",
   "name": "python3"
  },
  "language_info": {
   "codemirror_mode": {
    "name": "ipython",
    "version": 3
   },
   "file_extension": ".py",
   "mimetype": "text/x-python",
   "name": "python",
   "nbconvert_exporter": "python",
   "pygments_lexer": "ipython3",
   "version": "3.9.16"
  }
 },
 "nbformat": 4,
 "nbformat_minor": 5
}
