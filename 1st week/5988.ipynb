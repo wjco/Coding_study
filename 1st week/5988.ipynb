{
 "cells": [
  {
   "cell_type": "markdown",
   "id": "e4f4539b",
   "metadata": {},
   "source": [
    "# 홀수일까 짝수일까 (백준 #5988)\n",
    "- 브론즈3\n",
    "- https://www.acmicpc.net/problem/5988"
   ]
  },
  {
   "cell_type": "markdown",
   "id": "94e35d51",
   "metadata": {},
   "source": [
    "**[문제]**\n",
    "\n",
    "짝이 없는 경재는 매일 홀로 있다보니 홀수를 판별할 수 있는 능력이 생겼다. 창식이는 경재의 말이 사실인지 그 능력을 시험해보려 한다. 창식이의 의심이 끝이 없을 것 같아 N개만 확인하기로 정했다.\n",
    "\n",
    "N개의 정수가 주어지면 홀수인지 짝수인지를 출력하는 프로그램을 만들어 경재의 능력을 검증할 수 있게 도와주자."
   ]
  },
  {
   "cell_type": "markdown",
   "id": "29b7a119",
   "metadata": {},
   "source": [
    "**[입력]**\n",
    "\n",
    "첫 번째 줄에 숫자의 개수 N(1 <= N <= 100)이 주어진다.\n",
    "\n",
    "두 번째 줄부터 N+1번째 줄에 걸쳐 홀수인지 짝수인지 확인할 정수 K (1 <= K <= 10^60)가 주어진다."
   ]
  },
  {
   "cell_type": "markdown",
   "id": "69e5078a",
   "metadata": {},
   "source": [
    "**[출력]**\n",
    "\n",
    "N개의 줄에 걸쳐 한 줄씩 정수 K가 홀수라면 'odd'를, 짝수라면 'even'을 출력한다."
   ]
  },
  {
   "cell_type": "code",
   "execution_count": 2,
   "id": "76a1c3af",
   "metadata": {
    "ExecuteTime": {
     "end_time": "2023-01-10T05:16:45.512491Z",
     "start_time": "2023-01-10T05:16:41.297603Z"
    }
   },
   "outputs": [
    {
     "name": "stdout",
     "output_type": "stream",
     "text": [
      "5\n",
      "1\n",
      "odd\n",
      "2\n",
      "even\n",
      "3\n",
      "odd\n",
      "4\n",
      "even\n",
      "5\n",
      "odd\n"
     ]
    }
   ],
   "source": [
    "# My Solution\n",
    "\n",
    "n = int(input())\n",
    "\n",
    "for _ in range(n):\n",
    "    k = int(input())\n",
    "    txt = 'odd' if k % 2 == 1 else 'even'\n",
    "    print(txt)"
   ]
  }
 ],
 "metadata": {
  "kernelspec": {
   "display_name": "Python 3 (ipykernel)",
   "language": "python",
   "name": "python3"
  },
  "language_info": {
   "codemirror_mode": {
    "name": "ipython",
    "version": 3
   },
   "file_extension": ".py",
   "mimetype": "text/x-python",
   "name": "python",
   "nbconvert_exporter": "python",
   "pygments_lexer": "ipython3",
   "version": "3.9.13"
  },
  "toc": {
   "base_numbering": 1,
   "nav_menu": {},
   "number_sections": true,
   "sideBar": true,
   "skip_h1_title": false,
   "title_cell": "Table of Contents",
   "title_sidebar": "Contents",
   "toc_cell": false,
   "toc_position": {},
   "toc_section_display": true,
   "toc_window_display": false
  },
  "varInspector": {
   "cols": {
    "lenName": 16,
    "lenType": 16,
    "lenVar": 40
   },
   "kernels_config": {
    "python": {
     "delete_cmd_postfix": "",
     "delete_cmd_prefix": "del ",
     "library": "var_list.py",
     "varRefreshCmd": "print(var_dic_list())"
    },
    "r": {
     "delete_cmd_postfix": ") ",
     "delete_cmd_prefix": "rm(",
     "library": "var_list.r",
     "varRefreshCmd": "cat(var_dic_list()) "
    }
   },
   "types_to_exclude": [
    "module",
    "function",
    "builtin_function_or_method",
    "instance",
    "_Feature"
   ],
   "window_display": false
  }
 },
 "nbformat": 4,
 "nbformat_minor": 5
}
