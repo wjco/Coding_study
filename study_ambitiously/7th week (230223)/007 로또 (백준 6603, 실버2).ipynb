{
 "cells": [
  {
   "cell_type": "markdown",
   "id": "ff8d0252",
   "metadata": {},
   "source": [
    "# 로또 (백준 #6603)\n",
    "- 실버2\n",
    "- https://www.acmicpc.net/problem/6603"
   ]
  },
  {
   "cell_type": "markdown",
   "id": "f0db6a29",
   "metadata": {},
   "source": [
    "**[문제]**\n",
    "\n",
    "독일 로또는 {1, 2, ..., 49}에서 수 6개를 고른다.\n",
    "\n",
    "로또 번호를 선택하는데 사용되는 가장 유명한 전략은 49가지 수 중 k(k>6)개의 수를 골라 집합 S를 만든 다음 그 수만 가지고 번호를 선택하는 것이다.\n",
    "\n",
    "예를 들어, k=8, S={1,2,3,5,8,13,21,34}인 경우 이 집합 S에서 수를 고를 수 있는 경우의 수는 총 28가지이다. ([1,2,3,5,8,13], [1,2,3,5,8,21], [1,2,3,5,8,34], [1,2,3,5,13,21], ..., [3,5,8,13,21,34])\n",
    "\n",
    "집합 S와 k가 주어졌을 때, 수를 고르는 모든 방법을 구하는 프로그램을 작성하시오."
   ]
  },
  {
   "cell_type": "markdown",
   "id": "510f3a8f",
   "metadata": {},
   "source": [
    "**[입력]**\n",
    "\n",
    "입력은 여러 개의 테스트 케이스로 이루어져 있다. 각 테스트 케이스는 한 줄로 이루어져 있다. 첫 번째 수는 k (6 < k < 13)이고, 다음 k개 수는 집합 S에 포함되는 수이다. S의 원소는 오름차순으로 주어진다.\n",
    "\n",
    "입력의 마지막 줄에는 0이 하나 주어진다."
   ]
  },
  {
   "cell_type": "markdown",
   "id": "47ecce3f",
   "metadata": {},
   "source": [
    "**[출력]**\n",
    "\n",
    "각 테스트 케이스마다 수를 고르는 모든 방법을 출력한다. 이때, 사전 순으로 출력한다.\n",
    "\n",
    "각 테스트 케이스 사이에는 빈 줄을 하나 출력한다."
   ]
  },
  {
   "cell_type": "code",
   "execution_count": 22,
   "id": "b3bd941f",
   "metadata": {
    "ExecuteTime": {
     "end_time": "2023-02-23T03:34:48.453036Z",
     "start_time": "2023-02-23T03:34:39.798801Z"
    }
   },
   "outputs": [
    {
     "name": "stdout",
     "output_type": "stream",
     "text": [
      "7 1 2 3 4 5 6 7\n",
      "1 2 3 4 5 6\n",
      "1 2 3 4 5 7\n",
      "1 2 3 4 6 7\n",
      "1 2 3 5 6 7\n",
      "1 2 4 5 6 7\n",
      "1 3 4 5 6 7\n",
      "2 3 4 5 6 7\n",
      "\n",
      "8 1 2 3 5 8 13 21 34\n",
      "1 2 3 5 8 13\n",
      "1 2 3 5 8 21\n",
      "1 2 3 5 8 34\n",
      "1 2 3 5 13 21\n",
      "1 2 3 5 13 34\n",
      "1 2 3 5 21 34\n",
      "1 2 3 8 13 21\n",
      "1 2 3 8 13 34\n",
      "1 2 3 8 21 34\n",
      "1 2 3 13 21 34\n",
      "1 2 5 8 13 21\n",
      "1 2 5 8 13 34\n",
      "1 2 5 8 21 34\n",
      "1 2 5 13 21 34\n",
      "1 2 8 13 21 34\n",
      "1 3 5 8 13 21\n",
      "1 3 5 8 13 34\n",
      "1 3 5 8 21 34\n",
      "1 3 5 13 21 34\n",
      "1 3 8 13 21 34\n",
      "1 5 8 13 21 34\n",
      "2 3 5 8 13 21\n",
      "2 3 5 8 13 34\n",
      "2 3 5 8 21 34\n",
      "2 3 5 13 21 34\n",
      "2 3 8 13 21 34\n",
      "2 5 8 13 21 34\n",
      "3 5 8 13 21 34\n",
      "\n",
      "0\n"
     ]
    }
   ],
   "source": [
    "# My Solution (1) - 반복문\n",
    "\n",
    "while True:\n",
    "    nums = list(map(int, input().split()))\n",
    "    k = nums.pop(0)\n",
    "    \n",
    "    if k == 0:\n",
    "        break\n",
    "    \n",
    "    for i1 in range(len(nums)):\n",
    "        for i2 in range(i1 + 1, len(nums)):\n",
    "            for i3 in range(i2 + 1, len(nums)):\n",
    "                for i4 in range(i3 + 1, len(nums)):\n",
    "                    for i5 in range(i4 + 1, len(nums)):\n",
    "                        for i6 in range(i5 + 1, len(nums)):\n",
    "                            print(nums[i1], nums[i2], nums[i3], nums[i4], nums[i5], nums[i6])\n",
    "                            \n",
    "    print()"
   ]
  },
  {
   "cell_type": "code",
   "execution_count": 23,
   "id": "007e0359",
   "metadata": {
    "ExecuteTime": {
     "end_time": "2023-02-23T03:34:57.223375Z",
     "start_time": "2023-02-23T03:34:53.381196Z"
    },
    "scrolled": false
   },
   "outputs": [
    {
     "name": "stdout",
     "output_type": "stream",
     "text": [
      "7 1 2 3 4 5 6 7\n",
      "1 2 3 4 5 6 \n",
      "1 2 3 4 5 7 \n",
      "1 2 3 4 6 7 \n",
      "1 2 3 5 6 7 \n",
      "1 2 4 5 6 7 \n",
      "1 3 4 5 6 7 \n",
      "2 3 4 5 6 7 \n",
      "\n",
      "8 1 2 3 5 8 13 21 34\n",
      "1 2 3 4 5 6 \n",
      "1 2 3 4 5 7 \n",
      "1 2 3 4 6 7 \n",
      "1 2 3 5 6 7 \n",
      "1 2 4 5 6 7 \n",
      "1 3 4 5 6 7 \n",
      "2 3 4 5 6 7 \n",
      "1 2 3 5 8 13 \n",
      "1 2 3 5 8 21 \n",
      "1 2 3 5 8 34 \n",
      "1 2 3 5 13 21 \n",
      "1 2 3 5 13 34 \n",
      "1 2 3 5 21 34 \n",
      "1 2 3 8 13 21 \n",
      "1 2 3 8 13 34 \n",
      "1 2 3 8 21 34 \n",
      "1 2 3 13 21 34 \n",
      "1 2 5 8 13 21 \n",
      "1 2 5 8 13 34 \n",
      "1 2 5 8 21 34 \n",
      "1 2 5 13 21 34 \n",
      "1 2 8 13 21 34 \n",
      "1 3 5 8 13 21 \n",
      "1 3 5 8 13 34 \n",
      "1 3 5 8 21 34 \n",
      "1 3 5 13 21 34 \n",
      "1 3 8 13 21 34 \n",
      "1 5 8 13 21 34 \n",
      "2 3 5 8 13 21 \n",
      "2 3 5 8 13 34 \n",
      "2 3 5 8 21 34 \n",
      "2 3 5 13 21 34 \n",
      "2 3 8 13 21 34 \n",
      "2 5 8 13 21 34 \n",
      "3 5 8 13 21 34 \n",
      "\n",
      "0\n"
     ]
    }
   ],
   "source": [
    "# My Solution (2) - 재귀함수\n",
    "\n",
    "def get_target_idx(target_idx, idxs, k):\n",
    "    if target_idx < 0:\n",
    "        return target_idx\n",
    "    elif idxs[target_idx] < k:\n",
    "        return target_idx\n",
    "    else:\n",
    "        return get_target_idx(target_idx - 1, idxs, k - 1)\n",
    "\n",
    "def lotto(nums, k, target_idx, idxs, answers=[]):\n",
    "    answers.append([nums[idx] for idx in idxs])\n",
    "    target_idx = get_target_idx(len(idxs) - 1, idxs, k)\n",
    "    \n",
    "    if target_idx < 0:\n",
    "        return answers\n",
    "    else:\n",
    "        idxs[target_idx] += 1\n",
    "        #target_idx가 마지막이 아니면 뒤에 애들 싹 밀어줌\n",
    "        if target_idx != len(idxs) - 1:\n",
    "            for i in range(target_idx + 1, len(idxs)):\n",
    "                idxs[i] = idxs[i - 1] + 1\n",
    "        return lotto(nums, k, target_idx, idxs, answers)\n",
    "\n",
    "while True:\n",
    "    nums = list(map(int, input().split()))\n",
    "    k = nums.pop(0)\n",
    "    \n",
    "    if k == 0:\n",
    "        break\n",
    "    \n",
    "    answers = lotto(nums, k - 1, k - 2, [i for i in range(6)])\n",
    "    \n",
    "    for answer in answers:\n",
    "        for a in answer:\n",
    "            print(a, end=' ')\n",
    "        print()\n",
    "    \n",
    "    print()"
   ]
  }
 ],
 "metadata": {
  "kernelspec": {
   "display_name": "Python 3 (ipykernel)",
   "language": "python",
   "name": "python3"
  },
  "language_info": {
   "codemirror_mode": {
    "name": "ipython",
    "version": 3
   },
   "file_extension": ".py",
   "mimetype": "text/x-python",
   "name": "python",
   "nbconvert_exporter": "python",
   "pygments_lexer": "ipython3",
   "version": "3.9.16"
  }
 },
 "nbformat": 4,
 "nbformat_minor": 5
}
