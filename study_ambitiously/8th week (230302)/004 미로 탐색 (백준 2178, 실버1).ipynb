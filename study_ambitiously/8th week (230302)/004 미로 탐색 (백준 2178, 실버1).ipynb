{
 "cells": [
  {
   "cell_type": "markdown",
   "id": "ff8d0252",
   "metadata": {},
   "source": [
    "# 미로 탐색 (백준 #2178)\n",
    "- 실버1\n",
    "- https://www.acmicpc.net/problem/2178"
   ]
  },
  {
   "cell_type": "markdown",
   "id": "f0db6a29",
   "metadata": {},
   "source": [
    "**[문제]**\n",
    "\n",
    "N×M크기의 배열로 표현되는 미로가 있다.\n",
    "\n",
    "    1\t0\t1\t1\t1\t1\n",
    "    1\t0\t1\t0\t1\t0\n",
    "    1\t0\t1\t0\t1\t1\n",
    "    1\t1\t1\t0\t1\t1\n",
    "\n",
    "미로에서 1은 이동할 수 있는 칸을 나타내고, 0은 이동할 수 없는 칸을 나타낸다. 이러한 미로가 주어졌을 때, (1, 1)에서 출발하여 (N, M)의 위치로 이동할 때 지나야 하는 최소의 칸 수를 구하는 프로그램을 작성하시오. 한 칸에서 다른 칸으로 이동할 때, 서로 인접한 칸으로만 이동할 수 있다.\n",
    "\n",
    "위의 예에서는 15칸을 지나야 (N, M)의 위치로 이동할 수 있다. 칸을 셀 때에는 시작 위치와 도착 위치도 포함한다."
   ]
  },
  {
   "cell_type": "markdown",
   "id": "510f3a8f",
   "metadata": {},
   "source": [
    "**[입력]**\n",
    "\n",
    "첫째 줄에 두 정수 N, M(2 ≤ N, M ≤ 100)이 주어진다. 다음 N개의 줄에는 M개의 정수로 미로가 주어진다. 각각의 수들은 **붙어서** 입력으로 주어진다."
   ]
  },
  {
   "cell_type": "markdown",
   "id": "47ecce3f",
   "metadata": {},
   "source": [
    "**[출력]**\n",
    "\n",
    "첫째 줄에 지나야 하는 최소의 칸 수를 출력한다. 항상 도착위치로 이동할 수 있는 경우만 입력으로 주어진다."
   ]
  },
  {
   "cell_type": "code",
   "execution_count": 12,
   "id": "b3bd941f",
   "metadata": {
    "ExecuteTime": {
     "end_time": "2023-03-02T07:34:32.624884Z",
     "start_time": "2023-03-02T07:34:20.597442Z"
    }
   },
   "outputs": [
    {
     "name": "stdout",
     "output_type": "stream",
     "text": [
      "4 6\n",
      "101111\n",
      "101010\n",
      "101011\n",
      "111011\n",
      "15\n"
     ]
    }
   ],
   "source": [
    "# My Solution - BFS로 풀어보겠슴다\n",
    "\n",
    "def solve_miro(visited, now=[0, 0], distance=0):\n",
    "    who_is_next = [now]\n",
    "    visited[now[0]][now[1]] = 1\n",
    "    last_level, this_level = 0, 1\n",
    "    \n",
    "    while True:\n",
    "        last_level, this_level = this_level, 0\n",
    "        distance += 1\n",
    "        \n",
    "        for _ in range(last_level):\n",
    "            now = who_is_next.pop(0)\n",
    "            \n",
    "            # 위로\n",
    "            y, x = now[0] - 1, now[1]\n",
    "            if now[0] > 0 and miros[y][x] == 1 and visited[y][x] == 0:\n",
    "                who_is_next.append([now[0] - 1, now[1]])\n",
    "                visited[now[0] - 1][now[1]] = 1\n",
    "                this_level += 1\n",
    "\n",
    "            # 아래로\n",
    "            y, x = now[0] + 1, now[1]\n",
    "            if now[0] < n - 1 and miros[y][x] == 1 and visited[y][x] == 0:\n",
    "                who_is_next.append([now[0] + 1, now[1]])\n",
    "                visited[now[0] + 1][now[1]] = 1\n",
    "                this_level += 1\n",
    "\n",
    "            # 왼쪽으로\n",
    "            y, x = now[0], now[1] - 1\n",
    "            if now[1] > 0 and miros[y][x] == 1 and visited[y][x] == 0:\n",
    "                who_is_next.append([now[0], now[1] - 1])\n",
    "                visited[now[0]][now[1] - 1] = 1\n",
    "                this_level += 1\n",
    "\n",
    "            # 오른쪽으로\n",
    "            y, x = now[0], now[1] + 1\n",
    "            if now[1] < m - 1 and miros[y][x] == 1 and visited[y][x] == 0:\n",
    "                who_is_next.append([now[0], now[1] + 1])\n",
    "                visited[now[0]][now[1] + 1] = 1\n",
    "                this_level += 1\n",
    "                \n",
    "        if len(who_is_next) <= 0 or now == [m - 1, n - 1]:\n",
    "            break\n",
    "            \n",
    "    return distance\n",
    "    \n",
    "n, m = map(int, input().split())\n",
    "miros = [list(map(int, input())) for _ in range(n)]\n",
    "visited = [[0 for _ in range(m)] for __ in range(n)]\n",
    "print(solve_miro(visited))"
   ]
  }
 ],
 "metadata": {
  "kernelspec": {
   "display_name": "Python 3 (ipykernel)",
   "language": "python",
   "name": "python3"
  },
  "language_info": {
   "codemirror_mode": {
    "name": "ipython",
    "version": 3
   },
   "file_extension": ".py",
   "mimetype": "text/x-python",
   "name": "python",
   "nbconvert_exporter": "python",
   "pygments_lexer": "ipython3",
   "version": "3.9.0"
  }
 },
 "nbformat": 4,
 "nbformat_minor": 5
}
