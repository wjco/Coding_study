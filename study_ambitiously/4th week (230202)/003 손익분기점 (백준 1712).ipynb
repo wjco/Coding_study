{
 "cells": [
  {
   "cell_type": "markdown",
   "id": "07101d8a",
   "metadata": {},
   "source": [
    "# 손익분기점 (백준 #1712)\n",
    "\n",
    "- 브론즈2\n",
    "- https://www.acmicpc.net/problem/1712"
   ]
  },
  {
   "cell_type": "markdown",
   "id": "3ad750b5",
   "metadata": {},
   "source": [
    "**[문제]**\n",
    "\n",
    "월드전자는 노트북을 제조하고 판매하는 회사이다. 노트북 판매 대수에 상관없이 매년 임대료, 재산세, 보험료, 급여 등 A만원의 고정 비용이 들며, 한 대의 노트북을 생산하는 데에는 재료비와 인건비 등 총 B만원의 가변 비용이 든다고 한다.\n",
    "\n",
    "예를 들어 A=1,000, B=70이라고 하자. 이 경우 노트북을 한 대 생산하는 데는 총 1,070만원이 들며, 열 대 생산하는 데는 총 1,700만원이 든다.\n",
    "\n",
    "노트북 가격이 C만원으로 책정되었다고 한다. 일반적으로 생산 대수를 늘려 가다 보면 어느 순간 총 수입(판매비용)이 총 비용(=고정비용+가변비용)보다 많아지게 된다. 최초로 총 수입이 총 비용보다 많아져 이익이 발생하는 지점을 손익분기점(BREAK-EVEN POINT)이라고 한다.\n",
    "\n",
    "A, B, C가 주어졌을 때, 손익분기점을 구하는 프로그램을 작성하시오."
   ]
  },
  {
   "cell_type": "markdown",
   "id": "9af2182e",
   "metadata": {},
   "source": [
    "**[입력]**\n",
    "\n",
    "첫째 줄에 A, B, C가 빈 칸을 사이에 두고 순서대로 주어진다. A, B, C는 21억 이하의 자연수이다."
   ]
  },
  {
   "cell_type": "markdown",
   "id": "ce756453",
   "metadata": {},
   "source": [
    "**[출력]**\n",
    "\n",
    "첫 번째 줄에 손익분기점 즉 최초로 이익이 발생하는 판매량을 출력한다. 손익분기점이 존재하지 않으면 -1을 출력한다."
   ]
  },
  {
   "cell_type": "code",
   "execution_count": 37,
   "id": "73380a07",
   "metadata": {
    "ExecuteTime": {
     "end_time": "2023-01-30T06:35:32.392174Z",
     "start_time": "2023-01-30T06:35:29.896394Z"
    }
   },
   "outputs": [
    {
     "name": "stdout",
     "output_type": "stream",
     "text": [
      "1000 70 170\n",
      "11\n"
     ]
    }
   ],
   "source": [
    "# My Solution (1)\n",
    "\n",
    "a, b, c = map(int, input().split())\n",
    "\n",
    "try:\n",
    "    bep = a / (c - b)\n",
    "    if bep > 0:\n",
    "        print(int(bep) + 1)\n",
    "    else:\n",
    "        print(-1)\n",
    "except:\n",
    "    print(-1)"
   ]
  },
  {
   "cell_type": "code",
   "execution_count": 38,
   "id": "182badca",
   "metadata": {
    "ExecuteTime": {
     "end_time": "2023-01-30T06:35:36.631696Z",
     "start_time": "2023-01-30T06:35:34.473079Z"
    }
   },
   "outputs": [
    {
     "name": "stdout",
     "output_type": "stream",
     "text": [
      "1000 70 170\n",
      "11\n"
     ]
    }
   ],
   "source": [
    "# My Solution (2)\n",
    "\n",
    "a, b, c = map(int, input().split())\n",
    "\n",
    "if b >= c:\n",
    "    x = -1\n",
    "    print(x)\n",
    "else:\n",
    "    x = int(a / (c - b)) + 1\n",
    "    print(x)"
   ]
  }
 ],
 "metadata": {
  "kernelspec": {
   "display_name": "Python 3 (ipykernel)",
   "language": "python",
   "name": "python3"
  },
  "language_info": {
   "codemirror_mode": {
    "name": "ipython",
    "version": 3
   },
   "file_extension": ".py",
   "mimetype": "text/x-python",
   "name": "python",
   "nbconvert_exporter": "python",
   "pygments_lexer": "ipython3",
   "version": "3.9.16"
  }
 },
 "nbformat": 4,
 "nbformat_minor": 5
}
