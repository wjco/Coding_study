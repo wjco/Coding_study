{
 "cells": [
  {
   "cell_type": "markdown",
   "id": "7eff14d5",
   "metadata": {},
   "source": [
    "# 돌 게임 (백준 #9655)\n",
    "- 실버5\n",
    "- https://www.acmicpc.net/problem/9655"
   ]
  },
  {
   "cell_type": "markdown",
   "id": "2bca4c5a",
   "metadata": {},
   "source": [
    "**[문제]**\n",
    "\n",
    "돌 게임은 두 명이서 즐기는 재밌는 게임이다.\n",
    "\n",
    "탁자 위에 돌 N개가 있다. 상근이와 창영이는 턴을 번갈아가면서 돌을 가져가며, 돌은 1개 또는 3개 가져갈 수 있다. 마지막 돌을 가져가는 사람이 게임을 이기게 된다.\n",
    "\n",
    "두 사람이 완벽하게 게임을 했을 때, 이기는 사람을 구하는 프로그램을 작성하시오. 게임은 상근이가 먼저 시작한다."
   ]
  },
  {
   "cell_type": "markdown",
   "id": "eae551de",
   "metadata": {},
   "source": [
    "**[입력]**\n",
    "\n",
    "첫째 줄에 N이 주어진다. (1 ≤ N ≤ 1000)"
   ]
  },
  {
   "cell_type": "markdown",
   "id": "872cc5de",
   "metadata": {},
   "source": [
    "**[출력]**\n",
    "\n",
    "상근이가 게임을 이기면 SK를, 창영이가 게임을 이기면 CY을 출력한다."
   ]
  },
  {
   "cell_type": "code",
   "execution_count": 1,
   "id": "73733273",
   "metadata": {
    "ExecuteTime": {
     "end_time": "2023-02-03T05:29:14.712844Z",
     "start_time": "2023-02-03T05:29:13.536963Z"
    }
   },
   "outputs": [
    {
     "name": "stdout",
     "output_type": "stream",
     "text": [
      "5\n",
      "SK\n"
     ]
    }
   ],
   "source": [
    "# My Solution (1)\n",
    "\n",
    "n = int(input())\n",
    "\n",
    "if n % 2:\n",
    "    print(\"SK\")\n",
    "else:\n",
    "    print(\"CY\")"
   ]
  },
  {
   "cell_type": "markdown",
   "id": "a9b789c3",
   "metadata": {},
   "source": [
    "써리원의 변형 버전? 목표 숫자 % 4를 선점하는 사람이 이긴다. 그 이후엔 상대방이 몇 개를 가져가든 4개씩 개수를 맞출 수 있다. 근데 여기서 2를 부를 수 없기 때문에 결국 이런 식의 결과가 나온다.\n",
    "\n",
    "|n|승리|\n",
    "|--|--|\n",
    "|1|상근|\n",
    "|2|창영|\n",
    "|3|상근|\n",
    "|4|창영|\n",
    "|...|...|\n",
    "\n",
    "n이 홀수인지 짝수인지만 판별하면 답이 나오는 간단한 문제였다...!"
   ]
  },
  {
   "cell_type": "code",
   "execution_count": 2,
   "id": "0c9b3c78",
   "metadata": {
    "ExecuteTime": {
     "end_time": "2023-02-03T05:38:29.579945Z",
     "start_time": "2023-02-03T05:38:28.213315Z"
    }
   },
   "outputs": [
    {
     "name": "stdout",
     "output_type": "stream",
     "text": [
      "5\n",
      "SK\n"
     ]
    }
   ],
   "source": [
    "# My Solution (2) - 한 줄로 풀어보기\n",
    "\n",
    "print(\"SK\" if int(input()) % 2 else \"CY\")"
   ]
  }
 ],
 "metadata": {
  "kernelspec": {
   "display_name": "Python 3 (ipykernel)",
   "language": "python",
   "name": "python3"
  },
  "language_info": {
   "codemirror_mode": {
    "name": "ipython",
    "version": 3
   },
   "file_extension": ".py",
   "mimetype": "text/x-python",
   "name": "python",
   "nbconvert_exporter": "python",
   "pygments_lexer": "ipython3",
   "version": "3.9.16"
  }
 },
 "nbformat": 4,
 "nbformat_minor": 5
}
