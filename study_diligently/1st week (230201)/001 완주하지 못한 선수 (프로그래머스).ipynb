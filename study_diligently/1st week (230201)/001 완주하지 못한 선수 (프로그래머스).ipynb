{
 "cells": [
  {
   "cell_type": "markdown",
   "id": "12a2580f",
   "metadata": {},
   "source": [
    "# 완주하지 못한 선수 (프로그래머스 Lv.1)\n",
    "\n",
    "- 코딩테스트 연습 > 해시 > 완주하지 못한 선수\n",
    "- https://school.programmers.co.kr/learn/courses/30/lessons/42576"
   ]
  },
  {
   "cell_type": "markdown",
   "id": "b0568359",
   "metadata": {},
   "source": [
    "**[문제 설명]**\n",
    "\n",
    "수많은 마라톤 선수들이 마라톤에 참여하였습니다. 단 한 명의 선수를 제외하고는 모든 선수가 마라톤을 완주하였습니다.\n",
    "\n",
    "마라톤에 참여한 선수들의 이름이 담긴 배열 participant와 완주한 선수들의 이름이 담긴 배열 completion이 주어질 때, 완주하지 못한 선수의 이름을 return 하도록 solution 함수를 작성해주세요."
   ]
  },
  {
   "cell_type": "markdown",
   "id": "f9926e81",
   "metadata": {},
   "source": [
    "**[제한 사항]**\n",
    "\n",
    "- 마라톤 경기에 참여한 선수의 수는 1명 이상 100,000명 이하입니다.\n",
    "- completion의 길이는 participant의 길이보다 1 작습니다.\n",
    "- 참가자의 이름은 1개 이상 20개 이하의 알파벳 소문자로 이루어져 있습니다.\n",
    "- 참가자 중에는 동명이인이 있을 수 있습니다."
   ]
  },
  {
   "cell_type": "code",
   "execution_count": 1,
   "id": "7ca9d0c6",
   "metadata": {
    "ExecuteTime": {
     "end_time": "2023-01-30T10:55:41.219958Z",
     "start_time": "2023-01-30T10:55:41.206958Z"
    }
   },
   "outputs": [],
   "source": [
    "# My Solution\n",
    "\n",
    "def solution(participant, completion):\n",
    "    participant.sort()\n",
    "    completion.sort()\n",
    "    \n",
    "    for i in range(len(participant)):\n",
    "        try:\n",
    "            if participant[i] != completion[i]:\n",
    "                return participant[i]\n",
    "        except:\n",
    "            return participant[-1]"
   ]
  },
  {
   "cell_type": "code",
   "execution_count": 3,
   "id": "9f32c1f0",
   "metadata": {
    "ExecuteTime": {
     "end_time": "2023-01-30T10:56:15.950229Z",
     "start_time": "2023-01-30T10:56:15.944929Z"
    }
   },
   "outputs": [
    {
     "name": "stdout",
     "output_type": "stream",
     "text": [
      "leo\n",
      "vinko\n",
      "mislav\n"
     ]
    }
   ],
   "source": [
    "print(solution([\"leo\", \"kiki\", \"eden\"], [\"eden\", \"kiki\"])) #\"leo\"\n",
    "print(solution([\"marina\", \"josipa\", \"nikola\", \"vinko\", \"filipa\"], [\"josipa\", \"filipa\", \"marina\", \"nikola\"])) #\"vinko\"\n",
    "print(solution([\"mislav\", \"stanko\", \"mislav\", \"ana\"], [\"stanko\", \"ana\", \"mislav\"])) #\"mislav\""
   ]
  }
 ],
 "metadata": {
  "kernelspec": {
   "display_name": "Python 3 (ipykernel)",
   "language": "python",
   "name": "python3"
  },
  "language_info": {
   "codemirror_mode": {
    "name": "ipython",
    "version": 3
   },
   "file_extension": ".py",
   "mimetype": "text/x-python",
   "name": "python",
   "nbconvert_exporter": "python",
   "pygments_lexer": "ipython3",
   "version": "3.9.16"
  }
 },
 "nbformat": 4,
 "nbformat_minor": 5
}
