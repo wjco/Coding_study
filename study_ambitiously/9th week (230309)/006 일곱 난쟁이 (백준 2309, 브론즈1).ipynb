{
 "cells": [
  {
   "cell_type": "markdown",
   "id": "05f4bf42",
   "metadata": {},
   "source": [
    "# 일곱 난쟁이 (백준 #2309)\n",
    "\n",
    "- 브론즈1\n",
    "- https://www.acmicpc.net/problem/2309"
   ]
  },
  {
   "cell_type": "markdown",
   "id": "96c56950",
   "metadata": {},
   "source": [
    "**[문제]**\n",
    "\n",
    "왕비를 피해 일곱 난쟁이들과 함께 평화롭게 생활하고 있던 백설공주에게 위기가 찾아왔다. 일과를 마치고 돌아온 난쟁이가 일곱 명이 아닌 아홉 명이었던 것이다.\n",
    "\n",
    "아홉 명의 난쟁이는 모두 자신이 \"백설 공주와 일곱 난쟁이\"의 주인공이라고 주장했다. 뛰어난 수학적 직관력을 가지고 있던 백설공주는, 다행스럽게도 일곱 난쟁이의 키의 합이 100이 됨을 기억해 냈다.\n",
    "\n",
    "아홉 난쟁이의 키가 주어졌을 때, 백설공주를 도와 일곱 난쟁이를 찾는 프로그램을 작성하시오."
   ]
  },
  {
   "cell_type": "markdown",
   "id": "394498b9",
   "metadata": {},
   "source": [
    "**[입력]**\n",
    "\n",
    "아홉 개의 줄에 걸쳐 난쟁이들의 키가 주어진다. 주어지는 키는 100을 넘지 않는 자연수이며, 아홉 난쟁이의 키는 모두 다르며, 가능한 정답이 여러 가지인 경우에는 아무거나 출력한다."
   ]
  },
  {
   "cell_type": "markdown",
   "id": "48d8d699",
   "metadata": {},
   "source": [
    "**[출력]**\n",
    "\n",
    "일곱 난쟁이의 키를 오름차순으로 출력한다. 일곱 난쟁이를 찾을 수 없는 경우는 없다."
   ]
  },
  {
   "cell_type": "code",
   "execution_count": 11,
   "id": "b93cd964",
   "metadata": {
    "ExecuteTime": {
     "end_time": "2023-03-07T14:24:36.293210Z",
     "start_time": "2023-03-07T14:24:30.576393Z"
    }
   },
   "outputs": [
    {
     "name": "stdout",
     "output_type": "stream",
     "text": [
      "20\n",
      "7\n",
      "23\n",
      "19\n",
      "10\n",
      "15\n",
      "25\n",
      "8\n",
      "13\n",
      "7\n",
      "8\n",
      "10\n",
      "13\n",
      "19\n",
      "20\n",
      "23\n"
     ]
    }
   ],
   "source": [
    "# My Solution (1) - BFS\n",
    "\n",
    "def combination(visited, answers=[]):\n",
    "    if len(answers) == 2:\n",
    "        if sum(answers) == sum(heights) - 100:\n",
    "            for height in heights:\n",
    "                print(height) if height not in answers else None\n",
    "            return\n",
    "    \n",
    "    new_visited = visited[:] #슬라이싱 = 얕은 복사\n",
    "    for i in range(len(new_visited)):\n",
    "        if new_visited[i] == 0:\n",
    "            new_visited[i] = 1\n",
    "            combination(new_visited, answers + [heights[i]])\n",
    "\n",
    "heights = sorted([int(input()) for _ in range(9)])\n",
    "combination([0 for _ in range(9)])"
   ]
  },
  {
   "cell_type": "code",
   "execution_count": 15,
   "id": "2051352f",
   "metadata": {
    "ExecuteTime": {
     "end_time": "2023-03-07T14:29:50.755821Z",
     "start_time": "2023-03-07T14:29:43.505402Z"
    },
    "scrolled": true
   },
   "outputs": [
    {
     "name": "stdout",
     "output_type": "stream",
     "text": [
      "20\n",
      "7\n",
      "23\n",
      "19\n",
      "10\n",
      "15\n",
      "25\n",
      "8\n",
      "13\n",
      "7\n",
      "8\n",
      "10\n",
      "13\n",
      "19\n",
      "20\n",
      "23\n"
     ]
    }
   ],
   "source": [
    "# My Solution (2) - combinations\n",
    "\n",
    "from itertools import combinations\n",
    "\n",
    "heights = sorted([int(input()) for _ in range(9)])\n",
    "for comb in combinations(heights, 2):\n",
    "    if sum(comb) == sum(heights) - 100:\n",
    "        for height in heights:\n",
    "            print(height) if height not in comb else None"
   ]
  },
  {
   "cell_type": "code",
   "execution_count": 13,
   "id": "23d630a1",
   "metadata": {
    "ExecuteTime": {
     "end_time": "2023-03-07T14:27:06.001977Z",
     "start_time": "2023-03-07T14:26:59.108662Z"
    },
    "scrolled": true
   },
   "outputs": [
    {
     "name": "stdout",
     "output_type": "stream",
     "text": [
      "20\n",
      "7\n",
      "23\n",
      "19\n",
      "10\n",
      "15\n",
      "25\n",
      "8\n",
      "13\n",
      "7\n",
      "8\n",
      "10\n",
      "13\n",
      "19\n",
      "20\n",
      "23\n"
     ]
    }
   ],
   "source": [
    "# My Solution (3) - for문\n",
    "\n",
    "heights = sorted([int(input()) for _ in range(9)])\n",
    "replicas = []\n",
    "\n",
    "is_ckecked = False\n",
    "for i in range(len(heights)):\n",
    "    for j in range(i + 1, len(heights)):\n",
    "        if heights[i] + heights[j] == sum(heights) - 100:\n",
    "            replicas.append(heights[i])\n",
    "            replicas.append(heights[j])\n",
    "            is_ckecked = True\n",
    "            break\n",
    "    if is_ckecked:\n",
    "        break\n",
    "\n",
    "for height in heights:\n",
    "    print(height) if height not in replicas else None"
   ]
  }
 ],
 "metadata": {
  "kernelspec": {
   "display_name": "Python 3 (ipykernel)",
   "language": "python",
   "name": "python3"
  },
  "language_info": {
   "codemirror_mode": {
    "name": "ipython",
    "version": 3
   },
   "file_extension": ".py",
   "mimetype": "text/x-python",
   "name": "python",
   "nbconvert_exporter": "python",
   "pygments_lexer": "ipython3",
   "version": "3.9.0"
  }
 },
 "nbformat": 4,
 "nbformat_minor": 5
}
