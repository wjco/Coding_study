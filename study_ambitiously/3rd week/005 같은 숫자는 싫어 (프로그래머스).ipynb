{
 "cells": [
  {
   "cell_type": "markdown",
   "id": "8a857287",
   "metadata": {},
   "source": [
    "# 같은 숫자는 싫어 (프로그래머스 Lv.1)\n",
    "- 코딩테스트 연습 > 스택/큐 > 같은 숫자는 싫어\n",
    "- https://school.programmers.co.kr/learn/courses/30/lessons/12906"
   ]
  },
  {
   "cell_type": "markdown",
   "id": "c59023fe",
   "metadata": {},
   "source": [
    "**[문제 설명]**\n",
    "\n",
    "\n",
    "배열 arr가 주어집니다. 배열 arr의 각 원소는 숫자 0부터 9까지로 이루어져 있습니다. 이때, 배열 arr에서 연속적으로 나타나는 숫자는 하나만 남기고 전부 제거하려고 합니다. 단, 제거된 후 남은 수들을 반환할 때는 배열 arr의 원소들의 순서를 유지해야 합니다. 예를 들면,\n",
    "\n",
    "- arr = [1, 1, 3, 3, 0, 1, 1] 이면 [1, 3, 0, 1] 을 return 합니다.\n",
    "- arr = [4, 4, 4, 3, 3] 이면 [4, 3] 을 return 합니다.\n",
    "\n",
    "배열 arr에서 연속적으로 나타나는 숫자는 제거하고 남은 수들을 return 하는 solution 함수를 완성해 주세요."
   ]
  },
  {
   "cell_type": "markdown",
   "id": "dc5d28d0",
   "metadata": {},
   "source": [
    "**[제한 사항]**\n",
    "\n",
    "- 배열 arr의 크기 : 1,000,000 이하의 자연수\n",
    "- 배열 arr의 원소의 크기 : 0보다 크거나 같고 9보다 작거나 같은 정수"
   ]
  },
  {
   "cell_type": "code",
   "execution_count": 33,
   "id": "5e8502f3",
   "metadata": {},
   "outputs": [
    {
     "name": "stdout",
     "output_type": "stream",
     "text": [
      "[1, 3, 0, 1]\n",
      "[4, 3]\n"
     ]
    }
   ],
   "source": [
    "# My Solution\n",
    "\n",
    "def solution(arr):\n",
    "    answer = [arr[0]]\n",
    "    for i in arr[1:]:\n",
    "        answer.append(i) if i != answer[-1] else None\n",
    "    return answer\n",
    "\n",
    "print(solution([1,1,3,3,0,1,1])) #[1,3,0,1]\n",
    "print(solution([4,4,4,3,3])) #[4,3]"
   ]
  }
 ],
 "metadata": {
  "kernelspec": {
   "display_name": "Python 3 (ipykernel)",
   "language": "python",
   "name": "python3"
  },
  "language_info": {
   "codemirror_mode": {
    "name": "ipython",
    "version": 3
   },
   "file_extension": ".py",
   "mimetype": "text/x-python",
   "name": "python",
   "nbconvert_exporter": "python",
   "pygments_lexer": "ipython3",
   "version": "3.9.13"
  },
  "toc": {
   "base_numbering": 1,
   "nav_menu": {},
   "number_sections": true,
   "sideBar": true,
   "skip_h1_title": false,
   "title_cell": "Table of Contents",
   "title_sidebar": "Contents",
   "toc_cell": false,
   "toc_position": {},
   "toc_section_display": true,
   "toc_window_display": false
  },
  "varInspector": {
   "cols": {
    "lenName": 16,
    "lenType": 16,
    "lenVar": 40
   },
   "kernels_config": {
    "python": {
     "delete_cmd_postfix": "",
     "delete_cmd_prefix": "del ",
     "library": "var_list.py",
     "varRefreshCmd": "print(var_dic_list())"
    },
    "r": {
     "delete_cmd_postfix": ") ",
     "delete_cmd_prefix": "rm(",
     "library": "var_list.r",
     "varRefreshCmd": "cat(var_dic_list()) "
    }
   },
   "types_to_exclude": [
    "module",
    "function",
    "builtin_function_or_method",
    "instance",
    "_Feature"
   ],
   "window_display": false
  }
 },
 "nbformat": 4,
 "nbformat_minor": 5
}
