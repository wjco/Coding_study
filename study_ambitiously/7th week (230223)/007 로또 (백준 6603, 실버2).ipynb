{
 "cells": [
  {
   "cell_type": "markdown",
   "id": "ff8d0252",
   "metadata": {},
   "source": [
    "# 로또 (백준 #6603)\n",
    "- 실버2\n",
    "- https://www.acmicpc.net/problem/6603"
   ]
  },
  {
   "cell_type": "markdown",
   "id": "f0db6a29",
   "metadata": {},
   "source": [
    "**[문제]**\n",
    "\n",
    "독일 로또는 {1, 2, ..., 49}에서 수 6개를 고른다.\n",
    "\n",
    "로또 번호를 선택하는데 사용되는 가장 유명한 전략은 49가지 수 중 k(k>6)개의 수를 골라 집합 S를 만든 다음 그 수만 가지고 번호를 선택하는 것이다.\n",
    "\n",
    "예를 들어, k=8, S={1,2,3,5,8,13,21,34}인 경우 이 집합 S에서 수를 고를 수 있는 경우의 수는 총 28가지이다. ([1,2,3,5,8,13], [1,2,3,5,8,21], [1,2,3,5,8,34], [1,2,3,5,13,21], ..., [3,5,8,13,21,34])\n",
    "\n",
    "집합 S와 k가 주어졌을 때, 수를 고르는 모든 방법을 구하는 프로그램을 작성하시오."
   ]
  },
  {
   "cell_type": "markdown",
   "id": "510f3a8f",
   "metadata": {},
   "source": [
    "**[입력]**\n",
    "\n",
    "입력은 여러 개의 테스트 케이스로 이루어져 있다. 각 테스트 케이스는 한 줄로 이루어져 있다. 첫 번째 수는 k (6 < k < 13)이고, 다음 k개 수는 집합 S에 포함되는 수이다. S의 원소는 오름차순으로 주어진다.\n",
    "\n",
    "입력의 마지막 줄에는 0이 하나 주어진다."
   ]
  },
  {
   "cell_type": "markdown",
   "id": "47ecce3f",
   "metadata": {},
   "source": [
    "**[출력]**\n",
    "\n",
    "각 테스트 케이스마다 수를 고르는 모든 방법을 출력한다. 이때, 사전 순으로 출력한다.\n",
    "\n",
    "각 테스트 케이스 사이에는 빈 줄을 하나 출력한다."
   ]
  },
  {
   "cell_type": "code",
   "execution_count": 7,
   "id": "b3bd941f",
   "metadata": {
    "ExecuteTime": {
     "end_time": "2023-02-22T11:46:47.311865Z",
     "start_time": "2023-02-22T11:46:46.058376Z"
    }
   },
   "outputs": [
    {
     "name": "stdout",
     "output_type": "stream",
     "text": [
      "7 1 2 3 4 5 6 7\n",
      "1 2 3 4 5 6\n",
      "1 2 3 4 5 7\n",
      "1 2 3 4 6 7\n",
      "1 2 3 5 6 7\n",
      "1 2 4 5 6 7\n",
      "1 3 4 5 6 7\n",
      "2 3 4 5 6 7\n",
      "\n",
      "0\n"
     ]
    }
   ],
   "source": [
    "# My Solution (1) - 반복문\n",
    "\n",
    "while True:\n",
    "    nums = list(map(int, input().split()))\n",
    "    k = nums.pop(0)\n",
    "    \n",
    "    if k == 0:\n",
    "        break\n",
    "    \n",
    "    cases = []\n",
    "    \n",
    "    for i1 in range(len(nums)):\n",
    "        for i2 in range(i1 + 1, len(nums)):\n",
    "            for i3 in range(i2 + 1, len(nums)):\n",
    "                for i4 in range(i3 + 1, len(nums)):\n",
    "                    for i5 in range(i4 + 1, len(nums)):\n",
    "                        for i6 in range(i5 + 1, len(nums)):\n",
    "                            print(nums[i1], nums[i2], nums[i3], nums[i4], nums[i5], nums[i6])\n",
    "                            \n",
    "    print()"
   ]
  },
  {
   "cell_type": "code",
   "execution_count": 24,
   "id": "23a2ace1",
   "metadata": {
    "ExecuteTime": {
     "end_time": "2023-02-23T00:48:41.027963Z",
     "start_time": "2023-02-23T00:48:41.012112Z"
    }
   },
   "outputs": [
    {
     "data": {
      "text/plain": [
       "5"
      ]
     },
     "execution_count": 24,
     "metadata": {},
     "output_type": "execute_result"
    }
   ],
   "source": [
    "def get_target_idx(target_idx, idxs, k):\n",
    "    if idxs[target_idx] <= k:\n",
    "        return target_idx\n",
    "    else:\n",
    "        return get_target_idx(target_idx - 1, idxs, k)\n",
    "    \n",
    "get_target_idx(5, [i for i in range(6)], 6)"
   ]
  },
  {
   "cell_type": "code",
   "execution_count": 31,
   "id": "007e0359",
   "metadata": {
    "ExecuteTime": {
     "end_time": "2023-02-23T00:55:32.280096Z",
     "start_time": "2023-02-23T00:55:29.953897Z"
    },
    "scrolled": false
   },
   "outputs": [
    {
     "name": "stdout",
     "output_type": "stream",
     "text": [
      "7 1 2 3 4 5 6 7\n",
      "[1, 2, 3, 4, 5, 6]\n",
      "5 [0, 1, 2, 3, 4, 5] 6\n",
      "[1, 2, 3, 4, 5, 7]\n",
      "4 [0, 1, 2, 3, 4, 6] 6\n",
      "[1, 2, 3, 4, 6, 7]\n",
      "4 [0, 1, 2, 3, 5, 6] 6\n"
     ]
    },
    {
     "ename": "IndexError",
     "evalue": "list index out of range",
     "output_type": "error",
     "traceback": [
      "\u001b[1;31m---------------------------------------------------------------------------\u001b[0m",
      "\u001b[1;31mIndexError\u001b[0m                                Traceback (most recent call last)",
      "Cell \u001b[1;32mIn[31], line 34\u001b[0m\n\u001b[0;32m     31\u001b[0m \u001b[38;5;28;01mif\u001b[39;00m k \u001b[38;5;241m==\u001b[39m \u001b[38;5;241m0\u001b[39m:\n\u001b[0;32m     32\u001b[0m     \u001b[38;5;28;01mbreak\u001b[39;00m\n\u001b[1;32m---> 34\u001b[0m \u001b[38;5;28mprint\u001b[39m(\u001b[43mlotto\u001b[49m\u001b[43m(\u001b[49m\u001b[43mnums\u001b[49m\u001b[43m,\u001b[49m\u001b[43m \u001b[49m\u001b[43mk\u001b[49m\u001b[43m \u001b[49m\u001b[38;5;241;43m-\u001b[39;49m\u001b[43m \u001b[49m\u001b[38;5;241;43m1\u001b[39;49m\u001b[43m,\u001b[49m\u001b[43m \u001b[49m\u001b[43mk\u001b[49m\u001b[43m \u001b[49m\u001b[38;5;241;43m-\u001b[39;49m\u001b[43m \u001b[49m\u001b[38;5;241;43m2\u001b[39;49m\u001b[43m,\u001b[49m\u001b[43m \u001b[49m\u001b[43m[\u001b[49m\u001b[43mi\u001b[49m\u001b[43m \u001b[49m\u001b[38;5;28;43;01mfor\u001b[39;49;00m\u001b[43m \u001b[49m\u001b[43mi\u001b[49m\u001b[43m \u001b[49m\u001b[38;5;129;43;01min\u001b[39;49;00m\u001b[43m \u001b[49m\u001b[38;5;28;43mrange\u001b[39;49m\u001b[43m(\u001b[49m\u001b[38;5;241;43m6\u001b[39;49m\u001b[43m)\u001b[49m\u001b[43m]\u001b[49m\u001b[43m)\u001b[49m)\n",
      "Cell \u001b[1;32mIn[31], line 25\u001b[0m, in \u001b[0;36mlotto\u001b[1;34m(nums, k, target_idx, idxs, answers)\u001b[0m\n\u001b[0;32m     23\u001b[0m     \u001b[38;5;28;01mfor\u001b[39;00m i \u001b[38;5;129;01min\u001b[39;00m \u001b[38;5;28mrange\u001b[39m(target_idx \u001b[38;5;241m+\u001b[39m \u001b[38;5;241m1\u001b[39m, \u001b[38;5;28mlen\u001b[39m(idxs)):\n\u001b[0;32m     24\u001b[0m         idxs[i] \u001b[38;5;241m=\u001b[39m idxs[i \u001b[38;5;241m-\u001b[39m \u001b[38;5;241m1\u001b[39m] \u001b[38;5;241m+\u001b[39m \u001b[38;5;241m1\u001b[39m\n\u001b[1;32m---> 25\u001b[0m \u001b[38;5;28;01mreturn\u001b[39;00m \u001b[43mlotto\u001b[49m\u001b[43m(\u001b[49m\u001b[43mnums\u001b[49m\u001b[43m,\u001b[49m\u001b[43m \u001b[49m\u001b[43mk\u001b[49m\u001b[43m,\u001b[49m\u001b[43m \u001b[49m\u001b[43mtarget_idx\u001b[49m\u001b[43m,\u001b[49m\u001b[43m \u001b[49m\u001b[43midxs\u001b[49m\u001b[43m,\u001b[49m\u001b[43m \u001b[49m\u001b[43manswers\u001b[49m\u001b[43m)\u001b[49m\n",
      "Cell \u001b[1;32mIn[31], line 25\u001b[0m, in \u001b[0;36mlotto\u001b[1;34m(nums, k, target_idx, idxs, answers)\u001b[0m\n\u001b[0;32m     23\u001b[0m     \u001b[38;5;28;01mfor\u001b[39;00m i \u001b[38;5;129;01min\u001b[39;00m \u001b[38;5;28mrange\u001b[39m(target_idx \u001b[38;5;241m+\u001b[39m \u001b[38;5;241m1\u001b[39m, \u001b[38;5;28mlen\u001b[39m(idxs)):\n\u001b[0;32m     24\u001b[0m         idxs[i] \u001b[38;5;241m=\u001b[39m idxs[i \u001b[38;5;241m-\u001b[39m \u001b[38;5;241m1\u001b[39m] \u001b[38;5;241m+\u001b[39m \u001b[38;5;241m1\u001b[39m\n\u001b[1;32m---> 25\u001b[0m \u001b[38;5;28;01mreturn\u001b[39;00m \u001b[43mlotto\u001b[49m\u001b[43m(\u001b[49m\u001b[43mnums\u001b[49m\u001b[43m,\u001b[49m\u001b[43m \u001b[49m\u001b[43mk\u001b[49m\u001b[43m,\u001b[49m\u001b[43m \u001b[49m\u001b[43mtarget_idx\u001b[49m\u001b[43m,\u001b[49m\u001b[43m \u001b[49m\u001b[43midxs\u001b[49m\u001b[43m,\u001b[49m\u001b[43m \u001b[49m\u001b[43manswers\u001b[49m\u001b[43m)\u001b[49m\n",
      "Cell \u001b[1;32mIn[31], line 25\u001b[0m, in \u001b[0;36mlotto\u001b[1;34m(nums, k, target_idx, idxs, answers)\u001b[0m\n\u001b[0;32m     23\u001b[0m     \u001b[38;5;28;01mfor\u001b[39;00m i \u001b[38;5;129;01min\u001b[39;00m \u001b[38;5;28mrange\u001b[39m(target_idx \u001b[38;5;241m+\u001b[39m \u001b[38;5;241m1\u001b[39m, \u001b[38;5;28mlen\u001b[39m(idxs)):\n\u001b[0;32m     24\u001b[0m         idxs[i] \u001b[38;5;241m=\u001b[39m idxs[i \u001b[38;5;241m-\u001b[39m \u001b[38;5;241m1\u001b[39m] \u001b[38;5;241m+\u001b[39m \u001b[38;5;241m1\u001b[39m\n\u001b[1;32m---> 25\u001b[0m \u001b[38;5;28;01mreturn\u001b[39;00m \u001b[43mlotto\u001b[49m\u001b[43m(\u001b[49m\u001b[43mnums\u001b[49m\u001b[43m,\u001b[49m\u001b[43m \u001b[49m\u001b[43mk\u001b[49m\u001b[43m,\u001b[49m\u001b[43m \u001b[49m\u001b[43mtarget_idx\u001b[49m\u001b[43m,\u001b[49m\u001b[43m \u001b[49m\u001b[43midxs\u001b[49m\u001b[43m,\u001b[49m\u001b[43m \u001b[49m\u001b[43manswers\u001b[49m\u001b[43m)\u001b[49m\n",
      "Cell \u001b[1;32mIn[31], line 11\u001b[0m, in \u001b[0;36mlotto\u001b[1;34m(nums, k, target_idx, idxs, answers)\u001b[0m\n\u001b[0;32m      9\u001b[0m \u001b[38;5;28;01mdef\u001b[39;00m \u001b[38;5;21mlotto\u001b[39m(nums, k, target_idx, idxs, answers\u001b[38;5;241m=\u001b[39m[]):\n\u001b[0;32m     10\u001b[0m \u001b[38;5;66;03m#     answers.append([nums[idx] for idx in idxs])\u001b[39;00m\n\u001b[1;32m---> 11\u001b[0m     \u001b[38;5;28mprint\u001b[39m([nums[idx] \u001b[38;5;28;01mfor\u001b[39;00m idx \u001b[38;5;129;01min\u001b[39;00m idxs])\n\u001b[0;32m     12\u001b[0m \u001b[38;5;66;03m#     print(target_idx, idxs, k)\u001b[39;00m\n\u001b[0;32m     14\u001b[0m     target_idx \u001b[38;5;241m=\u001b[39m get_target_idx(target_idx, idxs, k)\n",
      "Cell \u001b[1;32mIn[31], line 11\u001b[0m, in \u001b[0;36m<listcomp>\u001b[1;34m(.0)\u001b[0m\n\u001b[0;32m      9\u001b[0m \u001b[38;5;28;01mdef\u001b[39;00m \u001b[38;5;21mlotto\u001b[39m(nums, k, target_idx, idxs, answers\u001b[38;5;241m=\u001b[39m[]):\n\u001b[0;32m     10\u001b[0m \u001b[38;5;66;03m#     answers.append([nums[idx] for idx in idxs])\u001b[39;00m\n\u001b[1;32m---> 11\u001b[0m     \u001b[38;5;28mprint\u001b[39m([\u001b[43mnums\u001b[49m\u001b[43m[\u001b[49m\u001b[43midx\u001b[49m\u001b[43m]\u001b[49m \u001b[38;5;28;01mfor\u001b[39;00m idx \u001b[38;5;129;01min\u001b[39;00m idxs])\n\u001b[0;32m     12\u001b[0m \u001b[38;5;66;03m#     print(target_idx, idxs, k)\u001b[39;00m\n\u001b[0;32m     14\u001b[0m     target_idx \u001b[38;5;241m=\u001b[39m get_target_idx(target_idx, idxs, k)\n",
      "\u001b[1;31mIndexError\u001b[0m: list index out of range"
     ]
    }
   ],
   "source": [
    "# My Solution (2) - 재귀함수\n",
    "\n",
    "def get_target_idx(target_idx, idxs, k):\n",
    "    if idxs[target_idx] < k:\n",
    "        return target_idx\n",
    "    else:\n",
    "        return get_target_idx(target_idx - 1, idxs, k)\n",
    "\n",
    "def lotto(nums, k, target_idx, idxs, answers=[]):\n",
    "#     answers.append([nums[idx] for idx in idxs])\n",
    "    print([nums[idx] for idx in idxs])\n",
    "#     print(target_idx, idxs, k)\n",
    "    \n",
    "    target_idx = get_target_idx(target_idx, idxs, k)\n",
    "    print(target_idx, idxs, k)\n",
    "    \n",
    "    if target_idx < 0:\n",
    "        return answers\n",
    "    else:\n",
    "        idxs[target_idx] += 1\n",
    "        #target_idx가 마지막이 아니면 뒤에 애들 싹 밀어줌\n",
    "        if target_idx != len(idxs) - 1:\n",
    "            for i in range(target_idx + 1, len(idxs)):\n",
    "                idxs[i] = idxs[i - 1] + 1\n",
    "        return lotto(nums, k, target_idx, idxs, answers)\n",
    "\n",
    "while True:\n",
    "    nums = list(map(int, input().split()))\n",
    "    k = nums.pop(0)\n",
    "    \n",
    "    if k == 0:\n",
    "        break\n",
    "    \n",
    "    print(lotto(nums, k - 1, k - 2, [i for i in range(6)]))"
   ]
  },
  {
   "cell_type": "code",
   "execution_count": null,
   "id": "4997d48d",
   "metadata": {},
   "outputs": [],
   "source": [
    "7 1 2 3 4 5 6 7"
   ]
  }
 ],
 "metadata": {
  "kernelspec": {
   "display_name": "Python 3 (ipykernel)",
   "language": "python",
   "name": "python3"
  },
  "language_info": {
   "codemirror_mode": {
    "name": "ipython",
    "version": 3
   },
   "file_extension": ".py",
   "mimetype": "text/x-python",
   "name": "python",
   "nbconvert_exporter": "python",
   "pygments_lexer": "ipython3",
   "version": "3.9.16"
  }
 },
 "nbformat": 4,
 "nbformat_minor": 5
}
