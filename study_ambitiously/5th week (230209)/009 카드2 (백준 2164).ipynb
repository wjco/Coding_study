{
 "cells": [
  {
   "cell_type": "markdown",
   "id": "ff8d0252",
   "metadata": {},
   "source": [
    "# 카드2 (백준 #2164)\n",
    "- 실버4\n",
    "- https://www.acmicpc.net/problem/2164"
   ]
  },
  {
   "cell_type": "markdown",
   "id": "f0db6a29",
   "metadata": {},
   "source": [
    "**[문제]**\n",
    "\n",
    "N장의 카드가 있다. 각각의 카드는 차례로 1부터 N까지의 번호가 붙어 있으며, 1번 카드가 제일 위에, N번 카드가 제일 아래인 상태로 순서대로 카드가 놓여 있다.\n",
    "\n",
    "이제 다음과 같은 동작을 카드가 한 장 남을 때까지 반복하게 된다. 우선, 제일 위에 있는 카드를 바닥에 버린다. 그 다음, 제일 위에 있는 카드를 제일 아래에 있는 카드 밑으로 옮긴다.\n",
    "\n",
    "예를 들어 N=4인 경우를 생각해 보자. 카드는 제일 위에서부터 1234 의 순서로 놓여있다. 1을 버리면 234가 남는다. 여기서 2를 제일 아래로 옮기면 342가 된다. 3을 버리면 42가 되고, 4를 밑으로 옮기면 24가 된다. 마지막으로 2를 버리고 나면, 남는 카드는 4가 된다.\n",
    "\n",
    "N이 주어졌을 때, 제일 마지막에 남게 되는 카드를 구하는 프로그램을 작성하시오."
   ]
  },
  {
   "cell_type": "markdown",
   "id": "510f3a8f",
   "metadata": {},
   "source": [
    "**[입력]**\n",
    "\n",
    "첫째 줄에 정수 N(1 ≤ N ≤ 500,000)이 주어진다."
   ]
  },
  {
   "cell_type": "markdown",
   "id": "47ecce3f",
   "metadata": {},
   "source": [
    "**[출력]**\n",
    "\n",
    "첫째 줄에 남게 되는 카드의 번호를 출력한다."
   ]
  },
  {
   "cell_type": "code",
   "execution_count": 40,
   "id": "484ec767",
   "metadata": {
    "ExecuteTime": {
     "end_time": "2023-02-08T14:08:39.306264Z",
     "start_time": "2023-02-08T14:08:38.998209Z"
    }
   },
   "outputs": [
    {
     "name": "stdout",
     "output_type": "stream",
     "text": [
      "6\n",
      "4\n"
     ]
    }
   ],
   "source": [
    "# My Solution (1) - 스택/큐 없이 풀기\n",
    "\n",
    "n = int(input())\n",
    "\n",
    "if n == 1:\n",
    "    print(1)\n",
    "else:\n",
    "    num = 0\n",
    "    while True:\n",
    "        num += 1\n",
    "        if n < (2 ** num):\n",
    "            num -= 1\n",
    "            break\n",
    "        elif n == (2 ** num):\n",
    "            break\n",
    "    print([i for i in range(2, n + 1, 2)][n % (2 ** num) - 1])"
   ]
  },
  {
   "cell_type": "markdown",
   "id": "12cbfefc",
   "metadata": {},
   "source": [
    "**[후기]**\n",
    "\n",
    "n = 1부터 n = 9까지의 경우의 수를 나열하면 아래와 같다.\n",
    "\n",
    "- 1 => 1\n",
    "- 12 => 2\n",
    "- 123 => 2\n",
    "- 1234 => 4\n",
    "- 12345 => 2\n",
    "- 123456 => 4\n",
    "- 1234567 => 6\n",
    "- 12345678 => 8\n",
    "- 123456789 => 2\n",
    "\n",
    "n = 1을 제외하면 홀수는 절대 답으로 출력될 수 없다.\n",
    "홀수들은 모두 버리고, 짝수들은 모두 아래로 옮기기 때문이다.\n",
    "그렇기 때문에 홀수들이 모두 버려지면 2부터 시작하는 새로운 큐가 돈다.\n",
    "\n",
    "그 다음에도 하나 버리고, 하나 아래로 옮기는 식으로 진행하기 때문에\n",
    "결국 매 사이클을 돌 때마다 큐의 길이가 //2 가 된다.\n",
    "\n",
    "그렇다면 결국 최종 사이클을 돌린 뒤에 살아남은 애는\n",
    "'n과 가까운 2의 거듭제곱'으로 나눈 나머지가 됨을 파악할 수 있다.\n",
    "\n",
    "**전종민 이겨먹으려고 아득바득 collection 안 썼다.**"
   ]
  },
  {
   "cell_type": "code",
   "execution_count": 41,
   "id": "b3bd941f",
   "metadata": {
    "ExecuteTime": {
     "end_time": "2023-02-08T14:17:34.983797Z",
     "start_time": "2023-02-08T14:17:33.573474Z"
    }
   },
   "outputs": [
    {
     "name": "stdout",
     "output_type": "stream",
     "text": [
      "6\n",
      "4\n"
     ]
    }
   ],
   "source": [
    "# My Solution (2) - 스택/큐 넣는 순간 \"시간 초과\"\n",
    "\n",
    "class MyQue(list):\n",
    "    \n",
    "    put = list.append\n",
    "    \n",
    "    def peek(self):\n",
    "        return self[0]\n",
    "    \n",
    "    def get(self):\n",
    "        return self.pop(0)\n",
    "\n",
    "n = int(input())\n",
    "que = MyQue(range(1, n + 1))\n",
    "\n",
    "while len(que) > 1:\n",
    "    que.get()\n",
    "    que.put(que.get())\n",
    "\n",
    "print(que.peek())"
   ]
  },
  {
   "cell_type": "code",
   "execution_count": 17,
   "id": "59420eb2",
   "metadata": {
    "ExecuteTime": {
     "end_time": "2023-02-08T14:02:38.882228Z",
     "start_time": "2023-02-08T14:02:38.868097Z"
    }
   },
   "outputs": [
    {
     "name": "stdout",
     "output_type": "stream",
     "text": [
      "====================\n",
      "[16]\n",
      "16\n",
      "16\n",
      "====================\n",
      "[17]\n",
      "2\n",
      "2\n",
      "====================\n",
      "[18]\n",
      "4\n",
      "4\n",
      "====================\n",
      "[19]\n",
      "6\n",
      "6\n",
      "====================\n",
      "[20]\n",
      "8\n",
      "8\n",
      "====================\n",
      "[21]\n",
      "10\n",
      "10\n",
      "====================\n",
      "[22]\n",
      "12\n",
      "12\n",
      "====================\n",
      "[23]\n",
      "14\n",
      "14\n",
      "====================\n",
      "[24]\n",
      "16\n",
      "16\n",
      "====================\n",
      "[25]\n",
      "18\n",
      "18\n",
      "====================\n",
      "[26]\n",
      "20\n",
      "20\n",
      "====================\n",
      "[27]\n",
      "22\n",
      "22\n",
      "====================\n",
      "[28]\n",
      "24\n",
      "24\n",
      "====================\n",
      "[29]\n",
      "26\n",
      "26\n",
      "====================\n",
      "[30]\n",
      "28\n",
      "28\n",
      "====================\n",
      "[31]\n",
      "30\n",
      "30\n",
      "====================\n",
      "[32]\n",
      "32\n",
      "32\n"
     ]
    }
   ],
   "source": [
    "# test\n",
    "class MyQue(list):\n",
    "    \n",
    "    put = list.append\n",
    "    \n",
    "    def peek(self):\n",
    "        return self[0]\n",
    "    \n",
    "    def get(self):\n",
    "        return self.pop(0)\n",
    "\n",
    "for i in range(16, 33):\n",
    "    n = i\n",
    "    que = MyQue(range(1, n + 1))\n",
    "\n",
    "    while len(que) > 1:\n",
    "        que.get()\n",
    "        que.put(que.get())\n",
    "\n",
    "    print(\"=\" * 20)\n",
    "    print(f\"[{i}]\")\n",
    "    print(que.peek())\n",
    "    print([i for i in range(2, n + 1, 2)][n % 16 - 1])"
   ]
  }
 ],
 "metadata": {
  "kernelspec": {
   "display_name": "Python 3 (ipykernel)",
   "language": "python",
   "name": "python3"
  },
  "language_info": {
   "codemirror_mode": {
    "name": "ipython",
    "version": 3
   },
   "file_extension": ".py",
   "mimetype": "text/x-python",
   "name": "python",
   "nbconvert_exporter": "python",
   "pygments_lexer": "ipython3",
   "version": "3.9.16"
  }
 },
 "nbformat": 4,
 "nbformat_minor": 5
}
