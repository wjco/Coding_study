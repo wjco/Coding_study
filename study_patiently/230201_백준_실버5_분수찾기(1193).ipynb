{
 "cells": [
  {
   "cell_type": "markdown",
   "id": "e02a8521",
   "metadata": {},
   "source": [
    "# 분수찾기 (백준 #1193)\n",
    "- 실버5\n",
    "- https://www.acmicpc.net/problem/1193"
   ]
  },
  {
   "cell_type": "markdown",
   "id": "16f9853a",
   "metadata": {},
   "source": [
    "**[문제]**\n",
    "\n",
    "무한히 큰 배열에 다음과 같이 분수들이 적혀있다.\n",
    "\n",
    "1/1\t1/2\t1/3\t1/4\t1/5\t…\n",
    "\n",
    "2/1\t2/2\t2/3\t2/4\t…\t…\n",
    "\n",
    "3/1\t3/2\t3/3\t…\t…\t…\n",
    "\n",
    "4/1\t4/2\t…\t…\t…\t…\n",
    "\n",
    "5/1\t…\t…\t…\t…\t…\n",
    "\n",
    "…\t…\t…\t…\t…\t…\n",
    "\n",
    "이와 같이 나열된 분수들을 1/1 → 1/2 → 2/1 → 3/1 → 2/2 → … 과 같은 지그재그 순서로 차례대로 1번, 2번, 3번, 4번, 5번, … 분수라고 하자.\n",
    "\n",
    "X가 주어졌을 때, X번째 분수를 구하는 프로그램을 작성하시오."
   ]
  },
  {
   "cell_type": "markdown",
   "id": "83ac1bd7",
   "metadata": {},
   "source": [
    "**[입력]**\n",
    "\n",
    "첫째 줄에 X(1 ≤ X ≤ 10,000,000)가 주어진다."
   ]
  },
  {
   "cell_type": "markdown",
   "id": "ebacb277",
   "metadata": {},
   "source": [
    "**[출력]**\n",
    "\n",
    "첫째 줄에 분수를 출력한다."
   ]
  },
  {
   "cell_type": "code",
   "execution_count": 53,
   "id": "96f51750",
   "metadata": {
    "ExecuteTime": {
     "end_time": "2023-02-01T08:29:40.366169Z",
     "start_time": "2023-02-01T08:29:38.625434Z"
    }
   },
   "outputs": [
    {
     "name": "stdout",
     "output_type": "stream",
     "text": [
      "14\n",
      "2/4\n"
     ]
    }
   ],
   "source": [
    "# My Solution\n",
    "\n",
    "x = int(input())\n",
    "num = 0\n",
    "sum_num = 0\n",
    "\n",
    "for i in range(1, x + 1):\n",
    "    sum_num += i\n",
    "    if sum_num >= x:\n",
    "        num = i\n",
    "        break\n",
    "num += 1\n",
    "\n",
    "if num % 2:\n",
    "    bunmo = sum_num - x + 1\n",
    "    bunza = num - bunmo\n",
    "else:\n",
    "    bunza = sum_num - x + 1\n",
    "    bunmo = num - bunza\n",
    "\n",
    "print(f\"{bunza}/{bunmo}\")"
   ]
  },
  {
   "cell_type": "markdown",
   "id": "256e6bbe",
   "metadata": {},
   "source": [
    "같은 대각선에 있는 분수들은 분자와 분모의 합이 같다. 또한 이렇게 분자와 분모의 합을 공유하는 분수의 개수가 1개, 2개, 3개, ... 순서로 증가한다. 이를 활용하면 x번째 분수의 분자와 분모의 합(=num)을 구할 수 있다.\n",
    "\n",
    "단, 분수를 지그재그로 세기 때문에 방향이 매번 반대가 되는 점을 고려해야 한다. 즉, 분자를 오름차순으로 센 다음 대각선에서는 내림차순으로 세어야 한다. 이를 코드로 표현하기 위해 num이 홀수인 경우와 짝수인 경우로 분리하여 생각했다."
   ]
  }
 ],
 "metadata": {
  "kernelspec": {
   "display_name": "Python 3 (ipykernel)",
   "language": "python",
   "name": "python3"
  },
  "language_info": {
   "codemirror_mode": {
    "name": "ipython",
    "version": 3
   },
   "file_extension": ".py",
   "mimetype": "text/x-python",
   "name": "python",
   "nbconvert_exporter": "python",
   "pygments_lexer": "ipython3",
   "version": "3.9.16"
  }
 },
 "nbformat": 4,
 "nbformat_minor": 5
}
