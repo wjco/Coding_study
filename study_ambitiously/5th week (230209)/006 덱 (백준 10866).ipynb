{
 "cells": [
  {
   "cell_type": "markdown",
   "id": "ff8d0252",
   "metadata": {},
   "source": [
    "# 덱 (백준 #10866)\n",
    "- 실버4\n",
    "- https://www.acmicpc.net/problem/10866"
   ]
  },
  {
   "cell_type": "markdown",
   "id": "f0db6a29",
   "metadata": {},
   "source": [
    "**[문제]**\n",
    "\n",
    "정수를 저장하는 덱(Deque)를 구현한 다음, 입력으로 주어지는 명령을 처리하는 프로그램을 작성하시오.\n",
    "\n",
    "명령은 총 여덟 가지이다.\n",
    "\n",
    "- push_front X: 정수 X를 덱의 앞에 넣는다.\n",
    "- push_back X: 정수 X를 덱의 뒤에 넣는다.\n",
    "- pop_front: 덱의 가장 앞에 있는 수를 빼고, 그 수를 출력한다. 만약, 덱에 들어있는 정수가 없는 경우에는 -1을 출력한다.\n",
    "- pop_back: 덱의 가장 뒤에 있는 수를 빼고, 그 수를 출력한다. 만약, 덱에 들어있는 정수가 없는 경우에는 -1을 출력한다.\n",
    "- size: 덱에 들어있는 정수의 개수를 출력한다.\n",
    "- empty: 덱이 비어있으면 1을, 아니면 0을 출력한다.\n",
    "- front: 덱의 가장 앞에 있는 정수를 출력한다. 만약 덱에 들어있는 정수가 없는 경우에는 -1을 출력한다.\n",
    "- back: 덱의 가장 뒤에 있는 정수를 출력한다. 만약 덱에 들어있는 정수가 없는 경우에는 -1을 출력한다."
   ]
  },
  {
   "cell_type": "markdown",
   "id": "510f3a8f",
   "metadata": {},
   "source": [
    "**[입력]**\n",
    "\n",
    "첫째 줄에 주어지는 명령의 수 N (1 ≤ N ≤ 10,000)이 주어진다. 둘째 줄부터 N개의 줄에는 명령이 하나씩 주어진다. 주어지는 정수는 1보다 크거나 같고, 100,000보다 작거나 같다. 문제에 나와있지 않은 명령이 주어지는 경우는 없다."
   ]
  },
  {
   "cell_type": "markdown",
   "id": "47ecce3f",
   "metadata": {},
   "source": [
    "**[출력]**\n",
    "\n",
    "출력해야하는 명령이 주어질 때마다, 한 줄에 하나씩 출력한다."
   ]
  },
  {
   "cell_type": "code",
   "execution_count": 29,
   "id": "945c012d",
   "metadata": {
    "ExecuteTime": {
     "end_time": "2023-02-08T08:41:12.356637Z",
     "start_time": "2023-02-08T08:40:08.809260Z"
    }
   },
   "outputs": [
    {
     "name": "stdout",
     "output_type": "stream",
     "text": [
      "15\n",
      "push_back 1\n",
      "push_front 2\n",
      "front\n",
      "2\n",
      "back\n",
      "1\n",
      "size\n",
      "2\n",
      "empty\n",
      "0\n",
      "pop_front\n",
      "2\n",
      "pop_back\n",
      "1\n",
      "pop_front\n",
      "-1\n",
      "size\n",
      "0\n",
      "empty\n",
      "1\n",
      "pop_back\n",
      "-1\n",
      "push_front 3\n",
      "empty\n",
      "0\n",
      "front\n",
      "3\n"
     ]
    }
   ],
   "source": [
    "# import sys\n",
    "\n",
    "class Deque(list):\n",
    "    def push_front(self, num):\n",
    "        self.insert(0, num)\n",
    "        \n",
    "    push_back = list.append\n",
    "    \n",
    "    def pop_front(self):\n",
    "        return self.pop(0) if self else -1\n",
    "    \n",
    "    def pop_back(self):\n",
    "        return self.pop() if self else -1\n",
    "    \n",
    "    def size(self):\n",
    "        return len(self)\n",
    "    \n",
    "    def empty(self):\n",
    "        return 0 if self else 1\n",
    "    \n",
    "    def front(self):\n",
    "        return self[0] if self else -1\n",
    "    \n",
    "    def back(self):\n",
    "        return self[-1] if self else -1\n",
    "\n",
    "n = int(input())\n",
    "d = Deque()\n",
    "\n",
    "for _ in range(n):\n",
    "#     command = sys.stdin.readline().split()\n",
    "    command = input().split()\n",
    "    \n",
    "    if command[0] == 'push_front':\n",
    "        d.push_front(int(command[1]))\n",
    "        \n",
    "    elif command[0] == 'push_back':\n",
    "        d.push_back(int(command[1]))\n",
    "        \n",
    "    elif command[0] == 'pop_front':\n",
    "        print(d.pop_front())\n",
    "        \n",
    "    elif command[0] == 'pop_back':\n",
    "        print(d.pop_back())\n",
    "        \n",
    "    elif command[0] == 'size':\n",
    "        print(d.size())\n",
    "        \n",
    "    elif command[0] == 'empty':\n",
    "        print(d.empty())\n",
    "        \n",
    "    elif command[0] == 'front':\n",
    "        print(d.front())\n",
    "        \n",
    "    elif command[0] == 'back':\n",
    "        print(d.back())"
   ]
  }
 ],
 "metadata": {
  "kernelspec": {
   "display_name": "Python 3 (ipykernel)",
   "language": "python",
   "name": "python3"
  },
  "language_info": {
   "codemirror_mode": {
    "name": "ipython",
    "version": 3
   },
   "file_extension": ".py",
   "mimetype": "text/x-python",
   "name": "python",
   "nbconvert_exporter": "python",
   "pygments_lexer": "ipython3",
   "version": "3.9.16"
  }
 },
 "nbformat": 4,
 "nbformat_minor": 5
}
