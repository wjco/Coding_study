{
 "cells": [
  {
   "cell_type": "markdown",
   "id": "ff8d0252",
   "metadata": {},
   "source": [
    "# DFS와 BFS (백준 #1260)\n",
    "- 실버2\n",
    "- https://www.acmicpc.net/problem/1260"
   ]
  },
  {
   "cell_type": "markdown",
   "id": "f0db6a29",
   "metadata": {},
   "source": [
    "**[문제]**\n",
    "\n",
    "그래프를 DFS로 탐색한 결과와 BFS로 탐색한 결과를 출력하는 프로그램을 작성하시오. 단, 방문할 수 있는 정점이 여러 개인 경우에는 정점 번호가 작은 것을 먼저 방문하고, 더 이상 방문할 수 있는 점이 없는 경우 종료한다. 정점 번호는 1번부터 N번까지이다."
   ]
  },
  {
   "cell_type": "markdown",
   "id": "510f3a8f",
   "metadata": {},
   "source": [
    "**[입력]**\n",
    "\n",
    "첫째 줄에 정점의 개수 N(1 ≤ N ≤ 1,000), 간선의 개수 M(1 ≤ M ≤ 10,000), 탐색을 시작할 정점의 번호 V가 주어진다. 다음 M개의 줄에는 간선이 연결하는 두 정점의 번호가 주어진다. 어떤 두 정점 사이에 여러 개의 간선이 있을 수 있다. 입력으로 주어지는 간선은 양방향이다."
   ]
  },
  {
   "cell_type": "markdown",
   "id": "47ecce3f",
   "metadata": {},
   "source": [
    "**[출력]**\n",
    "\n",
    "첫째 줄에 DFS를 수행한 결과를, 그 다음 줄에는 BFS를 수행한 결과를 출력한다. V부터 방문된 점을 순서대로 출력하면 된다."
   ]
  },
  {
   "cell_type": "code",
   "execution_count": 2,
   "id": "b3bd941f",
   "metadata": {
    "ExecuteTime": {
     "end_time": "2023-03-02T03:34:52.940369Z",
     "start_time": "2023-03-02T03:34:47.529446Z"
    }
   },
   "outputs": [
    {
     "name": "stdout",
     "output_type": "stream",
     "text": [
      "4 5 1\n",
      "1 2\n",
      "1 3\n",
      "1 4\n",
      "2 4\n",
      "3 4\n",
      "1 2 4 3 \n",
      "1 2 3 4 "
     ]
    }
   ],
   "source": [
    "# My Solution\n",
    "\n",
    "def dfs(now, links, visited):\n",
    "    print(now + 1, end=' ')\n",
    "    visited[now] = 1\n",
    "    for i in range(n):\n",
    "        check = (links[now][i] == 1) and (visited[i] == 0)\n",
    "        if check:\n",
    "            dfs(i, links, visited)\n",
    "    \n",
    "def bfs(now, links, visited):\n",
    "    who_is_next = [now]\n",
    "    visited[now] = 1\n",
    "    while True:\n",
    "        now = who_is_next.pop(0)\n",
    "        print(now + 1, end=' ')\n",
    "        for i in range(n):\n",
    "            check = (links[now][i] == 1) and (visited[i] == 0)\n",
    "            if check:\n",
    "                who_is_next.append(i)\n",
    "                visited[i] = 1\n",
    "        if len(who_is_next) <= 0:\n",
    "            break\n",
    "            \n",
    "n, m, v = map(int, input().split())\n",
    "links = [[0 for _ in range(n)] for __ in range(n)] #인접행렬\n",
    "for _ in range(m):\n",
    "    link_a, link_b = map(int, input().split())\n",
    "    links[link_a - 1][link_b - 1] = 1\n",
    "    links[link_b - 1][link_a - 1] = 1\n",
    "\n",
    "dfs(v - 1, links, [0 for _ in range(n)])\n",
    "print('')\n",
    "bfs(v - 1, links, [0 for _ in range(n)])"
   ]
  }
 ],
 "metadata": {
  "kernelspec": {
   "display_name": "Python 3 (ipykernel)",
   "language": "python",
   "name": "python3"
  },
  "language_info": {
   "codemirror_mode": {
    "name": "ipython",
    "version": 3
   },
   "file_extension": ".py",
   "mimetype": "text/x-python",
   "name": "python",
   "nbconvert_exporter": "python",
   "pygments_lexer": "ipython3",
   "version": "3.9.0"
  }
 },
 "nbformat": 4,
 "nbformat_minor": 5
}
