{
 "cells": [
  {
   "cell_type": "markdown",
   "id": "b5fd7078",
   "metadata": {},
   "source": [
    "# 피보나치 수 (프로그래머스 Lv.2)\n",
    "- 코딩테스트 연습 > 연습문제 > 피보나치 수\n",
    "- https://school.programmers.co.kr/learn/courses/30/lessons/12945"
   ]
  },
  {
   "cell_type": "markdown",
   "id": "a1c6431c",
   "metadata": {},
   "source": [
    "**[문제 설명]**\n",
    "\n",
    "피보나치 수는 F(0) = 0, F(1) = 1일 때, 1 이상의 n에 대하여 F(n) = F(n-1) + F(n-2) 가 적용되는 수 입니다.\n",
    "\n",
    "예를 들어\n",
    "\n",
    "- F(2) = F(0) + F(1) = 0 + 1 = 1\n",
    "- F(3) = F(1) + F(2) = 1 + 1 = 2\n",
    "- F(4) = F(2) + F(3) = 1 + 2 = 3\n",
    "- F(5) = F(3) + F(4) = 2 + 3 = 5\n",
    "\n",
    "와 같이 이어집니다.\n",
    "\n",
    "2 이상의 n이 입력되었을 때, n번째 피보나치 수를 1234567으로 나눈 나머지를 리턴하는 함수, solution을 완성해 주세요."
   ]
  },
  {
   "cell_type": "markdown",
   "id": "155aef63",
   "metadata": {},
   "source": [
    "**[제한 사항]**\n",
    "\n",
    "- n은 2 이상 100,000 이하인 자연수입니다."
   ]
  },
  {
   "cell_type": "code",
   "execution_count": 2,
   "id": "c60d6376",
   "metadata": {
    "ExecuteTime": {
     "end_time": "2023-02-01T02:20:48.983283Z",
     "start_time": "2023-02-01T02:20:48.977303Z"
    }
   },
   "outputs": [],
   "source": [
    "# My Solution\n",
    "\n",
    "def solution(n):\n",
    "    nums = [0, 1]\n",
    "    for i in range(2, n + 1):\n",
    "        nums.append(nums[i - 2] + nums[i - 1])\n",
    "    return nums[-1] % 1234567"
   ]
  },
  {
   "cell_type": "code",
   "execution_count": 4,
   "id": "7d9e64d6",
   "metadata": {
    "ExecuteTime": {
     "end_time": "2023-02-01T02:22:28.888233Z",
     "start_time": "2023-02-01T02:22:28.880829Z"
    },
    "scrolled": true
   },
   "outputs": [
    {
     "name": "stdout",
     "output_type": "stream",
     "text": [
      "2\n",
      "5\n"
     ]
    }
   ],
   "source": [
    "print(solution(3)) #2\n",
    "print(solution(5)) #5"
   ]
  },
  {
   "cell_type": "markdown",
   "id": "52a89764",
   "metadata": {},
   "source": [
    "n번째 피보나치 수를 구한 뒤 1234567로 나눈 나머지를 출력하도록 했다. 근데 보니까 n에 가장 큰 수(100000)가 들어오더라도 그 값이 1168141로 1234567보다 작다. 즉, 굳이 안 나눠도 어차피 그게 나머지다."
   ]
  },
  {
   "cell_type": "code",
   "execution_count": 7,
   "id": "99fa413b",
   "metadata": {
    "ExecuteTime": {
     "end_time": "2023-02-01T02:22:28.525119Z",
     "start_time": "2023-02-01T02:22:28.514220Z"
    }
   },
   "outputs": [],
   "source": [
    "# Best Solution\n",
    "\n",
    "def solution(n):\n",
    "    a, b = 0, 1\n",
    "    for _ in range(2, n + 1):\n",
    "        a, b = b, a + b\n",
    "    return b"
   ]
  },
  {
   "cell_type": "code",
   "execution_count": 8,
   "id": "f83a0a75",
   "metadata": {
    "ExecuteTime": {
     "end_time": "2023-02-01T02:22:28.888233Z",
     "start_time": "2023-02-01T02:22:28.880829Z"
    },
    "scrolled": true
   },
   "outputs": [
    {
     "name": "stdout",
     "output_type": "stream",
     "text": [
      "2\n",
      "5\n"
     ]
    }
   ],
   "source": [
    "print(solution(3)) #2\n",
    "print(solution(5)) #5"
   ]
  },
  {
   "cell_type": "markdown",
   "id": "1ae94dd3",
   "metadata": {},
   "source": [
    "파이썬의 특징을 이용해서 a, b의 값을 바꿔주면서 간편하게 연산할 수 있다. 이렇게 하면 **굳이 메모리에 이전 값들을 모두 저장할 필요가 없다...!**"
   ]
  }
 ],
 "metadata": {
  "kernelspec": {
   "display_name": "Python 3 (ipykernel)",
   "language": "python",
   "name": "python3"
  },
  "language_info": {
   "codemirror_mode": {
    "name": "ipython",
    "version": 3
   },
   "file_extension": ".py",
   "mimetype": "text/x-python",
   "name": "python",
   "nbconvert_exporter": "python",
   "pygments_lexer": "ipython3",
   "version": "3.9.16"
  }
 },
 "nbformat": 4,
 "nbformat_minor": 5
}
