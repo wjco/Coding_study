{
 "cells": [
  {
   "cell_type": "markdown",
   "id": "12a2580f",
   "metadata": {},
   "source": [
    "# 부족한 금액 계산하기 (프로그래머스 Lv.1)\n",
    "\n",
    "- 코딩테스트 연습 > 위클리 챌린지 > 부족한 금액 계산하기\n",
    "- https://school.programmers.co.kr/learn/courses/30/lessons/82612"
   ]
  },
  {
   "cell_type": "markdown",
   "id": "b0568359",
   "metadata": {},
   "source": [
    "**[문제 설명]**\n",
    "\n",
    "새로 생긴 놀이기구는 인기가 매우 많아 줄이 끊이질 않습니다. 이 놀이기구의 원래 이용료는 price원 인데, 놀이기구를 N 번 째 이용한다면 원래 이용료의 N배를 받기로 하였습니다. 즉, 처음 이용료가 100이었다면 2번째에는 200, 3번째에는 300으로 요금이 인상됩니다.\n",
    "\n",
    "놀이기구를 count번 타게 되면 현재 자신이 가지고 있는 금액에서 얼마가 모자라는지를 return 하도록 solution 함수를 완성하세요.\n",
    "\n",
    "단, 금액이 부족하지 않으면 0을 return 하세요."
   ]
  },
  {
   "cell_type": "markdown",
   "id": "f9926e81",
   "metadata": {},
   "source": [
    "**[제한 사항]**\n",
    "\n",
    "- 놀이기구의 이용료 price : 1 ≤ price ≤ 2,500, price는 자연수\n",
    "- 처음 가지고 있던 금액 money : 1 ≤ money ≤ 1,000,000,000, money는 자연수\n",
    "- 놀이기구의 이용 횟수 count : 1 ≤ count ≤ 2,500, count는 자연수"
   ]
  },
  {
   "cell_type": "code",
   "execution_count": 12,
   "id": "7ca9d0c6",
   "metadata": {
    "ExecuteTime": {
     "end_time": "2023-02-10T13:42:07.443627Z",
     "start_time": "2023-02-10T13:42:07.434028Z"
    }
   },
   "outputs": [],
   "source": [
    "# My Solution (1)\n",
    "\n",
    "def solution(price, money, count):\n",
    "    price_cal = 0\n",
    "    \n",
    "    for i in range(1, count + 1):\n",
    "        price_cal += price * i\n",
    "        \n",
    "    price_cal -= money\n",
    "    \n",
    "    if price_cal <= 0:\n",
    "        return 0\n",
    "    else:\n",
    "        return price_cal"
   ]
  },
  {
   "cell_type": "code",
   "execution_count": 13,
   "id": "9f32c1f0",
   "metadata": {
    "ExecuteTime": {
     "end_time": "2023-02-10T13:42:07.766489Z",
     "start_time": "2023-02-10T13:42:07.757210Z"
    }
   },
   "outputs": [
    {
     "name": "stdout",
     "output_type": "stream",
     "text": [
      "10\n"
     ]
    }
   ],
   "source": [
    "print(solution(3, 20, 4)) #10"
   ]
  },
  {
   "cell_type": "markdown",
   "id": "9a22ad6f",
   "metadata": {},
   "source": [
    "문제에선 착하게도 count를 최대 2500밖에 안 줬지만 만약에 사악하게 10000000 이런 숫자를 줬다면...? 아마 시간 초과가 났을 것"
   ]
  },
  {
   "cell_type": "code",
   "execution_count": 18,
   "id": "f61d066b",
   "metadata": {
    "ExecuteTime": {
     "end_time": "2023-02-10T13:44:54.898701Z",
     "start_time": "2023-02-10T13:44:54.882882Z"
    }
   },
   "outputs": [],
   "source": [
    "# My Solution (2)\n",
    "\n",
    "def solution(price, money, count):\n",
    "    price_cal = (price * count * (count + 1) // 2) - money\n",
    "    return 0 if price_cal <= 0 else price_cal"
   ]
  },
  {
   "cell_type": "code",
   "execution_count": 19,
   "id": "1fd489c3",
   "metadata": {
    "ExecuteTime": {
     "end_time": "2023-02-10T13:44:55.142109Z",
     "start_time": "2023-02-10T13:44:55.133761Z"
    }
   },
   "outputs": [
    {
     "name": "stdout",
     "output_type": "stream",
     "text": [
      "10\n"
     ]
    }
   ],
   "source": [
    "print(solution(3, 20, 4)) #10"
   ]
  },
  {
   "cell_type": "markdown",
   "id": "483993ca",
   "metadata": {},
   "source": [
    "놀이기구의 이용료는 1번 탈 때마다 price원씩 증가하는 등차수열이다.\n",
    "\n",
    "$$\\sum_{k=1}^{n} k = \\frac{n(n+1)}{2}$$\n",
    "\n",
    "이를 이용하면 for문 최대 2500번 돌리는 연산을 단 한 줄로 해결할 수 있다."
   ]
  }
 ],
 "metadata": {
  "kernelspec": {
   "display_name": "Python 3 (ipykernel)",
   "language": "python",
   "name": "python3"
  },
  "language_info": {
   "codemirror_mode": {
    "name": "ipython",
    "version": 3
   },
   "file_extension": ".py",
   "mimetype": "text/x-python",
   "name": "python",
   "nbconvert_exporter": "python",
   "pygments_lexer": "ipython3",
   "version": "3.9.16"
  }
 },
 "nbformat": 4,
 "nbformat_minor": 5
}
