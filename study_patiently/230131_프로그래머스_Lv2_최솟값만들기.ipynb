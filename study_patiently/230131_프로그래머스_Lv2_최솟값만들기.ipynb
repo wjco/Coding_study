{
 "cells": [
  {
   "cell_type": "markdown",
   "id": "b5fd7078",
   "metadata": {},
   "source": [
    "# 최솟값 만들기 (프로그래머스 Lv.2)\n",
    "- 코딩테스트 연습 > 연습문제 > 최솟값 만들기\n",
    "- https://school.programmers.co.kr/learn/courses/30/lessons/12941"
   ]
  },
  {
   "cell_type": "markdown",
   "id": "a1c6431c",
   "metadata": {},
   "source": [
    "**[문제 설명]**\n",
    "\n",
    "길이가 같은 배열 A, B 두개가 있습니다. 각 배열은 자연수로 이루어져 있습니다.\n",
    "배열 A, B에서 각각 한 개의 숫자를 뽑아 두 수를 곱합니다. 이러한 과정을 배열의 길이만큼 반복하며, 두 수를 곱한 값을 누적하여 더합니다. 이때 최종적으로 누적된 값이 최소가 되도록 만드는 것이 목표입니다. (단, 각 배열에서 k번째 숫자를 뽑았다면 다음에 k번째 숫자는 다시 뽑을 수 없습니다.)\n",
    "\n",
    "예를 들어 A = [1, 4, 2] , B = [5, 4, 4] 라면\n",
    "\n",
    "- A에서 첫번째 숫자인 1, B에서 첫번째 숫자인 5를 뽑아 곱하여 더합니다. (누적된 값 : 0 + 5(1x5) = 5)\n",
    "- A에서 두번째 숫자인 4, B에서 세번째 숫자인 4를 뽑아 곱하여 더합니다. (누적된 값 : 5 + 16(4x4) = 21)\n",
    "- A에서 세번째 숫자인 2, B에서 두번째 숫자인 4를 뽑아 곱하여 더합니다. (누적된 값 : 21 + 8(2x4) = 29)\n",
    "\n",
    "즉, 이 경우가 최소가 되므로 29를 return 합니다.\n",
    "\n",
    "배열 A, B가 주어질 때 최종적으로 누적된 최솟값을 return 하는 solution 함수를 완성해 주세요."
   ]
  },
  {
   "cell_type": "markdown",
   "id": "155aef63",
   "metadata": {},
   "source": [
    "**[제한 사항]**\n",
    "\n",
    "- 배열 A, B의 크기 : 1,000 이하의 자연수\n",
    "- 배열 A, B의 원소의 크기 : 1,000 이하의 자연수"
   ]
  },
  {
   "cell_type": "code",
   "execution_count": 14,
   "id": "c60d6376",
   "metadata": {
    "ExecuteTime": {
     "end_time": "2023-01-31T07:53:10.036652Z",
     "start_time": "2023-01-31T07:53:10.030323Z"
    }
   },
   "outputs": [],
   "source": [
    "# My Solution\n",
    "\n",
    "def solution(A,B):\n",
    "    A.sort()\n",
    "    B.sort()\n",
    "    answer = 0\n",
    "    \n",
    "    for i in range(len(A)):\n",
    "        answer += A[i] * B[-i-1]\n",
    "\n",
    "    return answer"
   ]
  },
  {
   "cell_type": "code",
   "execution_count": 15,
   "id": "aa8cbb37",
   "metadata": {
    "ExecuteTime": {
     "end_time": "2023-01-31T07:57:08.057381Z",
     "start_time": "2023-01-31T07:57:08.046663Z"
    },
    "scrolled": true
   },
   "outputs": [
    {
     "name": "stdout",
     "output_type": "stream",
     "text": [
      "29\n",
      "10\n"
     ]
    }
   ],
   "source": [
    "print(solution([1, 4, 2], [5, 4, 4])) #29\n",
    "print(solution([1,2], [3,4])) #10"
   ]
  },
  {
   "cell_type": "markdown",
   "id": "52a89764",
   "metadata": {},
   "source": [
    "가장 큰 수와 가장 작은 수를 곱한 뒤, 그 다음 큰 수와 그 다음 작은 수를 곱하는 식으로 연산하는 경우가 가장 작은 결과를 도출한다. 이를 표현하기 위해 A와 B를 각각 정렬한 뒤 A는 앞부터, B는 뒤부터 인덱싱하여 계산했다."
   ]
  },
  {
   "cell_type": "code",
   "execution_count": 18,
   "id": "99fa413b",
   "metadata": {
    "ExecuteTime": {
     "end_time": "2023-01-31T07:57:06.138107Z",
     "start_time": "2023-01-31T07:57:06.121562Z"
    }
   },
   "outputs": [],
   "source": [
    "# Best Solution\n",
    "\n",
    "def solution(A,B):\n",
    "    return sum([a * b for a, b in zip(sorted(A), sorted(B, reverse=True))])"
   ]
  },
  {
   "cell_type": "code",
   "execution_count": 19,
   "id": "0f4d6687",
   "metadata": {
    "ExecuteTime": {
     "end_time": "2023-01-31T07:57:08.057381Z",
     "start_time": "2023-01-31T07:57:08.046663Z"
    },
    "scrolled": true
   },
   "outputs": [
    {
     "name": "stdout",
     "output_type": "stream",
     "text": [
      "29\n",
      "10\n"
     ]
    }
   ],
   "source": [
    "print(solution([1, 4, 2], [5, 4, 4])) #29\n",
    "print(solution([1,2], [3,4])) #10"
   ]
  },
  {
   "cell_type": "markdown",
   "id": "1ae94dd3",
   "metadata": {},
   "source": [
    "zip 함수를 이용하면 한 줄로 표현할 수 있다."
   ]
  }
 ],
 "metadata": {
  "kernelspec": {
   "display_name": "Python 3 (ipykernel)",
   "language": "python",
   "name": "python3"
  },
  "language_info": {
   "codemirror_mode": {
    "name": "ipython",
    "version": 3
   },
   "file_extension": ".py",
   "mimetype": "text/x-python",
   "name": "python",
   "nbconvert_exporter": "python",
   "pygments_lexer": "ipython3",
   "version": "3.9.16"
  }
 },
 "nbformat": 4,
 "nbformat_minor": 5
}
