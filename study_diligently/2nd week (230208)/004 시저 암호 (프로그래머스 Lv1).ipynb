{
 "cells": [
  {
   "cell_type": "markdown",
   "id": "12a2580f",
   "metadata": {},
   "source": [
    "# 시저 암호 (프로그래머스 Lv.1)\n",
    "\n",
    "- 코딩테스트 연습 > 연습문제 > 시저 암호\n",
    "- https://school.programmers.co.kr/learn/courses/30/lessons/12926"
   ]
  },
  {
   "cell_type": "markdown",
   "id": "b0568359",
   "metadata": {},
   "source": [
    "**[문제 설명]**\n",
    "\n",
    "어떤 문장의 각 알파벳을 일정한 거리만큼 밀어서 다른 알파벳으로 바꾸는 암호화 방식을 시저 암호라고 합니다. 예를 들어 \"AB\"는 1만큼 밀면 \"BC\"가 되고, 3만큼 밀면 \"DE\"가 됩니다. \"z\"는 1만큼 밀면 \"a\"가 됩니다. 문자열 s와 거리 n을 입력받아 s를 n만큼 민 암호문을 만드는 함수, solution을 완성해 보세요."
   ]
  },
  {
   "cell_type": "markdown",
   "id": "f9926e81",
   "metadata": {},
   "source": [
    "**[제한 사항]**\n",
    "\n",
    "- 공백은 아무리 밀어도 공백입니다.\n",
    "- s는 알파벳 소문자, 대문자, 공백으로만 이루어져 있습니다.\n",
    "- s의 길이는 8000이하입니다.\n",
    "- n은 1 이상, 25이하인 자연수입니다."
   ]
  },
  {
   "cell_type": "code",
   "execution_count": 1,
   "id": "7ca9d0c6",
   "metadata": {
    "ExecuteTime": {
     "end_time": "2023-02-03T00:56:08.866662Z",
     "start_time": "2023-02-03T00:56:08.850642Z"
    }
   },
   "outputs": [],
   "source": [
    "# My Solution\n",
    "\n",
    "def solution(s, n):\n",
    "    answer = []\n",
    "    for t in s:\n",
    "        if t == ' ': #공백이면\n",
    "            answer.append(' ')\n",
    "        else:\n",
    "            tt = ord(t)\n",
    "            if tt < ord('a'): #대문자면\n",
    "                if tt + n <= ord('Z'): #A~Z 범위 안에서 놀면\n",
    "                    answer.append(chr(tt + n)) #그냥 ㄱㄱ\n",
    "                else: #범위 벗어나면\n",
    "                    answer.append(chr(tt + n - 26)) #돌아와\n",
    "            else: #소문자면\n",
    "                if tt + n <= ord('z'): #a~z 범위 안에서 놀면\n",
    "                    answer.append(chr(tt + n)) #그냥 ㄱㄱ\n",
    "                else: #범위 벗어나면\n",
    "                    answer.append(chr(tt + n - 26)) #돌아와\n",
    "\n",
    "    return \"\".join(answer)"
   ]
  },
  {
   "cell_type": "code",
   "execution_count": 2,
   "id": "9f32c1f0",
   "metadata": {
    "ExecuteTime": {
     "end_time": "2023-02-03T00:56:09.678867Z",
     "start_time": "2023-02-03T00:56:09.670057Z"
    }
   },
   "outputs": [
    {
     "name": "stdout",
     "output_type": "stream",
     "text": [
      "BC\n",
      "a\n",
      "e F d\n"
     ]
    }
   ],
   "source": [
    "print(solution(\"AB\", 1)) #\"BC\"\n",
    "print(solution(\"z\", 1)) #\"a\"\n",
    "print(solution(\"a B z\", 4)) #\"e F d\""
   ]
  }
 ],
 "metadata": {
  "kernelspec": {
   "display_name": "Python 3 (ipykernel)",
   "language": "python",
   "name": "python3"
  },
  "language_info": {
   "codemirror_mode": {
    "name": "ipython",
    "version": 3
   },
   "file_extension": ".py",
   "mimetype": "text/x-python",
   "name": "python",
   "nbconvert_exporter": "python",
   "pygments_lexer": "ipython3",
   "version": "3.9.16"
  }
 },
 "nbformat": 4,
 "nbformat_minor": 5
}
