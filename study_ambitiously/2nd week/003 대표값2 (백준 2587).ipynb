{
 "cells": [
  {
   "cell_type": "markdown",
   "id": "e4f4539b",
   "metadata": {},
   "source": [
    "# 대표값2 (백준 #2587)\n",
    "- 브론즈2\n",
    "- https://www.acmicpc.net/problem/2587"
   ]
  },
  {
   "cell_type": "markdown",
   "id": "94e35d51",
   "metadata": {},
   "source": [
    "**[문제]**\n",
    "\n",
    "어떤 수들이 있을 때, 그 수들을 대표하는 값으로 가장 흔하게 쓰이는 것은 평균이다. 평균은 주어진 모든 수의 합을 수의 개수로 나눈 것이다. 예를 들어 10, 40, 30, 60, 30의 평균은 (10 + 40 + 30 + 60 + 30) / 5 = 170 / 5 = 34가 된다.\n",
    "\n",
    "평균 이외의 또 다른 대표값으로 중앙값이라는 것이 있다. 중앙값은 주어진 수를 크기 순서대로 늘어 놓았을 때 가장 중앙에 놓인 값이다. 예를 들어 10, 40, 30, 60, 30의 경우, 크기 순서대로 늘어 놓으면\n",
    "\n",
    "10 30 30 40 60\n",
    "\n",
    "이 되고 따라서 중앙값은 30이 된다.\n",
    "\n",
    "다섯 개의 자연수가 주어질 때 이들의 평균과 중앙값을 구하는 프로그램을 작성하시오."
   ]
  },
  {
   "cell_type": "markdown",
   "id": "29b7a119",
   "metadata": {},
   "source": [
    "**[입력]**\n",
    "\n",
    "첫째 줄부터 다섯 번째 줄까지 한 줄에 하나씩 자연수가 주어진다. 주어지는 자연수는 100 보다 작은 10의 배수이다."
   ]
  },
  {
   "cell_type": "markdown",
   "id": "69e5078a",
   "metadata": {},
   "source": [
    "**[출력]**\n",
    "\n",
    "첫째 줄에는 평균을 출력하고, 둘째 줄에는 중앙값을 출력한다. 평균과 중앙값은 모두 자연수이다."
   ]
  },
  {
   "cell_type": "markdown",
   "id": "48a32b71",
   "metadata": {},
   "source": [
    "## 버블 정렬"
   ]
  },
  {
   "cell_type": "code",
   "execution_count": 2,
   "id": "b0c84572",
   "metadata": {
    "ExecuteTime": {
     "end_time": "2023-01-10T05:16:45.512491Z",
     "start_time": "2023-01-10T05:16:41.297603Z"
    },
    "scrolled": false
   },
   "outputs": [
    {
     "name": "stdout",
     "output_type": "stream",
     "text": [
      "10\n",
      "30\n",
      "40\n",
      "30\n",
      "60\n",
      "34\n",
      "30\n"
     ]
    }
   ],
   "source": [
    "# My Solution(1) - 버블 정렬\n",
    "\n",
    "nums = []\n",
    "sum_num = 0\n",
    "\n",
    "for _ in range(5):\n",
    "    num = int(input())\n",
    "    sum_num += num\n",
    "    nums.append(num)\n",
    "    \n",
    "for i in range(len(nums)):\n",
    "    for j in range(len(nums) - i - 1):\n",
    "        if nums[j] > nums[j + 1]:\n",
    "            temp_num = nums[j]\n",
    "            nums[j] = nums[j + 1]\n",
    "            nums[j + 1] = temp_num\n",
    "            \n",
    "print(sum_num // 5)\n",
    "print(nums[2])"
   ]
  },
  {
   "cell_type": "markdown",
   "id": "93e76d77",
   "metadata": {},
   "source": [
    "## 선택 정렬"
   ]
  },
  {
   "cell_type": "code",
   "execution_count": 3,
   "id": "07ef3164",
   "metadata": {
    "ExecuteTime": {
     "end_time": "2023-01-10T05:16:45.512491Z",
     "start_time": "2023-01-10T05:16:41.297603Z"
    },
    "scrolled": true
   },
   "outputs": [
    {
     "name": "stdout",
     "output_type": "stream",
     "text": [
      "10\n",
      "30\n",
      "40\n",
      "30\n",
      "60\n",
      "34\n",
      "30\n"
     ]
    }
   ],
   "source": [
    "# My Solution(2) - 선택 정렬\n",
    "\n",
    "nums = []\n",
    "sum_num = 0\n",
    "\n",
    "for _ in range(5):\n",
    "    num = int(input())\n",
    "    sum_num += num\n",
    "    nums.append(num)\n",
    "    \n",
    "for i in range(len(nums)):\n",
    "    min_idx = i\n",
    "    for j in range(i + 1, len(nums)):\n",
    "        if nums[j] < nums[min_idx]:\n",
    "            min_idx = j\n",
    "    temp_num = nums[i]\n",
    "    nums[i] = nums[min_idx]\n",
    "    nums[min_idx] = temp_num\n",
    "            \n",
    "print(sum_num // 5)\n",
    "print(nums[2])"
   ]
  },
  {
   "cell_type": "markdown",
   "id": "939be2ca",
   "metadata": {},
   "source": [
    "## 삽입 정렬"
   ]
  },
  {
   "cell_type": "code",
   "execution_count": 4,
   "id": "10a26d32",
   "metadata": {
    "ExecuteTime": {
     "end_time": "2023-01-10T05:16:45.512491Z",
     "start_time": "2023-01-10T05:16:41.297603Z"
    },
    "scrolled": true
   },
   "outputs": [
    {
     "name": "stdout",
     "output_type": "stream",
     "text": [
      "10\n",
      "30\n",
      "40\n",
      "30\n",
      "60\n",
      "34\n",
      "30\n"
     ]
    }
   ],
   "source": [
    "# My Solution(3) - 삽입 정렬\n",
    "\n",
    "nums = []\n",
    "sum_num = 0\n",
    "\n",
    "for _ in range(5):\n",
    "    num = int(input())\n",
    "    sum_num += num\n",
    "    nums.append(num)\n",
    "    \n",
    "for i in range(len(nums)):\n",
    "    idx = i\n",
    "    for j in range(i):\n",
    "        if nums[i] < nums[j]:\n",
    "            idx = j\n",
    "            break\n",
    "    nums.insert(idx, nums.pop(i))\n",
    "            \n",
    "print(sum_num // 5)\n",
    "print(nums[2])"
   ]
  }
 ],
 "metadata": {
  "kernelspec": {
   "display_name": "Python 3 (ipykernel)",
   "language": "python",
   "name": "python3"
  },
  "language_info": {
   "codemirror_mode": {
    "name": "ipython",
    "version": 3
   },
   "file_extension": ".py",
   "mimetype": "text/x-python",
   "name": "python",
   "nbconvert_exporter": "python",
   "pygments_lexer": "ipython3",
   "version": "3.9.13"
  },
  "toc": {
   "base_numbering": 1,
   "nav_menu": {},
   "number_sections": true,
   "sideBar": true,
   "skip_h1_title": false,
   "title_cell": "Table of Contents",
   "title_sidebar": "Contents",
   "toc_cell": false,
   "toc_position": {},
   "toc_section_display": true,
   "toc_window_display": false
  },
  "varInspector": {
   "cols": {
    "lenName": 16,
    "lenType": 16,
    "lenVar": 40
   },
   "kernels_config": {
    "python": {
     "delete_cmd_postfix": "",
     "delete_cmd_prefix": "del ",
     "library": "var_list.py",
     "varRefreshCmd": "print(var_dic_list())"
    },
    "r": {
     "delete_cmd_postfix": ") ",
     "delete_cmd_prefix": "rm(",
     "library": "var_list.r",
     "varRefreshCmd": "cat(var_dic_list()) "
    }
   },
   "types_to_exclude": [
    "module",
    "function",
    "builtin_function_or_method",
    "instance",
    "_Feature"
   ],
   "window_display": false
  }
 },
 "nbformat": 4,
 "nbformat_minor": 5
}
