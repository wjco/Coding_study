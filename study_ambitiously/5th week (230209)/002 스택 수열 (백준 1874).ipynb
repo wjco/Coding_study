{
 "cells": [
  {
   "cell_type": "markdown",
   "id": "ff8d0252",
   "metadata": {},
   "source": [
    "# 스택 수열 (백준 #1874)\n",
    "- 실버2\n",
    "- https://www.acmicpc.net/problem/1874"
   ]
  },
  {
   "cell_type": "markdown",
   "id": "f0db6a29",
   "metadata": {},
   "source": [
    "**[문제]**\n",
    "\n",
    "스택 (stack)은 기본적인 자료구조 중 하나로, 컴퓨터 프로그램을 작성할 때 자주 이용되는 개념이다. 스택은 자료를 넣는 (push) 입구와 자료를 뽑는 (pop) 입구가 같아 제일 나중에 들어간 자료가 제일 먼저 나오는 (LIFO, Last in First out) 특성을 가지고 있다.\n",
    "\n",
    "1부터 n까지의 수를 스택에 넣었다가 뽑아 늘어놓음으로써, 하나의 수열을 만들 수 있다. 이때, 스택에 push하는 순서는 반드시 오름차순을 지키도록 한다고 하자. 임의의 수열이 주어졌을 때 스택을 이용해 그 수열을 만들 수 있는지 없는지, 있다면 어떤 순서로 push와 pop 연산을 수행해야 하는지를 알아낼 수 있다. 이를 계산하는 프로그램을 작성하라."
   ]
  },
  {
   "cell_type": "markdown",
   "id": "510f3a8f",
   "metadata": {},
   "source": [
    "**[입력]**\n",
    "\n",
    "첫 줄에 n (1 ≤ n ≤ 100,000)이 주어진다. 둘째 줄부터 n개의 줄에는 수열을 이루는 1이상 n이하의 정수가 하나씩 순서대로 주어진다. 물론 같은 정수가 두 번 나오는 일은 없다."
   ]
  },
  {
   "cell_type": "markdown",
   "id": "47ecce3f",
   "metadata": {},
   "source": [
    "**[출력]**\n",
    "\n",
    "입력된 수열을 만들기 위해 필요한 연산을 한 줄에 한 개씩 출력한다. push연산은 +로, pop 연산은 -로 표현하도록 한다. 불가능한 경우 NO를 출력한다."
   ]
  },
  {
   "cell_type": "code",
   "execution_count": 17,
   "id": "c2b0406c",
   "metadata": {
    "ExecuteTime": {
     "end_time": "2023-02-08T15:39:12.650556Z",
     "start_time": "2023-02-08T15:39:05.292181Z"
    }
   },
   "outputs": [
    {
     "name": "stdout",
     "output_type": "stream",
     "text": [
      "8\n",
      "4\n",
      "3\n",
      "6\n",
      "8\n",
      "7\n",
      "5\n",
      "2\n",
      "1\n",
      "+\n",
      "+\n",
      "+\n",
      "+\n",
      "-\n",
      "-\n",
      "+\n",
      "+\n",
      "-\n",
      "+\n",
      "+\n",
      "-\n",
      "-\n",
      "-\n",
      "-\n",
      "-\n"
     ]
    }
   ],
   "source": [
    "class MyStack(list):\n",
    "    \n",
    "    push = list.append\n",
    "    \n",
    "    def peek(self):\n",
    "        return self[-1]\n",
    "\n",
    "n = int(input())\n",
    "my_nums = MyStack()\n",
    "sign = []\n",
    "is_possible = True\n",
    "\n",
    "now = 1\n",
    "for _ in range(n):\n",
    "    num = int(input())\n",
    "    \n",
    "    while True:\n",
    "        if now > num:\n",
    "            break\n",
    "        my_nums.push(now)\n",
    "        sign.append(\"+\")\n",
    "        now += 1\n",
    "    \n",
    "    if num == my_nums.peek():\n",
    "        my_nums.pop()\n",
    "        sign.append(\"-\")\n",
    "    else:\n",
    "        print(\"NO\")\n",
    "        is_possible = False\n",
    "        break\n",
    "\n",
    "if is_possible:\n",
    "    for s in sign:\n",
    "        print(s)"
   ]
  }
 ],
 "metadata": {
  "kernelspec": {
   "display_name": "Python 3 (ipykernel)",
   "language": "python",
   "name": "python3"
  },
  "language_info": {
   "codemirror_mode": {
    "name": "ipython",
    "version": 3
   },
   "file_extension": ".py",
   "mimetype": "text/x-python",
   "name": "python",
   "nbconvert_exporter": "python",
   "pygments_lexer": "ipython3",
   "version": "3.9.16"
  }
 },
 "nbformat": 4,
 "nbformat_minor": 5
}
