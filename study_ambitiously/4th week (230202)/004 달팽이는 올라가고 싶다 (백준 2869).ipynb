{
 "cells": [
  {
   "cell_type": "markdown",
   "id": "675bf9fa",
   "metadata": {},
   "source": [
    "# 달팽이는 올라가고 싶다 (백준 #2869)\n",
    "\n",
    "- 브론즈1\n",
    "- https://www.acmicpc.net/problem/2869"
   ]
  },
  {
   "cell_type": "markdown",
   "id": "d7126078",
   "metadata": {},
   "source": [
    "**[문제]**\n",
    "\n",
    "땅 위에 달팽이가 있다. 이 달팽이는 높이가 V미터인 나무 막대를 올라갈 것이다.\n",
    "\n",
    "달팽이는 낮에 A미터 올라갈 수 있다. 하지만, 밤에 잠을 자는 동안 B미터 미끄러진다. 또, 정상에 올라간 후에는 미끄러지지 않는다.\n",
    "\n",
    "달팽이가 나무 막대를 모두 올라가려면, 며칠이 걸리는지 구하는 프로그램을 작성하시오."
   ]
  },
  {
   "cell_type": "markdown",
   "id": "7ea680d0",
   "metadata": {},
   "source": [
    "**[입력]**\n",
    "\n",
    "첫째 줄에 세 정수 A, B, V가 공백으로 구분되어서 주어진다. (1 ≤ B < A ≤ V ≤ 1,000,000,000)"
   ]
  },
  {
   "cell_type": "markdown",
   "id": "c85bff35",
   "metadata": {},
   "source": [
    "**[출력]**\n",
    "\n",
    "첫째 줄에 달팽이가 나무 막대를 모두 올라가는데 며칠이 걸리는지 출력한다."
   ]
  },
  {
   "cell_type": "code",
   "execution_count": 56,
   "id": "7bbec12e",
   "metadata": {
    "ExecuteTime": {
     "end_time": "2023-01-30T07:14:33.067620Z",
     "start_time": "2023-01-30T07:14:30.296083Z"
    }
   },
   "outputs": [
    {
     "name": "stdout",
     "output_type": "stream",
     "text": [
      "100 99 1000000000\n",
      "999999901\n"
     ]
    }
   ],
   "source": [
    "# My Solution (1)\n",
    "\n",
    "a, b, v = map(int, input().split())\n",
    "\n",
    "if (v - a) % (a - b):\n",
    "    print((v - b) // (a - b) + 1)\n",
    "else:\n",
    "    print((v - b) // (a - b))"
   ]
  },
  {
   "attachments": {
    "%E3%85%8B%E3%85%8B.png": {
     "image/png": "[encoded data removed]"
    }
   },
   "cell_type": "markdown",
   "id": "82118091",
   "metadata": {},
   "source": [
    "![%E3%85%8B%E3%85%8B.png](attachment:%E3%85%8B%E3%85%8B.png)"
   ]
  },
  {
   "cell_type": "code",
   "execution_count": 2,
   "id": "253fd726",
   "metadata": {
    "ExecuteTime": {
     "end_time": "2023-01-30T11:22:04.402742Z",
     "start_time": "2023-01-30T11:22:00.890358Z"
    }
   },
   "outputs": [
    {
     "name": "stdout",
     "output_type": "stream",
     "text": [
      "100 99 1000000000\n",
      "999999901\n"
     ]
    }
   ],
   "source": [
    "# My Solution (2)\n",
    "\n",
    "a, b, v = map(int, input().split())\n",
    "day = (v - b) / (a - b)\n",
    "\n",
    "if day == int(day):\n",
    "    print(int(day))\n",
    "else:\n",
    "    print(int(day) + 1)"
   ]
  }
 ],
 "metadata": {
  "kernelspec": {
   "display_name": "Python 3 (ipykernel)",
   "language": "python",
   "name": "python3"
  },
  "language_info": {
   "codemirror_mode": {
    "name": "ipython",
    "version": 3
   },
   "file_extension": ".py",
   "mimetype": "text/x-python",
   "name": "python",
   "nbconvert_exporter": "python",
   "pygments_lexer": "ipython3",
   "version": "3.9.16"
  }
 },
 "nbformat": 4,
 "nbformat_minor": 5
}
