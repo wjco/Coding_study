{
 "cells": [
  {
   "cell_type": "markdown",
   "id": "3a556c62",
   "metadata": {},
   "source": [
    "# 최대공약수와 최소공배수 (프로그래머스 Lv.1)\n",
    "- 코딩테스트 연습 > 연습문제 > 최대공약수와 최소공배수\n",
    "- https://school.programmers.co.kr/learn/courses/30/lessons/12940"
   ]
  },
  {
   "cell_type": "markdown",
   "id": "25b3d402",
   "metadata": {},
   "source": [
    "**[문제 설명]**\n",
    "\n",
    "\n",
    "두 수를 입력받아 두 수의 최대공약수와 최소공배수를 반환하는 함수, solution을 완성해 보세요. 배열의 맨 앞에 최대공약수, 그다음 최소공배수를 넣어 반환하면 됩니다. 예를 들어 두 수 3, 12의 최대공약수는 3, 최소공배수는 12이므로 solution(3, 12)는 [3, 12]를 반환해야 합니다."
   ]
  },
  {
   "cell_type": "markdown",
   "id": "76852f21",
   "metadata": {},
   "source": [
    "**[제한 사항]**\n",
    "\n",
    "- 두 수는 1이상 1000000이하의 자연수입니다."
   ]
  },
  {
   "cell_type": "code",
   "execution_count": 30,
   "id": "5866933b",
   "metadata": {},
   "outputs": [
    {
     "name": "stdout",
     "output_type": "stream",
     "text": [
      "[3, 12]\n",
      "[1, 10]\n"
     ]
    }
   ],
   "source": [
    "# My Solution(1) - 최소공배수만 유클리드\n",
    "\n",
    "def solution(n, m):\n",
    "    gcd = 0\n",
    "    for i in range(1, min(n, m) + 1):\n",
    "        if n % i == 0 and m % i == 0:\n",
    "            gcd = i\n",
    "    lcm = m * n // gcd\n",
    "    return [gcd, lcm]\n",
    "\n",
    "print(solution(3, 12)) #[3, 12]\n",
    "print(solution(2, 5)) #[1, 10]"
   ]
  },
  {
   "cell_type": "code",
   "execution_count": 31,
   "id": "672381a4",
   "metadata": {},
   "outputs": [
    {
     "name": "stdout",
     "output_type": "stream",
     "text": [
      "[3, 12]\n",
      "[1, 10]\n"
     ]
    }
   ],
   "source": [
    "# My Solution(2) - 최대공약수, 최소공배수 둘 다 유클리드\n",
    "\n",
    "def solution(n, m):\n",
    "    gcd = 0\n",
    "    a, b = max(n, m), min(n, m)\n",
    "    while True:\n",
    "        if b > a:\n",
    "            a, b = b, a #아래의 연산을 위해 a >= b이어야 함\n",
    "        if a % b:\n",
    "            a = a % b\n",
    "        else:\n",
    "            gcd = b\n",
    "            break\n",
    "    lcm = m * n // gcd\n",
    "    return [gcd, lcm]\n",
    "\n",
    "print(solution(3, 12)) #[3, 12]\n",
    "print(solution(2, 5)) #[1, 10]"
   ]
  }
 ],
 "metadata": {
  "kernelspec": {
   "display_name": "Python 3 (ipykernel)",
   "language": "python",
   "name": "python3"
  },
  "language_info": {
   "codemirror_mode": {
    "name": "ipython",
    "version": 3
   },
   "file_extension": ".py",
   "mimetype": "text/x-python",
   "name": "python",
   "nbconvert_exporter": "python",
   "pygments_lexer": "ipython3",
   "version": "3.9.13"
  },
  "toc": {
   "base_numbering": 1,
   "nav_menu": {},
   "number_sections": true,
   "sideBar": true,
   "skip_h1_title": false,
   "title_cell": "Table of Contents",
   "title_sidebar": "Contents",
   "toc_cell": false,
   "toc_position": {},
   "toc_section_display": true,
   "toc_window_display": false
  },
  "varInspector": {
   "cols": {
    "lenName": 16,
    "lenType": 16,
    "lenVar": 40
   },
   "kernels_config": {
    "python": {
     "delete_cmd_postfix": "",
     "delete_cmd_prefix": "del ",
     "library": "var_list.py",
     "varRefreshCmd": "print(var_dic_list())"
    },
    "r": {
     "delete_cmd_postfix": ") ",
     "delete_cmd_prefix": "rm(",
     "library": "var_list.r",
     "varRefreshCmd": "cat(var_dic_list()) "
    }
   },
   "types_to_exclude": [
    "module",
    "function",
    "builtin_function_or_method",
    "instance",
    "_Feature"
   ],
   "window_display": false
  }
 },
 "nbformat": 4,
 "nbformat_minor": 5
}
