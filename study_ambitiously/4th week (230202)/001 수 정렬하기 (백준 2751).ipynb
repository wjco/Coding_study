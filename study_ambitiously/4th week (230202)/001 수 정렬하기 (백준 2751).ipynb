{
 "cells": [
  {
   "cell_type": "markdown",
   "id": "ff8d0252",
   "metadata": {},
   "source": [
    "# 수 정렬하기 2 (백준 #2751)\n",
    "- 실버5\n",
    "- https://www.acmicpc.net/problem/2751"
   ]
  },
  {
   "cell_type": "markdown",
   "id": "f0db6a29",
   "metadata": {},
   "source": [
    "**[문제]**\n",
    "\n",
    "N개의 수가 주어졌을 때, 이를 오름차순으로 정렬하는 프로그램을 작성하시오."
   ]
  },
  {
   "cell_type": "markdown",
   "id": "510f3a8f",
   "metadata": {},
   "source": [
    "**[입력]**\n",
    "\n",
    "첫째 줄에 수의 개수 N(1 ≤ N ≤ 1,000,000)이 주어진다. 둘째 줄부터 N개의 줄에는 수가 주어진다. 이 수는 절댓값이 1,000,000보다 작거나 같은 정수이다. 수는 중복되지 않는다."
   ]
  },
  {
   "cell_type": "markdown",
   "id": "47ecce3f",
   "metadata": {},
   "source": [
    "**[출력]**\n",
    "\n",
    "첫째 줄부터 N개의 줄에 오름차순으로 정렬한 결과를 한 줄에 하나씩 출력한다."
   ]
  },
  {
   "cell_type": "code",
   "execution_count": 39,
   "id": "b3bd941f",
   "metadata": {
    "ExecuteTime": {
     "end_time": "2023-02-02T07:42:24.471223Z",
     "start_time": "2023-02-02T07:42:21.664143Z"
    }
   },
   "outputs": [
    {
     "name": "stdout",
     "output_type": "stream",
     "text": [
      "5\n",
      "5\n",
      "4\n",
      "3\n",
      "2\n",
      "1\n",
      "1\n",
      "2\n",
      "3\n",
      "4\n",
      "5\n"
     ]
    }
   ],
   "source": [
    "# import sys ##### 백준 업로드 #####\n",
    "\n",
    "# n = int(sys.stdin.readline()) ##### 백준 업로드 #####\n",
    "n = int(input()) ##### Jupyter Notebook #####\n",
    "nums = []\n",
    "for _ in range(n):\n",
    "#     a = int(sys.stdin.readline()) ##### 백준 업로드 #####\n",
    "    a = int(input()) ##### Jupyter Notebook #####\n",
    "    nums.append(a)\n",
    "    \n",
    "# 최대 힙(루트 노트 = max)으로 만들기\n",
    "for i in range(1, len(nums)):\n",
    "    idx_child = i\n",
    "    while idx_child > 0:\n",
    "        idx_parent = (idx_child - 1) // 2\n",
    "        if nums[idx_parent] < nums[idx_child]:\n",
    "            nums[idx_parent], nums[idx_child] = nums[idx_child], nums[idx_parent]\n",
    "        idx_child = idx_parent\n",
    "        \n",
    "# 뒤부터 차곡차곡 정렬\n",
    "for i in range(len(nums) - 1, -1, -1):\n",
    "    # 루트 노트 => 맨 뒤로 보내기 (가장 큰 값을 맨 뒤로)\n",
    "    nums[0], nums[i] = nums[i], nums[0]\n",
    "    \n",
    "    # 루트에 온 애 제자리로 보내기 => 다시 최대 힙(루트 노트 = max)이 됨\n",
    "    idx_parent, idx_child = 0, 1\n",
    "    while idx_child < i:\n",
    "        idx_child = 2 * idx_parent + 1\n",
    "        \n",
    "        # 왼쪽 자식 vs 오른쪽 자식\n",
    "        if idx_child < i - 1 and nums[idx_child] < nums[idx_child + 1]:\n",
    "            idx_child += 1 \n",
    "            \n",
    "        # 자식 > 부모면 위치 바꾸기\n",
    "        if idx_child < i and nums[idx_parent] < nums[idx_child]:\n",
    "            nums[idx_parent], nums[idx_child] = nums[idx_child], nums[idx_parent]\n",
    "            \n",
    "        # 아랫쪽으로 내려가면서 탐색\n",
    "        idx_parent = idx_child\n",
    "        \n",
    "for num in nums:\n",
    "    print(num) ##### Jupyter Notebook #####\n",
    "#     sys.stdout.wirte(num) ##### 백준 업로드 #####"
   ]
  }
 ],
 "metadata": {
  "kernelspec": {
   "display_name": "Python 3 (ipykernel)",
   "language": "python",
   "name": "python3"
  },
  "language_info": {
   "codemirror_mode": {
    "name": "ipython",
    "version": 3
   },
   "file_extension": ".py",
   "mimetype": "text/x-python",
   "name": "python",
   "nbconvert_exporter": "python",
   "pygments_lexer": "ipython3",
   "version": "3.9.16"
  }
 },
 "nbformat": 4,
 "nbformat_minor": 5
}
