{
 "cells": [
  {
   "cell_type": "markdown",
   "id": "ff8d0252",
   "metadata": {},
   "source": [
    "# 전화번호 목록 (프로그래머스 Lv.2)\n",
    "- 코딩테스트 연습 > 해시 > 전화번호 목록\n",
    "- https://school.programmers.co.kr/learn/courses/30/lessons/42577"
   ]
  },
  {
   "cell_type": "markdown",
   "id": "f0db6a29",
   "metadata": {},
   "source": [
    "**[문제 설명]**\n",
    "\n",
    "전화번호부에 적힌 전화번호 중, 한 번호가 다른 번호의 접두어인 경우가 있는지 확인하려 합니다.\n",
    "전화번호가 다음과 같을 경우, 구조대 전화번호는 영석이의 전화번호의 접두사입니다.\n",
    "\n",
    "- 구조대 : 119\n",
    "- 박준영 : 97 674 223\n",
    "- 지영석 : 11 9552 4421\n",
    "\n",
    "전화번호부에 적힌 전화번호를 담은 배열 phone_book 이 solution 함수의 매개변수로 주어질 때, 어떤 번호가 다른 번호의 접두어인 경우가 있으면 false를 그렇지 않으면 true를 return 하도록 solution 함수를 작성해주세요."
   ]
  },
  {
   "cell_type": "markdown",
   "id": "510f3a8f",
   "metadata": {},
   "source": [
    "**[제한 사항]**\n",
    "\n",
    "- phone_book의 길이는 1 이상 1,000,000 이하입니다.\n",
    "    - 각 전화번호의 길이는 1 이상 20 이하입니다.\n",
    "    - 같은 전화번호가 중복해서 들어있지 않습니다."
   ]
  },
  {
   "cell_type": "code",
   "execution_count": 1,
   "id": "b3bd941f",
   "metadata": {
    "ExecuteTime": {
     "end_time": "2023-03-14T10:57:50.485127Z",
     "start_time": "2023-03-14T10:57:50.423736Z"
    }
   },
   "outputs": [],
   "source": [
    "# My Solution (1) - 이중 for문 / 시간 초과\n",
    "\n",
    "def solution(phone_book):\n",
    "    for i in range(len(phone_book)):\n",
    "        num = phone_book[i]\n",
    "        for j in range(len(phone_book)):\n",
    "            if i == j:\n",
    "                continue\n",
    "            if phone_book[j][:len(num)] == num:\n",
    "                return False\n",
    "    return True"
   ]
  },
  {
   "cell_type": "code",
   "execution_count": 3,
   "id": "15609419",
   "metadata": {
    "ExecuteTime": {
     "end_time": "2023-03-14T10:58:08.761390Z",
     "start_time": "2023-03-14T10:58:08.732231Z"
    }
   },
   "outputs": [
    {
     "name": "stdout",
     "output_type": "stream",
     "text": [
      "False\n",
      "True\n",
      "False\n"
     ]
    }
   ],
   "source": [
    "print(solution([\"119\", \"97674223\", \"1195524421\"])) #false\n",
    "print(solution([\"123\",\"456\",\"789\"])) #true\n",
    "print(solution([\"12\",\"123\",\"1235\",\"567\",\"88\"])) #false"
   ]
  },
  {
   "cell_type": "code",
   "execution_count": 6,
   "id": "c01ecc1c",
   "metadata": {
    "ExecuteTime": {
     "end_time": "2023-03-16T07:03:12.163072Z",
     "start_time": "2023-03-16T07:03:12.157567Z"
    }
   },
   "outputs": [],
   "source": [
    "# My Solution (2) - 성공\n",
    "\n",
    "def solution(phone_book):\n",
    "    phone_book.sort()\n",
    "    for i in range(len(phone_book) - 1):\n",
    "        if phone_book[i] == phone_book[i + 1][:len(phone_book[i])] :\n",
    "            return False\n",
    "    return True"
   ]
  },
  {
   "cell_type": "code",
   "execution_count": 7,
   "id": "d59a5aa4",
   "metadata": {
    "ExecuteTime": {
     "end_time": "2023-03-16T07:03:12.395726Z",
     "start_time": "2023-03-16T07:03:12.388714Z"
    }
   },
   "outputs": [
    {
     "name": "stdout",
     "output_type": "stream",
     "text": [
      "False\n",
      "True\n",
      "False\n"
     ]
    }
   ],
   "source": [
    "print(solution([\"119\", \"97674223\", \"1195524421\"])) #false\n",
    "print(solution([\"123\",\"456\",\"789\"])) #true\n",
    "print(solution([\"12\",\"123\",\"1235\",\"567\",\"88\"])) #false"
   ]
  }
 ],
 "metadata": {
  "kernelspec": {
   "display_name": "Python 3 (ipykernel)",
   "language": "python",
   "name": "python3"
  },
  "language_info": {
   "codemirror_mode": {
    "name": "ipython",
    "version": 3
   },
   "file_extension": ".py",
   "mimetype": "text/x-python",
   "name": "python",
   "nbconvert_exporter": "python",
   "pygments_lexer": "ipython3",
   "version": "3.9.13"
  }
 },
 "nbformat": 4,
 "nbformat_minor": 5
}
