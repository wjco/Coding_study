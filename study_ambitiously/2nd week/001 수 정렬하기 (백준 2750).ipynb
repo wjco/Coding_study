{
 "cells": [
  {
   "cell_type": "markdown",
   "id": "e4f4539b",
   "metadata": {},
   "source": [
    "# 수 정렬하기 (백준 #2750)\n",
    "- 브론즈2\n",
    "- https://www.acmicpc.net/problem/2750"
   ]
  },
  {
   "cell_type": "markdown",
   "id": "94e35d51",
   "metadata": {},
   "source": [
    "**[문제]**\n",
    "\n",
    "N개의 수가 주어졌을 때, 이를 오름차순으로 정렬하는 프로그램을 작성하시오."
   ]
  },
  {
   "cell_type": "markdown",
   "id": "29b7a119",
   "metadata": {},
   "source": [
    "**[입력]**\n",
    "\n",
    "첫째 줄에 수의 개수 N(1 ≤ N ≤ 1,000)이 주어진다. 둘째 줄부터 N개의 줄에는 수가 주어진다. 이 수는 절댓값이 1,000보다 작거나 같은 정수이다. 수는 중복되지 않는다."
   ]
  },
  {
   "cell_type": "markdown",
   "id": "69e5078a",
   "metadata": {},
   "source": [
    "**[출력]**\n",
    "\n",
    "첫째 줄부터 N개의 줄에 오름차순으로 정렬한 결과를 한 줄에 하나씩 출력한다."
   ]
  },
  {
   "cell_type": "markdown",
   "id": "48a32b71",
   "metadata": {},
   "source": [
    "## 버블 정렬"
   ]
  },
  {
   "cell_type": "code",
   "execution_count": 57,
   "id": "44caed9d",
   "metadata": {
    "ExecuteTime": {
     "end_time": "2023-01-10T05:16:45.512491Z",
     "start_time": "2023-01-10T05:16:41.297603Z"
    },
    "scrolled": false
   },
   "outputs": [
    {
     "name": "stdout",
     "output_type": "stream",
     "text": [
      "5\n",
      "5\n",
      "4\n",
      "3\n",
      "2\n",
      "1\n",
      "1\n",
      "2\n",
      "3\n",
      "4\n",
      "5\n"
     ]
    }
   ],
   "source": [
    "# My Solution(1) - 버블 정렬\n",
    "\n",
    "n = int(input())\n",
    "nums = []\n",
    "\n",
    "for _ in range(n):\n",
    "    num = int(input())\n",
    "    nums.append(num)\n",
    "\n",
    "for j in range(len(nums)): #j: 정렬을 진행한 횟수\n",
    "    for i in range(len(nums) - j - 1): #i: 현재 index\n",
    "        if nums[i] > nums[i+1]:\n",
    "            temp_num = nums[i+1]\n",
    "            nums[i+1] = nums[i]\n",
    "            nums[i] = temp_num\n",
    "\n",
    "for i in nums:\n",
    "    print(i)"
   ]
  },
  {
   "cell_type": "code",
   "execution_count": 59,
   "id": "a2b1491a",
   "metadata": {
    "ExecuteTime": {
     "end_time": "2023-01-10T05:16:45.512491Z",
     "start_time": "2023-01-10T05:16:41.297603Z"
    },
    "scrolled": false
   },
   "outputs": [
    {
     "name": "stdout",
     "output_type": "stream",
     "text": [
      "input: [5, 4, 3, 2, 1]\n",
      "--------------------\n",
      "sorting process\n",
      "[4, 5, 3, 2, 1]\n",
      "[4, 3, 5, 2, 1]\n",
      "[4, 3, 2, 5, 1]\n",
      "[4, 3, 2, 1, 5]\n",
      "[3, 4, 2, 1, 5]\n",
      "[3, 2, 4, 1, 5]\n",
      "[3, 2, 1, 4, 5]\n",
      "[2, 3, 1, 4, 5]\n",
      "[2, 1, 3, 4, 5]\n",
      "[1, 2, 3, 4, 5]\n",
      "--------------------\n",
      "output: [1, 2, 3, 4, 5]\n"
     ]
    }
   ],
   "source": [
    "# test\n",
    "\n",
    "nums = [i for i in range(5, 0, -1)]\n",
    "\n",
    "print(f\"input: {nums}\")\n",
    "print(\"-\" * 20)\n",
    "print(\"sorting process\")\n",
    "for j in range(len(nums)): #j: 정렬을 진행한 횟수\n",
    "    for i in range(len(nums) - j - 1): #i: 현재 index\n",
    "        if nums[i] > nums[i+1]:\n",
    "            temp_num = nums[i+1]\n",
    "            nums[i+1] = nums[i]\n",
    "            nums[i] = temp_num\n",
    "        print(nums)\n",
    "print(\"-\" * 20)\n",
    "print(f\"output: {nums}\")"
   ]
  },
  {
   "cell_type": "markdown",
   "id": "93e76d77",
   "metadata": {},
   "source": [
    "## 선택 정렬"
   ]
  },
  {
   "cell_type": "code",
   "execution_count": 67,
   "id": "07ef3164",
   "metadata": {
    "ExecuteTime": {
     "end_time": "2023-01-10T05:16:45.512491Z",
     "start_time": "2023-01-10T05:16:41.297603Z"
    },
    "scrolled": true
   },
   "outputs": [
    {
     "name": "stdout",
     "output_type": "stream",
     "text": [
      "5\n",
      "5\n",
      "4\n",
      "3\n",
      "2\n",
      "1\n",
      "1\n",
      "2\n",
      "3\n",
      "4\n",
      "5\n"
     ]
    }
   ],
   "source": [
    "# My Solution(2) - 선택 정렬\n",
    "\n",
    "n = int(input())\n",
    "nums = []\n",
    "\n",
    "for _ in range(n):\n",
    "    num = int(input())\n",
    "    nums.append(num)\n",
    "\n",
    "for i in range(len(nums) - 1): #i: 현재 index\n",
    "    min_idx = i\n",
    "    for j in range(i+1, len(nums)): #j: 비교 대상(가장 작은 수) 탐색하는 index\n",
    "        if nums[j] < nums[min_idx]:\n",
    "            min_idx = j\n",
    "    if nums[i] > nums[min_idx]:\n",
    "        temp_num = nums[i]\n",
    "        nums[i] = nums[min_idx]\n",
    "        nums[min_idx] = temp_num\n",
    "            \n",
    "for i in nums:\n",
    "    print(i)"
   ]
  },
  {
   "cell_type": "code",
   "execution_count": 65,
   "id": "01e1b817",
   "metadata": {
    "ExecuteTime": {
     "end_time": "2023-01-10T05:16:45.512491Z",
     "start_time": "2023-01-10T05:16:41.297603Z"
    },
    "scrolled": false
   },
   "outputs": [
    {
     "name": "stdout",
     "output_type": "stream",
     "text": [
      "input: [1, 4, 5, 3, 2]\n",
      "--------------------\n",
      "sorting process\n",
      "[1, 4, 5, 3, 2]\n",
      "[1, 2, 5, 3, 4]\n",
      "[1, 2, 3, 5, 4]\n",
      "[1, 2, 3, 4, 5]\n",
      "--------------------\n",
      "output: [1, 2, 3, 4, 5]\n"
     ]
    }
   ],
   "source": [
    "# test\n",
    "\n",
    "nums = [1, 4, 5, 3, 2]\n",
    "\n",
    "print(f\"input: {nums}\")\n",
    "print(\"-\" * 20)\n",
    "print(\"sorting process\")\n",
    "for i in range(len(nums) - 1): #i: 현재 index\n",
    "    min_idx = i\n",
    "    for j in range(i+1, len(nums)): #j: 비교 대상(가장 작은 수) 탐색하는 index\n",
    "        if nums[j] < nums[min_idx]:\n",
    "            min_idx = j\n",
    "    if nums[i] > nums[min_idx]:\n",
    "        temp_num = nums[i]\n",
    "        nums[i] = nums[min_idx]\n",
    "        nums[min_idx] = temp_num\n",
    "    print(nums)\n",
    "print(\"-\" * 20)\n",
    "print(f\"output: {nums}\")"
   ]
  },
  {
   "cell_type": "markdown",
   "id": "939be2ca",
   "metadata": {},
   "source": [
    "## 삽입 정렬"
   ]
  },
  {
   "cell_type": "code",
   "execution_count": 85,
   "id": "529bfcaa",
   "metadata": {
    "ExecuteTime": {
     "end_time": "2023-01-10T05:16:45.512491Z",
     "start_time": "2023-01-10T05:16:41.297603Z"
    },
    "scrolled": true
   },
   "outputs": [
    {
     "name": "stdout",
     "output_type": "stream",
     "text": [
      "5\n",
      "5\n",
      "4\n",
      "3\n",
      "2\n",
      "1\n",
      "1\n",
      "2\n",
      "3\n",
      "4\n",
      "5\n"
     ]
    }
   ],
   "source": [
    "# My Solution(3) - 삽입 정렬\n",
    "\n",
    "n = int(input())\n",
    "nums = []\n",
    "\n",
    "for _ in range(n):\n",
    "    num = int(input())\n",
    "    nums.append(num)\n",
    "\n",
    "for i in range(len(nums)):\n",
    "    temp_idx = i\n",
    "    for j in range(i):\n",
    "        if nums[i] < nums[j]:\n",
    "            temp_idx = j\n",
    "            break\n",
    "    nums.insert(temp_idx, nums.pop(i))\n",
    "\n",
    "for i in nums:\n",
    "    print(i)"
   ]
  },
  {
   "cell_type": "code",
   "execution_count": 83,
   "id": "0e0ff5a7",
   "metadata": {
    "ExecuteTime": {
     "end_time": "2023-01-10T05:16:45.512491Z",
     "start_time": "2023-01-10T05:16:41.297603Z"
    },
    "scrolled": false
   },
   "outputs": [
    {
     "name": "stdout",
     "output_type": "stream",
     "text": [
      "input: [5, 1, 4, 3, 2]\n",
      "--------------------------------\n",
      "sorting process\n",
      "[5, 1, 4, 3, 2] [5]\n",
      "[1, 5, 4, 3, 2] [1, 5]\n",
      "[1, 4, 5, 3, 2] [1, 4, 5]\n",
      "[1, 3, 4, 5, 2] [1, 3, 4, 5]\n",
      "[1, 2, 3, 4, 5] [1, 2, 3, 4, 5]\n",
      "--------------------------------\n",
      "output: [1, 2, 3, 4, 5]\n"
     ]
    }
   ],
   "source": [
    "# test\n",
    "\n",
    "nums = [5, 1, 4, 3, 2]\n",
    "\n",
    "print(f\"input: {nums}\")\n",
    "print(\"-\" * 32)\n",
    "print(\"sorting process\")\n",
    "for i in range(len(nums)): #i: 현재 index\n",
    "    temp_idx = i\n",
    "    for j in range(i): #j: 부분집합(앞부분) index\n",
    "        if nums[i] < nums[j]:\n",
    "            temp_idx = j\n",
    "            break\n",
    "    nums.insert(temp_idx, nums.pop(i))\n",
    "    print(nums, nums[:i+1])\n",
    "print(\"-\" * 32)\n",
    "print(f\"output: {nums}\")"
   ]
  },
  {
   "cell_type": "markdown",
   "id": "5e5e2ae1",
   "metadata": {},
   "source": [
    "## 그냥 풀어보기"
   ]
  },
  {
   "cell_type": "code",
   "execution_count": 86,
   "id": "4f20e182",
   "metadata": {
    "ExecuteTime": {
     "end_time": "2023-01-10T05:16:45.512491Z",
     "start_time": "2023-01-10T05:16:41.297603Z"
    },
    "scrolled": true
   },
   "outputs": [
    {
     "name": "stdout",
     "output_type": "stream",
     "text": [
      "5\n",
      "5\n",
      "4\n",
      "3\n",
      "2\n",
      "1\n",
      "1\n",
      "2\n",
      "3\n",
      "4\n",
      "5\n"
     ]
    }
   ],
   "source": [
    "# My Solution(4)\n",
    "\n",
    "n = int(input())\n",
    "nums = []\n",
    "\n",
    "for _ in range(n):\n",
    "    num = int(input())\n",
    "    nums.append(num)\n",
    "    \n",
    "nums.sort()\n",
    "\n",
    "for i in nums:\n",
    "    print(i)"
   ]
  },
  {
   "cell_type": "code",
   "execution_count": 56,
   "id": "76a1c3af",
   "metadata": {
    "ExecuteTime": {
     "end_time": "2023-01-10T05:16:45.512491Z",
     "start_time": "2023-01-10T05:16:41.297603Z"
    },
    "scrolled": true
   },
   "outputs": [
    {
     "name": "stdout",
     "output_type": "stream",
     "text": [
      "5\n",
      "5\n",
      "4\n",
      "3\n",
      "2\n",
      "1\n",
      "1\n",
      "2\n",
      "3\n",
      "4\n",
      "5\n"
     ]
    }
   ],
   "source": [
    "# My Solution(5)\n",
    "\n",
    "n = int(input())\n",
    "nums = []\n",
    "\n",
    "for _ in range(n):\n",
    "    num = int(input())\n",
    "    temp_idx = len(nums)\n",
    "    for i in range(len(nums)):\n",
    "        if num < nums[i]:\n",
    "            temp_idx = i\n",
    "            break\n",
    "    nums.insert(temp_idx, num)\n",
    "\n",
    "for i in nums:\n",
    "    print(i)"
   ]
  }
 ],
 "metadata": {
  "kernelspec": {
   "display_name": "Python 3 (ipykernel)",
   "language": "python",
   "name": "python3"
  },
  "language_info": {
   "codemirror_mode": {
    "name": "ipython",
    "version": 3
   },
   "file_extension": ".py",
   "mimetype": "text/x-python",
   "name": "python",
   "nbconvert_exporter": "python",
   "pygments_lexer": "ipython3",
   "version": "3.9.13"
  },
  "toc": {
   "base_numbering": 1,
   "nav_menu": {},
   "number_sections": true,
   "sideBar": true,
   "skip_h1_title": false,
   "title_cell": "Table of Contents",
   "title_sidebar": "Contents",
   "toc_cell": false,
   "toc_position": {},
   "toc_section_display": true,
   "toc_window_display": false
  },
  "varInspector": {
   "cols": {
    "lenName": 16,
    "lenType": 16,
    "lenVar": 40
   },
   "kernels_config": {
    "python": {
     "delete_cmd_postfix": "",
     "delete_cmd_prefix": "del ",
     "library": "var_list.py",
     "varRefreshCmd": "print(var_dic_list())"
    },
    "r": {
     "delete_cmd_postfix": ") ",
     "delete_cmd_prefix": "rm(",
     "library": "var_list.r",
     "varRefreshCmd": "cat(var_dic_list()) "
    }
   },
   "types_to_exclude": [
    "module",
    "function",
    "builtin_function_or_method",
    "instance",
    "_Feature"
   ],
   "window_display": false
  }
 },
 "nbformat": 4,
 "nbformat_minor": 5
}
