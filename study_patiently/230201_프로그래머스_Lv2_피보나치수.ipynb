{
 "cells": [
  {
   "cell_type": "markdown",
   "id": "b5fd7078",
   "metadata": {},
   "source": [
    "# 피보나치 수 (프로그래머스 Lv.2)\n",
    "- 코딩테스트 연습 > 연습문제 > 피보나치 수\n",
    "- https://school.programmers.co.kr/learn/courses/30/lessons/12945"
   ]
  },
  {
   "cell_type": "markdown",
   "id": "a1c6431c",
   "metadata": {},
   "source": [
    "**[문제 설명]**\n",
    "\n",
    "피보나치 수는 F(0) = 0, F(1) = 1일 때, 1 이상의 n에 대하여 F(n) = F(n-1) + F(n-2) 가 적용되는 수 입니다.\n",
    "\n",
    "예를 들어\n",
    "\n",
    "- F(2) = F(0) + F(1) = 0 + 1 = 1\n",
    "- F(3) = F(1) + F(2) = 1 + 1 = 2\n",
    "- F(4) = F(2) + F(3) = 1 + 2 = 3\n",
    "- F(5) = F(3) + F(4) = 2 + 3 = 5\n",
    "\n",
    "와 같이 이어집니다.\n",
    "\n",
    "2 이상의 n이 입력되었을 때, n번째 피보나치 수를 1234567으로 나눈 나머지를 리턴하는 함수, solution을 완성해 주세요."
   ]
  },
  {
   "cell_type": "markdown",
   "id": "155aef63",
   "metadata": {},
   "source": [
    "**[제한 사항]**\n",
    "\n",
    "- n은 2 이상 100,000 이하인 자연수입니다."
   ]
  },
  {
   "cell_type": "code",
   "execution_count": 2,
   "id": "c60d6376",
   "metadata": {
    "ExecuteTime": {
     "end_time": "2023-02-01T02:20:48.983283Z",
     "start_time": "2023-02-01T02:20:48.977303Z"
    }
   },
   "outputs": [],
   "source": [
    "# My Solution\n",
    "\n",
    "def solution(n):\n",
    "    nums = [0, 1]\n",
    "    for i in range(2, n + 1):\n",
    "        nums.append(nums[i - 2] + nums[i - 1])\n",
    "    return nums[-1] % 1234567"
   ]
  },
  {
   "cell_type": "code",
   "execution_count": 4,
   "id": "7d9e64d6",
   "metadata": {
    "ExecuteTime": {
     "end_time": "2023-02-01T02:22:28.888233Z",
     "start_time": "2023-02-01T02:22:28.880829Z"
    },
    "scrolled": true
   },
   "outputs": [
    {
     "name": "stdout",
     "output_type": "stream",
     "text": [
      "2\n",
      "5\n"
     ]
    }
   ],
   "source": [
    "print(solution(3)) #2\n",
    "print(solution(5)) #5"
   ]
  },
  {
   "cell_type": "markdown",
   "id": "52a89764",
   "metadata": {},
   "source": [
    "n번째 피보나치 수를 구한 뒤 1234567로 나눈 나머지를 출력하도록 했다. 근데 보니까 n에 가장 큰 수(100000)가 들어오더라도 그 값이 1168141로 1234567보다 작다. 즉, 굳이 안 나눠도 어차피 그게 나머지다."
   ]
  },
  {
   "cell_type": "code",
   "execution_count": 7,
   "id": "99fa413b",
   "metadata": {
    "ExecuteTime": {
     "end_time": "2023-02-01T02:22:28.525119Z",
     "start_time": "2023-02-01T02:22:28.514220Z"
    }
   },
   "outputs": [],
   "source": [
    "# Best Solution\n",
    "\n",
    "def solution(n):\n",
    "    a, b = 0, 1\n",
    "    for _ in range(2, n + 1):\n",
    "        a, b = b, a + b\n",
    "    return b"
   ]
  },
  {
   "cell_type": "code",
   "execution_count": 8,
   "id": "f83a0a75",
   "metadata": {
    "ExecuteTime": {
     "end_time": "2023-02-01T02:22:28.888233Z",
     "start_time": "2023-02-01T02:22:28.880829Z"
    },
    "scrolled": true
   },
   "outputs": [
    {
     "name": "stdout",
     "output_type": "stream",
     "text": [
      "2\n",
      "5\n"
     ]
    }
   ],
   "source": [
    "print(solution(3)) #2\n",
    "print(solution(5)) #5"
   ]
  },
  {
   "cell_type": "markdown",
   "id": "1ae94dd3",
   "metadata": {},
   "source": [
    "파이썬의 특징을 이용해서 a, b의 값을 바꿔주면서 간편하게 연산할 수 있다. 이렇게 하면 **굳이 메모리에 이전 값들을 모두 저장할 필요가 없다...!**"
   ]
  },
  {
   "cell_type": "markdown",
   "id": "2e721cab",
   "metadata": {},
   "source": [
    "# 분수찾기 (백준 #1193)\n",
    "- 실버5\n",
    "- https://www.acmicpc.net/problem/1193"
   ]
  },
  {
   "cell_type": "markdown",
   "id": "32cfdccc",
   "metadata": {},
   "source": [
    "**[문제]**\n",
    "\n",
    "무한히 큰 배열에 다음과 같이 분수들이 적혀있다.\n",
    "\n",
    "1/1\t1/2\t1/3\t1/4\t1/5\t…\n",
    "\n",
    "2/1\t2/2\t2/3\t2/4\t…\t…\n",
    "\n",
    "3/1\t3/2\t3/3\t…\t…\t…\n",
    "\n",
    "4/1\t4/2\t…\t…\t…\t…\n",
    "\n",
    "5/1\t…\t…\t…\t…\t…\n",
    "\n",
    "…\t…\t…\t…\t…\t…\n",
    "\n",
    "이와 같이 나열된 분수들을 1/1 → 1/2 → 2/1 → 3/1 → 2/2 → … 과 같은 지그재그 순서로 차례대로 1번, 2번, 3번, 4번, 5번, … 분수라고 하자.\n",
    "\n",
    "X가 주어졌을 때, X번째 분수를 구하는 프로그램을 작성하시오."
   ]
  },
  {
   "cell_type": "markdown",
   "id": "01db0df9",
   "metadata": {},
   "source": [
    "**[입력]**\n",
    "\n",
    "첫째 줄에 X(1 ≤ X ≤ 10,000,000)가 주어진다."
   ]
  },
  {
   "cell_type": "markdown",
   "id": "21acbf6c",
   "metadata": {},
   "source": [
    "**[출력]**\n",
    "\n",
    "첫째 줄에 분수를 출력한다."
   ]
  },
  {
   "cell_type": "code",
   "execution_count": 53,
   "id": "3fbaed16",
   "metadata": {
    "ExecuteTime": {
     "end_time": "2023-02-01T08:29:40.366169Z",
     "start_time": "2023-02-01T08:29:38.625434Z"
    }
   },
   "outputs": [
    {
     "name": "stdout",
     "output_type": "stream",
     "text": [
      "14\n",
      "2/4\n"
     ]
    }
   ],
   "source": [
    "# My Solution\n",
    "\n",
    "x = int(input())\n",
    "num = 0\n",
    "sum_num = 0\n",
    "\n",
    "for i in range(1, x + 1):\n",
    "    sum_num += i\n",
    "    if sum_num >= x:\n",
    "        num = i\n",
    "        break\n",
    "num += 1\n",
    "\n",
    "if num % 2:\n",
    "    bunmo = sum_num - x + 1\n",
    "    bunza = num - bunmo\n",
    "else:\n",
    "    bunza = sum_num - x + 1\n",
    "    bunmo = num - bunza\n",
    "\n",
    "print(f\"{bunza}/{bunmo}\")"
   ]
  },
  {
   "cell_type": "markdown",
   "id": "c2936e25",
   "metadata": {},
   "source": [
    "같은 대각선에 있는 분수들은 분자와 분모의 합이 같다. 또한 이렇게 분자와 분모의 합을 공유하는 분수의 개수가 1개, 2개, 3개, ... 순서로 증가한다. 이를 활용하면 x번째 분수의 분자와 분모의 합(=num)을 구할 수 있다.\n",
    "\n",
    "단, 분수를 지그재그로 세기 때문에 방향이 매번 반대가 되는 점을 고려해야 한다. 즉, 분자를 오름차순으로 센 다음 대각선에서는 내림차순으로 세어야 한다. 이를 코드로 표현하기 위해 num이 홀수인 경우와 짝수인 경우로 분리하여 생각했다."
   ]
  }
 ],
 "metadata": {
  "kernelspec": {
   "display_name": "Python 3 (ipykernel)",
   "language": "python",
   "name": "python3"
  },
  "language_info": {
   "codemirror_mode": {
    "name": "ipython",
    "version": 3
   },
   "file_extension": ".py",
   "mimetype": "text/x-python",
   "name": "python",
   "nbconvert_exporter": "python",
   "pygments_lexer": "ipython3",
   "version": "3.9.16"
  }
 },
 "nbformat": 4,
 "nbformat_minor": 5
}
