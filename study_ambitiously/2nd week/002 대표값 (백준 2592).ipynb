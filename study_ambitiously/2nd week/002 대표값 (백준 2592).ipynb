{
 "cells": [
  {
   "cell_type": "markdown",
   "id": "e4f4539b",
   "metadata": {},
   "source": [
    "# 대표값 (백준 #2592)\n",
    "- 브론즈2\n",
    "- https://www.acmicpc.net/problem/2592"
   ]
  },
  {
   "cell_type": "markdown",
   "id": "94e35d51",
   "metadata": {},
   "source": [
    "**[문제]**\n",
    "\n",
    "어떤 수들이 있을 때, 그 수들을 대표하는 값으로 가장 흔하게 쓰이는 것은 평균이다. 평균은 주어진 모든 수의 합을 수의 개수로 나눈 것이다. 예를 들어 10, 40, 30, 60, 30, 20, 60, 30, 40, 50의 평균은 (10 + 40 + 30 + 60 + 30 + 20 + 60 + 30 + 40 + 50) / 10 = 370 / 10 = 37이 된다.\n",
    "\n",
    "평균 이외의 또 다른 대표값으로 최빈값이라는 것이 있다. 최빈값은 주어진 수들 가운데 가장 많이 나타나는 수이다. 예를 들어 10, 40, 30, 60, 30, 20, 60, 30, 40, 50이 주어질 경우, 30이 세 번, 40과 60이 각각 두 번, 10, 20, 50이 각각 한 번씩 나오므로, 최빈값은 30이 된다.\n",
    "\n",
    "열 개의 자연수가 주어질 때 이들의 평균과 최빈값을 구하는 프로그램을 작성하시오."
   ]
  },
  {
   "cell_type": "markdown",
   "id": "29b7a119",
   "metadata": {},
   "source": [
    "**[입력]**\n",
    "\n",
    "첫째 줄부터 열 번째 줄까지 한 줄에 하나씩 자연수가 주어진다. 주어지는 자연수는 1,000 보다 작은 10의 배수이다."
   ]
  },
  {
   "cell_type": "markdown",
   "id": "69e5078a",
   "metadata": {},
   "source": [
    "**[출력]**\n",
    "\n",
    "첫째 줄에는 평균을 출력하고, 둘째 줄에는 최빈값을 출력한다. 최빈값이 둘 이상일 경우 그 중 하나만 출력한다. 평균과 최빈값은 모두 자연수이다."
   ]
  },
  {
   "cell_type": "markdown",
   "id": "48a32b71",
   "metadata": {},
   "source": [
    "## 버블 정렬"
   ]
  },
  {
   "cell_type": "code",
   "execution_count": 41,
   "id": "44caed9d",
   "metadata": {
    "ExecuteTime": {
     "end_time": "2023-01-10T05:16:45.512491Z",
     "start_time": "2023-01-10T05:16:41.297603Z"
    },
    "scrolled": false
   },
   "outputs": [
    {
     "name": "stdout",
     "output_type": "stream",
     "text": [
      "10\n",
      "40\n",
      "30\n",
      "60\n",
      "30\n",
      "20\n",
      "60\n",
      "30\n",
      "40\n",
      "50\n",
      "37\n",
      "30\n"
     ]
    }
   ],
   "source": [
    "# My Solution(1) - 버블 정렬\n",
    "\n",
    "nums = [] #[[숫자, 빈도], [숫자, 빈도], ... , [숫자, 빈도]]\n",
    "sum_num = 0\n",
    "\n",
    "# 입력\n",
    "for _ in range(10):\n",
    "    num = int(input())\n",
    "    \n",
    "    sum_num += num\n",
    "    \n",
    "    check = False\n",
    "    for n in nums:\n",
    "        if n[0] == num: #nums에 있는 숫자면 빈도를 1 더해줌\n",
    "            n[1] += 1\n",
    "            check = True\n",
    "            break\n",
    "    if not check: #nums에 없는 숫자면 새로 만들어줌\n",
    "        nums.append([num, 1])\n",
    "\n",
    "# 빈도 내림차순 정렬\n",
    "for i in range(len(nums)):\n",
    "    for j in range(len(nums) - i - 1):\n",
    "        if nums[j][1] < nums[j+1][1]:\n",
    "            temp_num = nums[j]\n",
    "            nums[j] = nums[j+1]\n",
    "            nums[j+1] = temp_num\n",
    "\n",
    "print(sum_num // 10)\n",
    "print(nums[0][0])"
   ]
  },
  {
   "cell_type": "code",
   "execution_count": 40,
   "id": "a2b1491a",
   "metadata": {
    "ExecuteTime": {
     "end_time": "2023-01-10T05:16:45.512491Z",
     "start_time": "2023-01-10T05:16:41.297603Z"
    },
    "scrolled": false
   },
   "outputs": [
    {
     "name": "stdout",
     "output_type": "stream",
     "text": [
      "input: [[60, 2], [10, 1], [40, 3], [80, 2], [30, 1], [50, 1]]\n",
      "--------------------------------------------------------------\n",
      "sorting process\n",
      "[[60, 2], [10, 1], [40, 3], [80, 2], [30, 1], [50, 1]]\n",
      "[[60, 2], [40, 3], [10, 1], [80, 2], [30, 1], [50, 1]]\n",
      "[[60, 2], [40, 3], [80, 2], [10, 1], [30, 1], [50, 1]]\n",
      "[[60, 2], [40, 3], [80, 2], [10, 1], [30, 1], [50, 1]]\n",
      "[[60, 2], [40, 3], [80, 2], [10, 1], [30, 1], [50, 1]]\n",
      "[[40, 3], [60, 2], [80, 2], [10, 1], [30, 1], [50, 1]]\n",
      "[[40, 3], [60, 2], [80, 2], [10, 1], [30, 1], [50, 1]]\n",
      "[[40, 3], [60, 2], [80, 2], [10, 1], [30, 1], [50, 1]]\n",
      "[[40, 3], [60, 2], [80, 2], [10, 1], [30, 1], [50, 1]]\n",
      "[[40, 3], [60, 2], [80, 2], [10, 1], [30, 1], [50, 1]]\n",
      "[[40, 3], [60, 2], [80, 2], [10, 1], [30, 1], [50, 1]]\n",
      "[[40, 3], [60, 2], [80, 2], [10, 1], [30, 1], [50, 1]]\n",
      "[[40, 3], [60, 2], [80, 2], [10, 1], [30, 1], [50, 1]]\n",
      "[[40, 3], [60, 2], [80, 2], [10, 1], [30, 1], [50, 1]]\n",
      "[[40, 3], [60, 2], [80, 2], [10, 1], [30, 1], [50, 1]]\n",
      "--------------------------------------------------------------\n",
      "output: [[40, 3], [60, 2], [80, 2], [10, 1], [30, 1], [50, 1]]\n",
      "평균: 49 (예상: 49)\n",
      "최빈값: 40\n"
     ]
    }
   ],
   "source": [
    "# test\n",
    "\n",
    "import numpy as np\n",
    "\n",
    "# 테스트 데이터 구성\n",
    "np.random.seed(0)\n",
    "rd = np.random.randint(1, 10, 10) * 10\n",
    "\n",
    "nums = [] #[[숫자, 빈도], [숫자, 빈도], ... , [숫자, 빈도]]\n",
    "sum_num = 0\n",
    "\n",
    "#입력\n",
    "for num in rd:\n",
    "    sum_num += num\n",
    "    \n",
    "    check = False\n",
    "    for n in nums:\n",
    "        if n[0] == num: #nums에 있는 숫자면 빈도를 1 더해줌\n",
    "            n[1] += 1\n",
    "            check = True\n",
    "            break\n",
    "    if not check: #nums에 없는 숫자면 새로 만들어줌\n",
    "        nums.append([num, 1])\n",
    "\n",
    "print(f\"input: {nums}\")\n",
    "print(\"-\" * 62)\n",
    "print(\"sorting process\")\n",
    "for i in range(len(nums)): #i: 정렬을 진행한 횟수\n",
    "    for j in range(len(nums) - i - 1): #j: 현재 index\n",
    "        if nums[j][1] < nums[j+1][1]:\n",
    "            temp_num = nums[j]\n",
    "            nums[j] = nums[j+1]\n",
    "            nums[j+1] = temp_num\n",
    "        print(nums)\n",
    "print(\"-\" * 62)\n",
    "print(f\"output: {nums}\")\n",
    "\n",
    "print(f\"평균: {sum_num // 10} (예상: {int(rd.mean())})\")\n",
    "print(f\"최빈값: {nums[0][0]}\")"
   ]
  },
  {
   "cell_type": "markdown",
   "id": "93e76d77",
   "metadata": {},
   "source": [
    "## 선택 정렬"
   ]
  },
  {
   "cell_type": "code",
   "execution_count": 45,
   "id": "07ef3164",
   "metadata": {
    "ExecuteTime": {
     "end_time": "2023-01-10T05:16:45.512491Z",
     "start_time": "2023-01-10T05:16:41.297603Z"
    },
    "scrolled": true
   },
   "outputs": [
    {
     "name": "stdout",
     "output_type": "stream",
     "text": [
      "10\n",
      "40\n",
      "30\n",
      "60\n",
      "30\n",
      "20\n",
      "60\n",
      "30\n",
      "40\n",
      "50\n",
      "37\n",
      "30\n"
     ]
    }
   ],
   "source": [
    "# My Solution(2) - 선택 정렬\n",
    "\n",
    "nums = [] #[[숫자, 빈도], [숫자, 빈도], ... , [숫자, 빈도]]\n",
    "sum_num = 0\n",
    "\n",
    "# 입력\n",
    "for _ in range(10):\n",
    "    num = int(input())\n",
    "    \n",
    "    sum_num += num\n",
    "    \n",
    "    check = False\n",
    "    for n in nums:\n",
    "        if n[0] == num: #nums에 있는 숫자면 빈도를 1 더해줌\n",
    "            n[1] += 1\n",
    "            check = True\n",
    "            break\n",
    "    if not check: #nums에 없는 숫자면 새로 만들어줌\n",
    "        nums.append([num, 1])\n",
    "\n",
    "# 빈도 내림차순 정렬\n",
    "for i in range(len(nums)):\n",
    "    max_idx = i\n",
    "    for j in range(i + 1, len(nums)):\n",
    "        if nums[j][1] > nums[max_idx][1]:\n",
    "            max_idx = j\n",
    "    if nums[i][1] < nums[max_idx][1]:\n",
    "        temp_num = nums[i]\n",
    "        nums[i] = nums[max_idx]\n",
    "        nums[max_idx] = temp_num\n",
    "\n",
    "print(sum_num // 10)\n",
    "print(nums[0][0])"
   ]
  },
  {
   "cell_type": "code",
   "execution_count": 44,
   "id": "01e1b817",
   "metadata": {
    "ExecuteTime": {
     "end_time": "2023-01-10T05:16:45.512491Z",
     "start_time": "2023-01-10T05:16:41.297603Z"
    },
    "scrolled": false
   },
   "outputs": [
    {
     "name": "stdout",
     "output_type": "stream",
     "text": [
      "input: [[60, 2], [10, 1], [40, 3], [80, 2], [30, 1], [50, 1]]\n",
      "--------------------------------------------------------------\n",
      "sorting process\n",
      "[[40, 3], [10, 1], [60, 2], [80, 2], [30, 1], [50, 1]]\n",
      "[[40, 3], [60, 2], [10, 1], [80, 2], [30, 1], [50, 1]]\n",
      "[[40, 3], [60, 2], [80, 2], [10, 1], [30, 1], [50, 1]]\n",
      "[[40, 3], [60, 2], [80, 2], [10, 1], [30, 1], [50, 1]]\n",
      "[[40, 3], [60, 2], [80, 2], [10, 1], [30, 1], [50, 1]]\n",
      "[[40, 3], [60, 2], [80, 2], [10, 1], [30, 1], [50, 1]]\n",
      "--------------------------------------------------------------\n",
      "output: [[40, 3], [60, 2], [80, 2], [10, 1], [30, 1], [50, 1]]\n",
      "평균: 49 (예상: 49)\n",
      "최빈값: 40\n"
     ]
    }
   ],
   "source": [
    "# test\n",
    "\n",
    "import numpy as np\n",
    "\n",
    "# 테스트 데이터 구성\n",
    "np.random.seed(0)\n",
    "rd = np.random.randint(1, 10, 10) * 10\n",
    "\n",
    "nums = [] #[[숫자, 빈도], [숫자, 빈도], ... , [숫자, 빈도]]\n",
    "sum_num = 0\n",
    "\n",
    "#입력\n",
    "for num in rd:\n",
    "    sum_num += num\n",
    "    \n",
    "    check = False\n",
    "    for n in nums:\n",
    "        if n[0] == num: #nums에 있는 숫자면 빈도를 1 더해줌\n",
    "            n[1] += 1\n",
    "            check = True\n",
    "            break\n",
    "    if not check: #nums에 없는 숫자면 새로 만들어줌\n",
    "        nums.append([num, 1])\n",
    "\n",
    "print(f\"input: {nums}\")\n",
    "print(\"-\" * 62)\n",
    "print(\"sorting process\")\n",
    "for i in range(len(nums)): #i: 현재 index\n",
    "    max_idx = i\n",
    "    for j in range(i + 1, len(nums)): #j: max값 찾는 index\n",
    "        if nums[j][1] > nums[max_idx][1]:\n",
    "            max_idx = j\n",
    "    if nums[i][1] < nums[max_idx][1]:\n",
    "        temp_num = nums[i]\n",
    "        nums[i] = nums[max_idx]\n",
    "        nums[max_idx] = temp_num\n",
    "    print(nums)\n",
    "print(\"-\" * 62)\n",
    "print(f\"output: {nums}\")\n",
    "\n",
    "print(f\"평균: {sum_num // 10} (예상: {int(rd.mean())})\")\n",
    "print(f\"최빈값: {nums[0][0]}\")"
   ]
  },
  {
   "cell_type": "markdown",
   "id": "939be2ca",
   "metadata": {},
   "source": [
    "## 삽입 정렬"
   ]
  },
  {
   "cell_type": "code",
   "execution_count": 46,
   "id": "529bfcaa",
   "metadata": {
    "ExecuteTime": {
     "end_time": "2023-01-10T05:16:45.512491Z",
     "start_time": "2023-01-10T05:16:41.297603Z"
    },
    "scrolled": true
   },
   "outputs": [
    {
     "name": "stdout",
     "output_type": "stream",
     "text": [
      "10\n",
      "40\n",
      "30\n",
      "60\n",
      "30\n",
      "20\n",
      "60\n",
      "30\n",
      "40\n",
      "50\n",
      "37\n",
      "30\n"
     ]
    }
   ],
   "source": [
    "# My Solution(3) - 삽입 정렬\n",
    "\n",
    "nums = [] #[[숫자, 빈도], [숫자, 빈도], ... , [숫자, 빈도]]\n",
    "sum_num = 0\n",
    "\n",
    "# 입력\n",
    "for _ in range(10):\n",
    "    num = int(input())\n",
    "    \n",
    "    sum_num += num\n",
    "    \n",
    "    check = False\n",
    "    for n in nums:\n",
    "        if n[0] == num: #nums에 있는 숫자면 빈도를 1 더해줌\n",
    "            n[1] += 1\n",
    "            check = True\n",
    "            break\n",
    "    if not check: #nums에 없는 숫자면 새로 만들어줌\n",
    "        nums.append([num, 1])\n",
    "\n",
    "# 빈도 내림차순 정렬\n",
    "for i in range(len(nums)):\n",
    "    idx = i\n",
    "    for j in range(i):\n",
    "        if nums[i][1] > nums[j][1]:\n",
    "            idx = j\n",
    "            break\n",
    "    nums.insert(idx, nums.pop(i))\n",
    "\n",
    "print(sum_num // 10)\n",
    "print(nums[0][0])"
   ]
  },
  {
   "cell_type": "code",
   "execution_count": 50,
   "id": "0e0ff5a7",
   "metadata": {
    "ExecuteTime": {
     "end_time": "2023-01-10T05:16:45.512491Z",
     "start_time": "2023-01-10T05:16:41.297603Z"
    },
    "scrolled": false
   },
   "outputs": [
    {
     "name": "stdout",
     "output_type": "stream",
     "text": [
      "input: [[60, 2], [10, 1], [40, 3], [80, 2], [30, 1], [50, 1]]\n",
      "--------------------------------------------------------------\n",
      "sorting process\n",
      "[[60, 2]]\n",
      "[[60, 2], [10, 1]]\n",
      "[[40, 3], [60, 2], [10, 1]]\n",
      "[[40, 3], [60, 2], [80, 2], [10, 1]]\n",
      "[[40, 3], [60, 2], [80, 2], [10, 1], [30, 1]]\n",
      "[[40, 3], [60, 2], [80, 2], [10, 1], [30, 1], [50, 1]]\n",
      "--------------------------------------------------------------\n",
      "output: [[40, 3], [60, 2], [80, 2], [10, 1], [30, 1], [50, 1]]\n",
      "평균: 49 (예상: 49)\n",
      "최빈값: 40\n"
     ]
    }
   ],
   "source": [
    "# test\n",
    "\n",
    "import numpy as np\n",
    "\n",
    "# 테스트 데이터 구성\n",
    "np.random.seed(0)\n",
    "rd = np.random.randint(1, 10, 10) * 10\n",
    "\n",
    "nums = [] #[[숫자, 빈도], [숫자, 빈도], ... , [숫자, 빈도]]\n",
    "sum_num = 0\n",
    "\n",
    "#입력\n",
    "for num in rd:\n",
    "    sum_num += num\n",
    "    \n",
    "    check = False\n",
    "    for n in nums:\n",
    "        if n[0] == num: #nums에 있는 숫자면 빈도를 1 더해줌\n",
    "            n[1] += 1\n",
    "            check = True\n",
    "            break\n",
    "    if not check: #nums에 없는 숫자면 새로 만들어줌\n",
    "        nums.append([num, 1])\n",
    "\n",
    "print(f\"input: {nums}\")\n",
    "print(\"-\" * 62)\n",
    "print(\"sorting process\")\n",
    "for i in range(len(nums)):\n",
    "    idx = i\n",
    "    for j in range(i):\n",
    "        if nums[i][1] > nums[j][1]:\n",
    "            idx = j\n",
    "            break\n",
    "    nums.insert(idx, nums.pop(i))\n",
    "    print(nums[:i+1])\n",
    "print(\"-\" * 62)\n",
    "print(f\"output: {nums}\")\n",
    "print(f\"평균: {sum_num // 10} (예상: {int(rd.mean())})\")\n",
    "print(f\"최빈값: {nums[0][0]}\")"
   ]
  },
  {
   "cell_type": "markdown",
   "id": "5e5e2ae1",
   "metadata": {},
   "source": [
    "## 그냥 풀어보기"
   ]
  },
  {
   "cell_type": "code",
   "execution_count": 51,
   "id": "4f20e182",
   "metadata": {
    "ExecuteTime": {
     "end_time": "2023-01-10T05:16:45.512491Z",
     "start_time": "2023-01-10T05:16:41.297603Z"
    },
    "scrolled": false
   },
   "outputs": [
    {
     "name": "stdout",
     "output_type": "stream",
     "text": [
      "10\n",
      "40\n",
      "30\n",
      "60\n",
      "30\n",
      "20\n",
      "60\n",
      "30\n",
      "40\n",
      "50\n",
      "37\n",
      "30\n"
     ]
    }
   ],
   "source": [
    "# My Solution(4)\n",
    "\n",
    "nums = {}\n",
    "sum_num = 0\n",
    "\n",
    "for _ in range(10):\n",
    "    num = int(input())\n",
    "    if num in nums:\n",
    "        nums[num] += 1\n",
    "    else:\n",
    "        nums[num] = 1\n",
    "    sum_num += num\n",
    "\n",
    "print(sum_num // 10)\n",
    "print(list(nums.keys())[list(nums.values()).index(max(nums.values()))])"
   ]
  }
 ],
 "metadata": {
  "kernelspec": {
   "display_name": "Python 3 (ipykernel)",
   "language": "python",
   "name": "python3"
  },
  "language_info": {
   "codemirror_mode": {
    "name": "ipython",
    "version": 3
   },
   "file_extension": ".py",
   "mimetype": "text/x-python",
   "name": "python",
   "nbconvert_exporter": "python",
   "pygments_lexer": "ipython3",
   "version": "3.9.13"
  },
  "toc": {
   "base_numbering": 1,
   "nav_menu": {},
   "number_sections": true,
   "sideBar": true,
   "skip_h1_title": false,
   "title_cell": "Table of Contents",
   "title_sidebar": "Contents",
   "toc_cell": false,
   "toc_position": {},
   "toc_section_display": true,
   "toc_window_display": false
  },
  "varInspector": {
   "cols": {
    "lenName": 16,
    "lenType": 16,
    "lenVar": 40
   },
   "kernels_config": {
    "python": {
     "delete_cmd_postfix": "",
     "delete_cmd_prefix": "del ",
     "library": "var_list.py",
     "varRefreshCmd": "print(var_dic_list())"
    },
    "r": {
     "delete_cmd_postfix": ") ",
     "delete_cmd_prefix": "rm(",
     "library": "var_list.r",
     "varRefreshCmd": "cat(var_dic_list()) "
    }
   },
   "types_to_exclude": [
    "module",
    "function",
    "builtin_function_or_method",
    "instance",
    "_Feature"
   ],
   "window_display": false
  }
 },
 "nbformat": 4,
 "nbformat_minor": 5
}
