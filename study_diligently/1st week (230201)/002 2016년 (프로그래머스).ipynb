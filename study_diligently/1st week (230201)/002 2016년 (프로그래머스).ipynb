{
 "cells": [
  {
   "cell_type": "markdown",
   "id": "6ca8ecdd",
   "metadata": {},
   "source": [
    "# 2016년 (프로그래머스 Lv.1)\n",
    "\n",
    "- 코딩테스트 연습 > 연습문제 > 2016년\n",
    "- https://school.programmers.co.kr/learn/courses/30/lessons/12901"
   ]
  },
  {
   "cell_type": "markdown",
   "id": "723be47f",
   "metadata": {},
   "source": [
    "**[문제 설명]**\n",
    "\n",
    "2016년 1월 1일은 금요일입니다. 2016년 a월 b일은 무슨 요일일까요? 두 수 a ,b를 입력받아 2016년 a월 b일이 무슨 요일인지 리턴하는 함수, solution을 완성하세요. 요일의 이름은 일요일부터 토요일까지 각각 SUN,MON,TUE,WED,THU,FRI,SAT입니다. 예를 들어 a=5, b=24라면 5월 24일은 화요일이므로 문자열 \"TUE\"를 반환하세요."
   ]
  },
  {
   "cell_type": "markdown",
   "id": "afd96426",
   "metadata": {},
   "source": [
    "**[제한 조건]**\n",
    "\n",
    "- 2016년은 윤년입니다.\n",
    "- 2016년 a월 b일은 실제로 있는 날입니다. (13월 26일이나 2월 45일같은 날짜는 주어지지 않습니다)"
   ]
  },
  {
   "cell_type": "code",
   "execution_count": 4,
   "id": "90f441ed",
   "metadata": {
    "ExecuteTime": {
     "end_time": "2023-01-30T11:01:47.721175Z",
     "start_time": "2023-01-30T11:01:47.716190Z"
    }
   },
   "outputs": [],
   "source": [
    "# My Solution\n",
    "\n",
    "def solution(a, b):\n",
    "    m_d = {1: 31, 2: 29, 3: 31, 4: 30, 5: 31, 6: 30,\n",
    "           7: 31, 8: 31, 9: 30, 10: 31, 11: 30, 12: 31}\n",
    "\n",
    "    how_long = b - 1\n",
    "    for i in range(1, a):\n",
    "        how_long += m_d[i]\n",
    "\n",
    "    weekdays = [\"FRI\", \"SAT\", \"SUN\", \"MON\", \"TUE\", \"WED\", \"THU\"]\n",
    "    return weekdays[how_long % 7]"
   ]
  },
  {
   "cell_type": "code",
   "execution_count": 5,
   "id": "d80c0a0b",
   "metadata": {
    "ExecuteTime": {
     "end_time": "2023-01-30T11:02:02.966588Z",
     "start_time": "2023-01-30T11:02:02.963360Z"
    }
   },
   "outputs": [
    {
     "name": "stdout",
     "output_type": "stream",
     "text": [
      "TUE\n"
     ]
    }
   ],
   "source": [
    "print(solution(5, 24)) #\"TUE\""
   ]
  }
 ],
 "metadata": {
  "kernelspec": {
   "display_name": "Python 3 (ipykernel)",
   "language": "python",
   "name": "python3"
  },
  "language_info": {
   "codemirror_mode": {
    "name": "ipython",
    "version": 3
   },
   "file_extension": ".py",
   "mimetype": "text/x-python",
   "name": "python",
   "nbconvert_exporter": "python",
   "pygments_lexer": "ipython3",
   "version": "3.9.16"
  }
 },
 "nbformat": 4,
 "nbformat_minor": 5
}
