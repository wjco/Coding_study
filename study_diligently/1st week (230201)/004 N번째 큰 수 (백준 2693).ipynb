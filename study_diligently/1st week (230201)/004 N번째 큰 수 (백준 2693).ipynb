{
 "cells": [
  {
   "cell_type": "markdown",
   "id": "05f4bf42",
   "metadata": {},
   "source": [
    "# N번째 큰 수 (백준 #2693)\n",
    "\n",
    "- 브론즈1\n",
    "- https://www.acmicpc.net/problem/2693"
   ]
  },
  {
   "cell_type": "markdown",
   "id": "96c56950",
   "metadata": {},
   "source": [
    "**[문제]**\n",
    "\n",
    "배열 A가 주어졌을 때, N번째 큰 값을 출력하는 프로그램을 작성하시오.\n",
    "\n",
    "배열 A의 크기는 항상 10이고, 자연수만 가지고 있다. N은 항상 3이다."
   ]
  },
  {
   "cell_type": "markdown",
   "id": "394498b9",
   "metadata": {},
   "source": [
    "**[입력]**\n",
    "\n",
    "첫째 줄에 테스트 케이스의 개수 T(1 ≤ T ≤ 1,000)가 주어진다. 각 테스트 케이스는 한 줄로 이루어져 있고, 배열 A의 원소 10개가 공백으로 구분되어 주어진다. 이 원소는 1보다 크거나 같고, 1,000보다 작거나 같은 자연수이다."
   ]
  },
  {
   "cell_type": "markdown",
   "id": "48d8d699",
   "metadata": {},
   "source": [
    "**[출력]**\n",
    "\n",
    "각 테스트 케이스에 대해 한 줄에 하나씩 배열 A에서 3번째 큰 값을 출력한다."
   ]
  },
  {
   "cell_type": "code",
   "execution_count": 3,
   "id": "2051352f",
   "metadata": {
    "ExecuteTime": {
     "end_time": "2023-01-30T11:09:51.350410Z",
     "start_time": "2023-01-30T11:09:31.917616Z"
    },
    "scrolled": true
   },
   "outputs": [
    {
     "name": "stdout",
     "output_type": "stream",
     "text": [
      "4\n",
      "1 2 3 4 5 6 7 8 9 1000\n",
      "8\n",
      "338 304 619 95 343 496 489 116 98 127\n",
      "489\n",
      "931 240 986 894 826 640 965 833 136 138\n",
      "931\n",
      "940 955 364 188 133 254 501 122 768 408\n",
      "768\n"
     ]
    }
   ],
   "source": [
    "# My Solution (1)\n",
    "\n",
    "t = int(input())\n",
    "\n",
    "for _ in range(t):\n",
    "    nums = map(int, input().split())\n",
    "    nums = sorted(nums) # nums.sort()\n",
    "    print(nums[-3])"
   ]
  },
  {
   "cell_type": "code",
   "execution_count": 4,
   "id": "4c658204",
   "metadata": {
    "ExecuteTime": {
     "end_time": "2023-01-30T11:10:40.708427Z",
     "start_time": "2023-01-30T11:10:28.430704Z"
    }
   },
   "outputs": [
    {
     "name": "stdout",
     "output_type": "stream",
     "text": [
      "4\n",
      "1 2 3 4 5 6 7 8 9 1000\n",
      "8\n",
      "338 304 619 95 343 496 489 116 98 127\n",
      "489\n",
      "931 240 986 894 826 640 965 833 136 138\n",
      "931\n",
      "940 955 364 188 133 254 501 122 768 408\n",
      "768\n"
     ]
    },
    {
     "data": {
      "text/plain": [
       "[None, None, None, None]"
      ]
     },
     "execution_count": 4,
     "metadata": {},
     "output_type": "execute_result"
    }
   ],
   "source": [
    "# My Solution (2)\n",
    "\n",
    "[print(sorted(map(int, input().split()))[-3]) for _ in range(int(input()))]"
   ]
  }
 ],
 "metadata": {
  "kernelspec": {
   "display_name": "Python 3 (ipykernel)",
   "language": "python",
   "name": "python3"
  },
  "language_info": {
   "codemirror_mode": {
    "name": "ipython",
    "version": 3
   },
   "file_extension": ".py",
   "mimetype": "text/x-python",
   "name": "python",
   "nbconvert_exporter": "python",
   "pygments_lexer": "ipython3",
   "version": "3.9.16"
  }
 },
 "nbformat": 4,
 "nbformat_minor": 5
}
