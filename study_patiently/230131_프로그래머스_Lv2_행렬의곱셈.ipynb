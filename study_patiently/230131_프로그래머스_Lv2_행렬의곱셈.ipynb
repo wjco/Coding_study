{
 "cells": [
  {
   "cell_type": "markdown",
   "id": "d95c95db",
   "metadata": {},
   "source": [
    "# 행렬의 곱셈 (프로그래머스 Lv.2)\n",
    "- 코딩테스트 연습 > 연습문제 > 행렬의 곱셈\n",
    "- https://school.programmers.co.kr/learn/courses/30/lessons/12949"
   ]
  },
  {
   "cell_type": "markdown",
   "id": "4989b401",
   "metadata": {},
   "source": [
    "**[문제 설명]**\n",
    "\n",
    "2차원 행렬 arr1과 arr2를 입력받아, arr1에 arr2를 곱한 결과를 반환하는 함수, solution을 완성해주세요."
   ]
  },
  {
   "cell_type": "markdown",
   "id": "831dea26",
   "metadata": {},
   "source": [
    "**[제한 조건]**\n",
    "\n",
    "- 행렬 arr1, arr2의 행과 열의 길이는 2 이상 100 이하입니다.\n",
    "- 행렬 arr1, arr2의 원소는 -10 이상 20 이하인 자연수입니다.\n",
    "- 곱할 수 있는 배열만 주어집니다."
   ]
  },
  {
   "cell_type": "code",
   "execution_count": 23,
   "id": "cd215139",
   "metadata": {
    "ExecuteTime": {
     "end_time": "2023-01-31T09:21:36.420358Z",
     "start_time": "2023-01-31T09:21:36.411888Z"
    }
   },
   "outputs": [],
   "source": [
    "def solution(arr1, arr2):\n",
    "    answer = [[0 for j in range(len(arr2[0]))] for i in range(len(arr1))]\n",
    "\n",
    "    for i in range(len(arr1)):\n",
    "        for j in range(len(arr2[0])):\n",
    "            for k in range(len(arr2)):\n",
    "                answer[i][j] += arr1[i][k] * arr2[k][j]\n",
    "                \n",
    "    return answer"
   ]
  },
  {
   "cell_type": "code",
   "execution_count": 25,
   "id": "fa1c857a",
   "metadata": {
    "ExecuteTime": {
     "end_time": "2023-01-31T09:21:50.863773Z",
     "start_time": "2023-01-31T09:21:50.858696Z"
    }
   },
   "outputs": [
    {
     "name": "stdout",
     "output_type": "stream",
     "text": [
      "[[15, 15], [15, 15], [15, 15]]\n",
      "[[22, 22, 11], [36, 28, 18], [29, 20, 14]]\n"
     ]
    }
   ],
   "source": [
    "print(solution([[1, 4], [3, 2], [4, 1]], [[3, 3], [3, 3]])) #[[15, 15], [15, 15], [15, 15]]\n",
    "print(solution([[2, 3, 2], [4, 2, 4], [3, 1, 4]], [[5, 4, 3], [2, 4, 1], [3, 1, 1]])) #[[22, 22, 11], [36, 28, 18], [29, 20, 14]]"
   ]
  },
  {
   "cell_type": "markdown",
   "id": "1a209c1b",
   "metadata": {},
   "source": [
    "인덱싱... 어질어질해....... arr1은 i를 따라가고 arr2는 j를 따라간다는 걸 깨닫기까지 일단 고역이었고 그 다음에 인덱싱하는 것도 쉽지 않았다."
   ]
  },
  {
   "cell_type": "code",
   "execution_count": 40,
   "id": "0ac1d39b",
   "metadata": {
    "ExecuteTime": {
     "end_time": "2023-01-31T09:36:36.814608Z",
     "start_time": "2023-01-31T09:36:36.810238Z"
    }
   },
   "outputs": [],
   "source": [
    "import pandas as pd\n",
    "\n",
    "def solution(arr1, arr2):\n",
    "    a1 = pd.DataFrame(arr1)\n",
    "    a2 = pd.DataFrame(arr2)\n",
    "    answer = a1.dot(a2)\n",
    "    answer = answer.values.tolist()\n",
    "    \n",
    "    return answer"
   ]
  },
  {
   "cell_type": "code",
   "execution_count": 41,
   "id": "cb7214c7",
   "metadata": {
    "ExecuteTime": {
     "end_time": "2023-01-31T09:36:38.542962Z",
     "start_time": "2023-01-31T09:36:38.531445Z"
    }
   },
   "outputs": [
    {
     "name": "stdout",
     "output_type": "stream",
     "text": [
      "[[15, 15], [15, 15], [15, 15]]\n",
      "[[22, 22, 11], [36, 28, 18], [29, 20, 14]]\n"
     ]
    }
   ],
   "source": [
    "print(solution([[1, 4], [3, 2], [4, 1]], [[3, 3], [3, 3]])) #[[15, 15], [15, 15], [15, 15]]\n",
    "print(solution([[2, 3, 2], [4, 2, 4], [3, 1, 4]], [[5, 4, 3], [2, 4, 1], [3, 1, 1]])) #[[22, 22, 11], [36, 28, 18], [29, 20, 14]]"
   ]
  },
  {
   "cell_type": "markdown",
   "id": "653279ac",
   "metadata": {},
   "source": [
    "pandas로도 되네...? df.dot(df)이라는 행렬 곱셈이 있어서 굉장히 쉽게 끝냈다. 그리고 이거 하면서 맨날 헷갈렸던 df.values.tolist()를 한번 짚고 넘어갈 수 있었다!"
   ]
  },
  {
   "cell_type": "code",
   "execution_count": 45,
   "id": "4d96cafe",
   "metadata": {
    "ExecuteTime": {
     "end_time": "2023-01-31T09:40:49.368067Z",
     "start_time": "2023-01-31T09:40:49.360095Z"
    }
   },
   "outputs": [],
   "source": [
    "import numpy as np\n",
    "\n",
    "def solution(arr1, arr2):\n",
    "    a1 = np.array(arr1)\n",
    "    a2 = np.array(arr2)\n",
    "    answer = np.matmul(a1, a2).tolist()\n",
    "\n",
    "    return answer"
   ]
  },
  {
   "cell_type": "code",
   "execution_count": 46,
   "id": "421bdce6",
   "metadata": {
    "ExecuteTime": {
     "end_time": "2023-01-31T09:40:53.101654Z",
     "start_time": "2023-01-31T09:40:53.095839Z"
    }
   },
   "outputs": [
    {
     "name": "stdout",
     "output_type": "stream",
     "text": [
      "[[15, 15], [15, 15], [15, 15]]\n",
      "[[22, 22, 11], [36, 28, 18], [29, 20, 14]]\n"
     ]
    }
   ],
   "source": [
    "print(solution([[1, 4], [3, 2], [4, 1]], [[3, 3], [3, 3]])) #[[15, 15], [15, 15], [15, 15]]\n",
    "print(solution([[2, 3, 2], [4, 2, 4], [3, 1, 4]], [[5, 4, 3], [2, 4, 1], [3, 1, 1]])) #[[22, 22, 11], [36, 28, 18], [29, 20, 14]]"
   ]
  },
  {
   "cell_type": "markdown",
   "id": "857dbd0b",
   "metadata": {},
   "source": [
    "numpy로도 된다 ㅋㅋㅋㅋㅋ np.matmul(array, array)를 이용해서 행렬 곱셈을 할 수 있다."
   ]
  }
 ],
 "metadata": {
  "kernelspec": {
   "display_name": "Python 3 (ipykernel)",
   "language": "python",
   "name": "python3"
  },
  "language_info": {
   "codemirror_mode": {
    "name": "ipython",
    "version": 3
   },
   "file_extension": ".py",
   "mimetype": "text/x-python",
   "name": "python",
   "nbconvert_exporter": "python",
   "pygments_lexer": "ipython3",
   "version": "3.9.16"
  }
 },
 "nbformat": 4,
 "nbformat_minor": 5
}
