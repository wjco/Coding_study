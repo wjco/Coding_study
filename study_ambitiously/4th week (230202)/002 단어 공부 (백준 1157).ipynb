{
 "cells": [
  {
   "cell_type": "markdown",
   "id": "514009d2",
   "metadata": {},
   "source": [
    "# 단어 공부 (백준 #1157)\n",
    "\n",
    "- 브론즈1\n",
    "- https://www.acmicpc.net/problem/1157"
   ]
  },
  {
   "cell_type": "markdown",
   "id": "54124643",
   "metadata": {},
   "source": [
    "**[문제]**\n",
    "\n",
    "알파벳 대소문자로 된 단어가 주어지면, 이 단어에서 가장 많이 사용된 알파벳이 무엇인지 알아내는 프로그램을 작성하시오. 단, 대문자와 소문자를 구분하지 않는다."
   ]
  },
  {
   "cell_type": "markdown",
   "id": "c43de72d",
   "metadata": {},
   "source": [
    "**[입력]**\n",
    "\n",
    "첫째 줄에 알파벳 대소문자로 이루어진 단어가 주어진다. 주어지는 단어의 길이는 1,000,000을 넘지 않는다."
   ]
  },
  {
   "cell_type": "markdown",
   "id": "76d294c5",
   "metadata": {},
   "source": [
    "**[출력]**\n",
    "\n",
    "첫째 줄에 이 단어에서 가장 많이 사용된 알파벳을 대문자로 출력한다. 단, 가장 많이 사용된 알파벳이 여러 개 존재하는 경우에는 ?를 출력한다."
   ]
  },
  {
   "cell_type": "code",
   "execution_count": 1,
   "id": "7adadb6b",
   "metadata": {
    "ExecuteTime": {
     "end_time": "2023-01-30T10:39:50.428128Z",
     "start_time": "2023-01-30T10:39:49.129393Z"
    }
   },
   "outputs": [
    {
     "name": "stdout",
     "output_type": "stream",
     "text": [
      "Mississipi\n",
      "?\n"
     ]
    }
   ],
   "source": [
    "txt = input().upper()\n",
    "how_many = {chr(ord(\"A\")+i) : 0 for i in range(26)} #A~Z : 0을 담은 딕셔너리\n",
    "\n",
    "for t in txt:\n",
    "    how_many[t] += 1\n",
    "\n",
    "max_val = max(how_many.values())\n",
    "max_cnt = 0\n",
    "max_chr = \"\"\n",
    "\n",
    "for key, value in how_many.items():\n",
    "    if value == max_val:\n",
    "        max_cnt += 1\n",
    "        max_chr = key\n",
    "        if max_cnt > 1:\n",
    "            max_chr = \"?\"\n",
    "            break\n",
    "            \n",
    "print(max_chr)"
   ]
  }
 ],
 "metadata": {
  "kernelspec": {
   "display_name": "Python 3 (ipykernel)",
   "language": "python",
   "name": "python3"
  },
  "language_info": {
   "codemirror_mode": {
    "name": "ipython",
    "version": 3
   },
   "file_extension": ".py",
   "mimetype": "text/x-python",
   "name": "python",
   "nbconvert_exporter": "python",
   "pygments_lexer": "ipython3",
   "version": "3.9.16"
  }
 },
 "nbformat": 4,
 "nbformat_minor": 5
}
