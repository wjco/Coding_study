{
 "cells": [
  {
   "cell_type": "markdown",
   "id": "3a12148c",
   "metadata": {},
   "source": [
    "# 윷놀이 (백준 #2490)\n",
    "- 브론즈3\n",
    "- https://www.acmicpc.net/problem/2490"
   ]
  },
  {
   "cell_type": "markdown",
   "id": "a99b2d7e",
   "metadata": {},
   "source": [
    "**[문제]**\n",
    "\n",
    "우리나라 고유의 윷놀이는 네 개의 윷짝을 던져서 배(0)와 등(1)이 나오는 숫자를 세어 도, 개, 걸, 윷, 모를 결정한다. 네 개 윷짝을 던져서 나온 각 윷짝의 배 혹은 등 정보가 주어질 때 도(배 한 개, 등 세 개), 개(배 두 개, 등 두 개), 걸(배 세 개, 등 한 개), 윷(배 네 개), 모(등 네 개) 중 어떤 것인지를 결정하는 프로그램을 작성하라."
   ]
  },
  {
   "cell_type": "markdown",
   "id": "24979f59",
   "metadata": {},
   "source": [
    "**[입력]**\n",
    "\n",
    "첫째 줄부터 셋째 줄까지 각 줄에 각각 한 번 던진 윷짝들의 상태를 나타내는 네 개의 정수(0 또는 1)가 빈칸을 사이에 두고 주어진다."
   ]
  },
  {
   "cell_type": "markdown",
   "id": "ba017ec2",
   "metadata": {},
   "source": [
    "**[출력]**\n",
    "\n",
    "첫째 줄부터 셋째 줄까지 한 줄에 하나씩 결과를 도는 A, 개는 B, 걸은 C, 윷은 D, 모는 E로 출력한다."
   ]
  },
  {
   "cell_type": "code",
   "execution_count": 7,
   "id": "b599d567",
   "metadata": {
    "ExecuteTime": {
     "end_time": "2023-01-10T05:32:20.537122Z",
     "start_time": "2023-01-10T05:32:08.585769Z"
    }
   },
   "outputs": [
    {
     "name": "stdout",
     "output_type": "stream",
     "text": [
      "1 1 1 1\n",
      "D\n",
      "0 0 0 0\n",
      "E\n",
      "1 1 0 0\n",
      "B\n"
     ]
    }
   ],
   "source": [
    "# My Solution\n",
    "\n",
    "for _ in range(3):\n",
    "    a, b, c, d = map(int, input().split())\n",
    "    yoot = a + b + c + d\n",
    "\n",
    "    if yoot == 0:\n",
    "        print(\"D\")\n",
    "    elif yoot == 1:\n",
    "        print(\"C\")\n",
    "    elif yoot == 2:\n",
    "        print(\"B\")\n",
    "    elif yoot == 3:\n",
    "        print(\"A\")\n",
    "    else:\n",
    "        print(\"E\")"
   ]
  }
 ],
 "metadata": {
  "kernelspec": {
   "display_name": "Python 3 (ipykernel)",
   "language": "python",
   "name": "python3"
  },
  "language_info": {
   "codemirror_mode": {
    "name": "ipython",
    "version": 3
   },
   "file_extension": ".py",
   "mimetype": "text/x-python",
   "name": "python",
   "nbconvert_exporter": "python",
   "pygments_lexer": "ipython3",
   "version": "3.9.13"
  },
  "toc": {
   "base_numbering": 1,
   "nav_menu": {},
   "number_sections": true,
   "sideBar": true,
   "skip_h1_title": false,
   "title_cell": "Table of Contents",
   "title_sidebar": "Contents",
   "toc_cell": false,
   "toc_position": {},
   "toc_section_display": true,
   "toc_window_display": false
  },
  "varInspector": {
   "cols": {
    "lenName": 16,
    "lenType": 16,
    "lenVar": 40
   },
   "kernels_config": {
    "python": {
     "delete_cmd_postfix": "",
     "delete_cmd_prefix": "del ",
     "library": "var_list.py",
     "varRefreshCmd": "print(var_dic_list())"
    },
    "r": {
     "delete_cmd_postfix": ") ",
     "delete_cmd_prefix": "rm(",
     "library": "var_list.r",
     "varRefreshCmd": "cat(var_dic_list()) "
    }
   },
   "types_to_exclude": [
    "module",
    "function",
    "builtin_function_or_method",
    "instance",
    "_Feature"
   ],
   "window_display": false
  }
 },
 "nbformat": 4,
 "nbformat_minor": 5
}
