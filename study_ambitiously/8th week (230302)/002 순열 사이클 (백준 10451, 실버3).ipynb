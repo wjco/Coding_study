{
 "cells": [
  {
   "cell_type": "markdown",
   "id": "ff8d0252",
   "metadata": {},
   "source": [
    "# 순열 사이클 (백준 #10451)\n",
    "- 실버3\n",
    "- https://www.acmicpc.net/problem/10451"
   ]
  },
  {
   "attachments": {
    "permut.png": {
     "image/png": "[encoded data removed]"
    }
   },
   "cell_type": "markdown",
   "id": "f0db6a29",
   "metadata": {},
   "source": [
    "**[문제]**\n",
    "\n",
    "1부터 N까지 정수 N개로 이루어진 순열을 나타내는 방법은 여러 가지가 있다. 예를 들어, 8개의 수로 이루어진 순열 (3, 2, 7, 8, 1, 4, 5, 6)을 배열을 이용해 표현하면  \n",
    " \n",
    "\\begin{pmatrix} 1 & 2 &3&4&5&6&7&8 \\\\  3& 2&7&8&1&4&5&6 \\end{pmatrix}\\\n",
    "와 같다. 또는, Figure 1과 같이 방향 그래프로 나타낼 수도 있다.\n",
    "\n",
    "![permut.png](attachment:permut.png)\n",
    "순열을 배열을 이용해  \n",
    " \n",
    "\\begin{pmatrix} 1 & \\dots & i & \\dots &n \\\\  \\pi_1& \\dots& \\pi_i & \\dots & \\pi_n \\end{pmatrix}\\\n",
    "로 나타냈다면, i에서 πi로 간선을 이어 그래프로 만들 수 있다.\n",
    "\n",
    "Figure 1에 나와있는 것 처럼, 순열 그래프 (3, 2, 7, 8, 1, 4, 5, 6) 에는 총 3개의 사이클이 있다. 이러한 사이클을 \"순열 사이클\" 이라고 한다.\n",
    "\n",
    "N개의 정수로 이루어진 순열이 주어졌을 때, 순열 사이클의 개수를 구하는 프로그램을 작성하시오."
   ]
  },
  {
   "cell_type": "markdown",
   "id": "510f3a8f",
   "metadata": {},
   "source": [
    "**[입력]**\n",
    "\n",
    "첫째 줄에 테스트 케이스의 개수 T가 주어진다. 각 테스트 케이스의 첫째 줄에는 순열의 크기 N (2 ≤ N ≤ 1,000)이 주어진다. 둘째 줄에는 순열이 주어지며, 각 정수는 공백으로 구분되어 있다."
   ]
  },
  {
   "cell_type": "markdown",
   "id": "47ecce3f",
   "metadata": {},
   "source": [
    "**[출력]**\n",
    "\n",
    "각 테스트 케이스마다, 입력으로 주어진 순열에 존재하는 순열 사이클의 개수를 출력한다."
   ]
  },
  {
   "cell_type": "code",
   "execution_count": 4,
   "id": "b3bd941f",
   "metadata": {
    "ExecuteTime": {
     "end_time": "2023-03-02T06:46:11.972132Z",
     "start_time": "2023-03-02T06:46:00.931306Z"
    }
   },
   "outputs": [
    {
     "name": "stdout",
     "output_type": "stream",
     "text": [
      "2\n",
      "8\n",
      "3 2 7 8 1 4 5 6\n",
      "3\n",
      "10\n",
      "2 1 3 4 5 6 7 9 10 8\n",
      "7\n"
     ]
    }
   ],
   "source": [
    "# My Solution\n",
    "\n",
    "import sys\n",
    "\n",
    "def kang_kang_sul_lae(now, links, visited, cycle=0):   \n",
    "    visited[now] = 1\n",
    "    for i in range(n):\n",
    "        if links[now][i] == 1: #어디로 연결되어 있는지 볼까?\n",
    "            if visited[i] == 0: #아직 안 온 곳이야?\n",
    "                kang_kang_sul_lae(i, links, visited, cycle) #ㄱㄱ\n",
    "                break\n",
    "            else: #이미 한 번 온 곳이라고?\n",
    "                cycle += 1 #한 바퀴 돌았넹~\n",
    "                if sum(visited) == len(visited): #어라 다 끝났다고?\n",
    "                    print(cycle) #ㅅㄱㅇ\n",
    "                    return\n",
    "                for j in range(n): #아직 갈 길이 남았다면\n",
    "                    if visited[j] == 0: #어디로 갈지 탐색\n",
    "                        now = j\n",
    "                        break\n",
    "                else:\n",
    "                    kang_kang_sul_lae(now, links, visited, cycle) #ㄱㄱ\n",
    "\n",
    "                    \n",
    "# input = sys.stdin.readline\n",
    "t = int(input())\n",
    "for _ in range(t):\n",
    "    n = int(input())\n",
    "    nums = list(map(int, input().split()))\n",
    "    \n",
    "    links = [[0 for _ in range(n)] for __ in range(n)] #인접행렬\n",
    "    for i in range(n):\n",
    "        link_a, link_b = i + 1, nums[i]\n",
    "        links[link_a - 1][link_b - 1] = 1\n",
    "    \n",
    "    kang_kang_sul_lae(0, links, [0 for _ in range(n)])"
   ]
  },
  {
   "cell_type": "markdown",
   "id": "df9b6d6b",
   "metadata": {},
   "source": [
    "응 시간 초과"
   ]
  }
 ],
 "metadata": {
  "kernelspec": {
   "display_name": "Python 3 (ipykernel)",
   "language": "python",
   "name": "python3"
  },
  "language_info": {
   "codemirror_mode": {
    "name": "ipython",
    "version": 3
   },
   "file_extension": ".py",
   "mimetype": "text/x-python",
   "name": "python",
   "nbconvert_exporter": "python",
   "pygments_lexer": "ipython3",
   "version": "3.9.0"
  }
 },
 "nbformat": 4,
 "nbformat_minor": 5
}
