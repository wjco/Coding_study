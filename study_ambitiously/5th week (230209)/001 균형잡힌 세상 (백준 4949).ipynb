{
 "cells": [
  {
   "cell_type": "markdown",
   "id": "ff8d0252",
   "metadata": {},
   "source": [
    "# 균형잡힌 세상 (백준 #4949)\n",
    "- 실버4\n",
    "- https://www.acmicpc.net/problem/4949"
   ]
  },
  {
   "cell_type": "markdown",
   "id": "f0db6a29",
   "metadata": {},
   "source": [
    "**[문제]**\n",
    "\n",
    "세계는 균형이 잘 잡혀있어야 한다. 양과 음, 빛과 어둠 그리고 왼쪽 괄호와 오른쪽 괄호처럼 말이다.\n",
    "\n",
    "정민이의 임무는 어떤 문자열이 주어졌을 때, 괄호들의 균형이 잘 맞춰져 있는지 판단하는 프로그램을 짜는 것이다.\n",
    "\n",
    "문자열에 포함되는 괄호는 소괄호(\"()\") 와 대괄호(\"[]\")로 2종류이고, 문자열이 균형을 이루는 조건은 아래와 같다.\n",
    "- 모든 왼쪽 소괄호(\"(\")는 오른쪽 소괄호(\")\")와만 짝을 이뤄야 한다.\n",
    "- 모든 왼쪽 대괄호(\"[\")는 오른쪽 대괄호(\"]\")와만 짝을 이뤄야 한다.\n",
    "- 모든 오른쪽 괄호들은 자신과 짝을 이룰 수 있는 왼쪽 괄호가 존재한다.\n",
    "- 모든 괄호들의 짝은 1:1 매칭만 가능하다. 즉, 괄호 하나가 둘 이상의 괄호와 짝지어지지 않는다.\n",
    "- 짝을 이루는 두 괄호가 있을 때, 그 사이에 있는 문자열도 균형이 잡혀야 한다.\n",
    "\n",
    "정민이를 도와 문자열이 주어졌을 때 균형잡힌 문자열인지 아닌지를 판단해보자."
   ]
  },
  {
   "cell_type": "markdown",
   "id": "510f3a8f",
   "metadata": {},
   "source": [
    "**[입력]**\n",
    "\n",
    "하나 또는 여러줄에 걸쳐서 문자열이 주어진다. 각 문자열은 영문 알파벳, 공백, 소괄호(\"( )\") 대괄호(\"[ ]\")등으로 이루어져 있으며, 길이는 100글자보다 작거나 같다. 각 줄은 마침표(\".\")로 끝난다.\n",
    "\n",
    "입력의 종료조건으로 맨 마지막에 점 하나(\".\")가 들어온다."
   ]
  },
  {
   "cell_type": "markdown",
   "id": "47ecce3f",
   "metadata": {},
   "source": [
    "**[출력]**\n",
    "\n",
    "각 줄마다 해당 문자열이 균형을 이루고 있으면 \"yes\"를, 아니면 \"no\"를 출력한다."
   ]
  },
  {
   "cell_type": "code",
   "execution_count": 5,
   "id": "b3bd941f",
   "metadata": {
    "ExecuteTime": {
     "end_time": "2023-02-07T09:12:57.344291Z",
     "start_time": "2023-02-07T09:12:44.521709Z"
    }
   },
   "outputs": [
    {
     "name": "stdout",
     "output_type": "stream",
     "text": [
      "(()).\n",
      "yes\n",
      "()).\n",
      "no\n",
      "())\n",
      "yes\n",
      "(().\n",
      "no\n",
      ".\n"
     ]
    }
   ],
   "source": [
    "# My Solution (1) - 스택/큐 없이 짜보기\n",
    "\n",
    "while True:\n",
    "    txt = input()\n",
    "    if txt == \".\":\n",
    "        break\n",
    "\n",
    "    # txt => 큐\n",
    "    # opener => 스택\n",
    "\n",
    "    line = txt[:-1]\n",
    "    opener = []\n",
    "\n",
    "    for letter in line:\n",
    "        if letter in ['[', '(']:\n",
    "            opener.append(letter)\n",
    "        elif letter in [']', ')']:\n",
    "            try:\n",
    "                if letter == ']' and opener[-1] == '[':\n",
    "                    opener.pop(-1)\n",
    "                elif letter == ')' and opener[-1] == '(':\n",
    "                    opener.pop(-1)\n",
    "                else:\n",
    "                    opener = [\"넌 끝이야 임마\"]\n",
    "                    break\n",
    "            except:\n",
    "                opener = [\"너도 끝이야 임마\"]\n",
    "                break\n",
    "\n",
    "    print(\"no\") if opener else print(\"yes\")"
   ]
  },
  {
   "cell_type": "code",
   "execution_count": 39,
   "id": "ffd438cc",
   "metadata": {
    "ExecuteTime": {
     "end_time": "2023-02-08T05:37:00.008318Z",
     "start_time": "2023-02-08T05:36:35.969363Z"
    }
   },
   "outputs": [
    {
     "name": "stdout",
     "output_type": "stream",
     "text": [
      "()\n",
      "no\n",
      "().\n",
      "yes\n",
      "(()).\n",
      "yes\n",
      "())(.\n",
      "no\n",
      "()().\n",
      "yes\n",
      "ddd\n",
      "yes\n",
      "d(d)d.\n",
      "yes\n",
      "dafad().\n",
      "yes\n",
      "ad\n",
      "yes\n",
      ".\n"
     ]
    }
   ],
   "source": [
    "# My Solution (2) - 스택/큐 활용\n",
    "\n",
    "class MyStack(list):\n",
    "    \n",
    "    push = list.append\n",
    "    \n",
    "    def peek(self):\n",
    "        return self[-1]\n",
    "    \n",
    "class MyQue(list):\n",
    "    \n",
    "    put = list.append\n",
    "    \n",
    "    def peek(self):\n",
    "        return self[0]\n",
    "    \n",
    "    def get(self):\n",
    "        return self.pop(0)\n",
    "\n",
    "while True:\n",
    "    txt = input()\n",
    "    if txt == \".\":\n",
    "        break\n",
    "        \n",
    "    line_q = MyQue(txt[:-1])\n",
    "    opener_s = MyStack()\n",
    "\n",
    "    for _ in range(len(line_q)):\n",
    "        letter = line_q.get()\n",
    "        if letter in ['[', '(']:\n",
    "            opener_s.push(letter)\n",
    "        elif letter in [']', ')']:\n",
    "            try:\n",
    "                o = opener_s.peek()\n",
    "                if letter == ']' and o == '[':\n",
    "                    opener_s.pop()\n",
    "                elif letter == ')' and o == '(':\n",
    "                    opener_s.pop()\n",
    "                else:\n",
    "                    opener_s.push(\"넌 끝이야 임마\")\n",
    "                    break\n",
    "            except:\n",
    "                opener_s.push(\"너도 끝이야 임마\")\n",
    "                break\n",
    "                \n",
    "    print(\"no\") if opener_s else print(\"yes\")"
   ]
  }
 ],
 "metadata": {
  "kernelspec": {
   "display_name": "Python 3 (ipykernel)",
   "language": "python",
   "name": "python3"
  },
  "language_info": {
   "codemirror_mode": {
    "name": "ipython",
    "version": 3
   },
   "file_extension": ".py",
   "mimetype": "text/x-python",
   "name": "python",
   "nbconvert_exporter": "python",
   "pygments_lexer": "ipython3",
   "version": "3.9.16"
  }
 },
 "nbformat": 4,
 "nbformat_minor": 5
}
