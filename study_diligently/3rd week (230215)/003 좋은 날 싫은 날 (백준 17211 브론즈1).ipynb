{
 "cells": [
  {
   "cell_type": "markdown",
   "id": "c527b0d1",
   "metadata": {},
   "source": [
    "# 좋은 날 싫은 날 (백준 #17211)\n",
    "- 브론즈1\n",
    "- https://www.acmicpc.net/problem/17211"
   ]
  },
  {
   "cell_type": "markdown",
   "id": "8e62cbc9",
   "metadata": {},
   "source": [
    "**[문제]**\n",
    "\n",
    "지은이가 건국한 나라인 유애나에 살고 있는 재현이는 너무 단순한 나머지 매일이 기분이 좋은 날, 기분이 싫은 날 두가지로 나누어진다. 어느 날 지은이는 재현이에 대한 놀라운 사실을 발견했다! 재현이의 오늘의 기분이 내일의 기분에 영향을 준다는 것이었다. 문득 지은이는 N일 뒤의 재현이의 기분이 어떻게 될지 궁금하였다. 지은이를 위해 N일 뒤 재현이의 기분이 어떨지 알려주는 프로그램을 만들어보자."
   ]
  },
  {
   "cell_type": "markdown",
   "id": "891126ce",
   "metadata": {},
   "source": [
    "**[입력]**\n",
    "\n",
    "첫째 줄에 정수 N(1 ≤ N ≤ 100)과 현재 재현이의 기분(좋은 날 0, 싫은 날 1)이 주어진다.\n",
    "\n",
    "둘째 줄에 차례대로 재현이가 기분이 좋은 날의 다음 날도 기분이 좋은 날일 확률, 다음 날은 기분이 싫은 날일 확률, 기분이 싫은 날의 다음 날이 기분이 좋은 날일 확률, 다음 날도 기분이 싫은 날일 확률이 주어진다. 확률은 소수점 둘째자리까지 주어진다."
   ]
  },
  {
   "cell_type": "markdown",
   "id": "20dd9a1b",
   "metadata": {},
   "source": [
    "**[입력]**\n",
    "\n",
    "N일 뒤의 재현이의 기분이 좋은 날일 확률과 싫은 날일 확률에 1,000을 곱해 소수점 첫째자리에서 반올림한 수를 차례대로 출력한다. 절대 오차는 100까지 허용한다."
   ]
  },
  {
   "cell_type": "code",
   "execution_count": 13,
   "id": "3adea4b9",
   "metadata": {
    "ExecuteTime": {
     "end_time": "2023-02-03T06:28:36.566204Z",
     "start_time": "2023-02-03T06:28:32.102818Z"
    }
   },
   "outputs": [
    {
     "name": "stdout",
     "output_type": "stream",
     "text": [
      "2 1\n",
      "0.7 0.3 0.5 0.5\n",
      "600 400\n"
     ]
    }
   ],
   "source": [
    "# My Solution (1) - 반복문\n",
    "\n",
    "# P(모레가 좋은 날) = P(모레가 좋은 날|내일이 좋은 날) + P(모레가 좋은 날|내일이 싫은 날)\n",
    "#                   = 0.7 P(내일이 좋은 날) + 0.5 P(내일이 싫은 날)\n",
    "\n",
    "def cal_prob(today_good, today_bad, good_good, good_bad, bad_good, bad_bad):\n",
    "    tomorrow_good = today_good * good_good + today_bad * bad_good\n",
    "    tomorrow_bad = today_good * good_bad + today_bad * bad_bad\n",
    "    return tomorrow_good, tomorrow_bad\n",
    "\n",
    "n, today = map(int, input().split())\n",
    "n_days_good = 1 if today == 0 else 0\n",
    "n_days_bad = 1 if today == 1 else 0\n",
    "good_good, good_bad, bad_good, bad_bad = map(float, input().split())\n",
    "# n, today, good_good, good_bad, bad_good, bad_bad = 2, 1, 0.7, 0.3, 0.5, 0.5\n",
    "\n",
    "for _ in range(n):\n",
    "    n_days_good, n_days_bad = cal_prob(n_days_good, n_days_bad, good_good, good_bad, bad_good, bad_bad)\n",
    "    \n",
    "print(round(n_days_good * 1000), round(n_days_bad * 1000))"
   ]
  },
  {
   "cell_type": "code",
   "execution_count": 9,
   "id": "3a2bd261",
   "metadata": {
    "ExecuteTime": {
     "end_time": "2023-02-13T12:41:09.831503Z",
     "start_time": "2023-02-13T12:41:05.544251Z"
    }
   },
   "outputs": [
    {
     "name": "stdout",
     "output_type": "stream",
     "text": [
      "2 1\n",
      "0.7 0.3 0.5 0.5\n",
      "600 400\n"
     ]
    }
   ],
   "source": [
    "# My Solution (2) - 재귀함수\n",
    "\n",
    "def cal_prob(n, n_days_good, n_days_bad, good_good, good_bad, bad_good, bad_bad):\n",
    "\n",
    "    n_days_good, n_days_bad = (n_days_good * good_good + n_days_bad * bad_good), (n_days_good * good_bad + n_days_bad * bad_bad)\n",
    "    \n",
    "    if n == 1:\n",
    "        return n_days_good, n_days_bad\n",
    "    else:\n",
    "        return cal_prob(n - 1, n_days_good, n_days_bad, good_good, good_bad, bad_good, bad_bad)\n",
    "        \n",
    "n, today = map(int, input().split())\n",
    "# n, today, good_good, good_bad, bad_good, bad_bad = 2, 1, 0.7, 0.3, 0.5, 0.5\n",
    "n_days_good = 1 if today == 0 else 0\n",
    "n_days_bad = 1 if today == 1 else 0\n",
    "good_good, good_bad, bad_good, bad_bad = map(float, input().split())\n",
    "\n",
    "g, b = cal_prob(n, n_days_good, n_days_bad, good_good, good_bad, bad_good, bad_bad)\n",
    "\n",
    "print(round(g * 1000), round(b * 1000))"
   ]
  }
 ],
 "metadata": {
  "kernelspec": {
   "display_name": "Python 3 (ipykernel)",
   "language": "python",
   "name": "python3"
  },
  "language_info": {
   "codemirror_mode": {
    "name": "ipython",
    "version": 3
   },
   "file_extension": ".py",
   "mimetype": "text/x-python",
   "name": "python",
   "nbconvert_exporter": "python",
   "pygments_lexer": "ipython3",
   "version": "3.9.16"
  }
 },
 "nbformat": 4,
 "nbformat_minor": 5
}
