{
 "cells": [
  {
   "cell_type": "markdown",
   "id": "c73ffcc9",
   "metadata": {},
   "source": [
    "# 커트라인 (백준 #25305)\n",
    "- 브론즈2\n",
    "- https://www.acmicpc.net/problem/25305"
   ]
  },
  {
   "cell_type": "markdown",
   "id": "a59057be",
   "metadata": {
    "ExecuteTime": {
     "end_time": "2023-01-18T07:40:05.898910Z",
     "start_time": "2023-01-18T07:40:05.877497Z"
    }
   },
   "source": [
    "**[문제]**\n",
    "\n",
    "2022 연세대학교 미래캠퍼스 슬기로운 코딩생활에 \n",
    "$N$명의 학생들이 응시했다.\n",
    "\n",
    "이들 중 점수가 가장 높은 \n",
    "$k$명은 상을 받을 것이다. 이 때, 상을 받는 커트라인이 몇 점인지 구하라.\n",
    "\n",
    "커트라인이란 상을 받는 사람들 중 점수가 가장 가장 낮은 사람의 점수를 말한다."
   ]
  },
  {
   "cell_type": "markdown",
   "id": "bc0963bb",
   "metadata": {},
   "source": [
    "**[입력]**\n",
    "\n",
    "첫째 줄에는 응시자의 수 \n",
    "$N$과 상을 받는 사람의 수 \n",
    "$k$가 공백을 사이에 두고 주어진다.\n",
    "\n",
    "둘째 줄에는 각 학생의 점수 \n",
    "$x$가 공백을 사이에 두고 주어진다."
   ]
  },
  {
   "cell_type": "markdown",
   "id": "9ce2a66d",
   "metadata": {},
   "source": [
    "**[출력]**\n",
    "\n",
    "상을 받는 커트라인을 출력하라."
   ]
  },
  {
   "cell_type": "markdown",
   "id": "7466991f",
   "metadata": {},
   "source": [
    "**[제한]**\n",
    "\n",
    "- $1 ≤ N ≤ 1\\,000$ \n",
    "- $1 ≤ k ≤ N$ \n",
    "-  $0 ≤ x ≤ 10\\,000$ "
   ]
  },
  {
   "cell_type": "code",
   "execution_count": 16,
   "id": "ae8fe7d7",
   "metadata": {
    "ExecuteTime": {
     "end_time": "2023-01-18T07:40:23.908281Z",
     "start_time": "2023-01-18T07:40:23.893322Z"
    }
   },
   "outputs": [
    {
     "name": "stdout",
     "output_type": "stream",
     "text": [
      "5 2\n",
      "100 76 85 93 98\n",
      "98\n"
     ]
    }
   ],
   "source": [
    "# My Solution(1) - 선택 정렬\n",
    "\n",
    "n, k = map(int, input().split())\n",
    "score = [s for s in map(int, input().split())]\n",
    "\n",
    "for i in range(k):\n",
    "    max_idx = i\n",
    "    for j in range(i, n):\n",
    "        if score[j] > score[max_idx]:\n",
    "            max_idx = j\n",
    "    score[i], score[max_idx] = score[max_idx], score[i]\n",
    "    \n",
    "print(score[k - 1])"
   ]
  },
  {
   "cell_type": "code",
   "execution_count": 15,
   "id": "5dfc51d1",
   "metadata": {
    "ExecuteTime": {
     "end_time": "2023-01-18T07:41:39.334033Z",
     "start_time": "2023-01-18T07:41:39.325024Z"
    }
   },
   "outputs": [
    {
     "name": "stdout",
     "output_type": "stream",
     "text": [
      "5 2\n",
      "100 76 85 93 98\n",
      "98\n"
     ]
    }
   ],
   "source": [
    "# My Solution(2) - 버블 정렬\n",
    "\n",
    "n, k = map(int, input().split())\n",
    "score = [s for s in map(int, input().split())]\n",
    "\n",
    "for i in range(k):\n",
    "    for j in range(n - i - 1):\n",
    "        if score[j] > score[j + 1]:\n",
    "            score[j], score[j + 1] = score[j + 1], score[j]\n",
    "\n",
    "print(score[-k])"
   ]
  }
 ],
 "metadata": {
  "kernelspec": {
   "display_name": "Python 3 (ipykernel)",
   "language": "python",
   "name": "python3"
  },
  "language_info": {
   "codemirror_mode": {
    "name": "ipython",
    "version": 3
   },
   "file_extension": ".py",
   "mimetype": "text/x-python",
   "name": "python",
   "nbconvert_exporter": "python",
   "pygments_lexer": "ipython3",
   "version": "3.9.13"
  },
  "toc": {
   "base_numbering": 1,
   "nav_menu": {},
   "number_sections": true,
   "sideBar": true,
   "skip_h1_title": false,
   "title_cell": "Table of Contents",
   "title_sidebar": "Contents",
   "toc_cell": false,
   "toc_position": {},
   "toc_section_display": true,
   "toc_window_display": false
  },
  "varInspector": {
   "cols": {
    "lenName": 16,
    "lenType": 16,
    "lenVar": 40
   },
   "kernels_config": {
    "python": {
     "delete_cmd_postfix": "",
     "delete_cmd_prefix": "del ",
     "library": "var_list.py",
     "varRefreshCmd": "print(var_dic_list())"
    },
    "r": {
     "delete_cmd_postfix": ") ",
     "delete_cmd_prefix": "rm(",
     "library": "var_list.r",
     "varRefreshCmd": "cat(var_dic_list()) "
    }
   },
   "types_to_exclude": [
    "module",
    "function",
    "builtin_function_or_method",
    "instance",
    "_Feature"
   ],
   "window_display": false
  }
 },
 "nbformat": 4,
 "nbformat_minor": 5
}
