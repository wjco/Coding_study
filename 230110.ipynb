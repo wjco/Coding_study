{
 "cells": [
  {
   "cell_type": "markdown",
   "id": "6226f092",
   "metadata": {},
   "source": [
    "2023.01.10 (화)"
   ]
  },
  {
   "cell_type": "markdown",
   "id": "e4f4539b",
   "metadata": {},
   "source": [
    "# 홀수일까 짝수일까 (백준 #5988)\n",
    "- 브론즈3\n",
    "- https://www.acmicpc.net/problem/5988"
   ]
  },
  {
   "cell_type": "markdown",
   "id": "94e35d51",
   "metadata": {},
   "source": [
    "**[문제]**\n",
    "\n",
    "짝이 없는 경재는 매일 홀로 있다보니 홀수를 판별할 수 있는 능력이 생겼다. 창식이는 경재의 말이 사실인지 그 능력을 시험해보려 한다. 창식이의 의심이 끝이 없을 것 같아 N개만 확인하기로 정했다.\n",
    "\n",
    "N개의 정수가 주어지면 홀수인지 짝수인지를 출력하는 프로그램을 만들어 경재의 능력을 검증할 수 있게 도와주자."
   ]
  },
  {
   "cell_type": "markdown",
   "id": "29b7a119",
   "metadata": {},
   "source": [
    "**[입력]**\n",
    "\n",
    "첫 번째 줄에 숫자의 개수 N(1 <= N <= 100)이 주어진다.\n",
    "\n",
    "두 번째 줄부터 N+1번째 줄에 걸쳐 홀수인지 짝수인지 확인할 정수 K (1 <= K <= 10^60)가 주어진다."
   ]
  },
  {
   "cell_type": "markdown",
   "id": "69e5078a",
   "metadata": {},
   "source": [
    "**[출력]**\n",
    "\n",
    "N개의 줄에 걸쳐 한 줄씩 정수 K가 홀수라면 'odd'를, 짝수라면 'even'을 출력한다."
   ]
  },
  {
   "cell_type": "code",
   "execution_count": 2,
   "id": "76a1c3af",
   "metadata": {
    "ExecuteTime": {
     "end_time": "2023-01-10T05:16:45.512491Z",
     "start_time": "2023-01-10T05:16:41.297603Z"
    }
   },
   "outputs": [
    {
     "name": "stdout",
     "output_type": "stream",
     "text": [
      "5\n",
      "1\n",
      "odd\n",
      "2\n",
      "even\n",
      "3\n",
      "odd\n",
      "4\n",
      "even\n",
      "5\n",
      "odd\n"
     ]
    }
   ],
   "source": [
    "# My Solution\n",
    "\n",
    "n = int(input())\n",
    "\n",
    "for _ in range(n):\n",
    "    k = int(input())\n",
    "    txt = 'odd' if k % 2 == 1 else 'even'\n",
    "    print(txt)"
   ]
  },
  {
   "cell_type": "markdown",
   "id": "0003ef52",
   "metadata": {},
   "source": [
    "# 윷놀이 (백준 #2490)\n",
    "- 브론즈3\n",
    "- https://www.acmicpc.net/problem/2490"
   ]
  },
  {
   "cell_type": "markdown",
   "id": "2086d4c3",
   "metadata": {},
   "source": [
    "**[문제]**\n",
    "\n",
    "우리나라 고유의 윷놀이는 네 개의 윷짝을 던져서 배(0)와 등(1)이 나오는 숫자를 세어 도, 개, 걸, 윷, 모를 결정한다. 네 개 윷짝을 던져서 나온 각 윷짝의 배 혹은 등 정보가 주어질 때 도(배 한 개, 등 세 개), 개(배 두 개, 등 두 개), 걸(배 세 개, 등 한 개), 윷(배 네 개), 모(등 네 개) 중 어떤 것인지를 결정하는 프로그램을 작성하라."
   ]
  },
  {
   "cell_type": "markdown",
   "id": "43b61c7e",
   "metadata": {},
   "source": [
    "**[입력]**\n",
    "\n",
    "첫째 줄부터 셋째 줄까지 각 줄에 각각 한 번 던진 윷짝들의 상태를 나타내는 네 개의 정수(0 또는 1)가 빈칸을 사이에 두고 주어진다."
   ]
  },
  {
   "cell_type": "markdown",
   "id": "644eba23",
   "metadata": {},
   "source": [
    "**[출력]**\n",
    "\n",
    "첫째 줄부터 셋째 줄까지 한 줄에 하나씩 결과를 도는 A, 개는 B, 걸은 C, 윷은 D, 모는 E로 출력한다."
   ]
  },
  {
   "cell_type": "code",
   "execution_count": 7,
   "id": "e64da9d9",
   "metadata": {
    "ExecuteTime": {
     "end_time": "2023-01-10T05:32:20.537122Z",
     "start_time": "2023-01-10T05:32:08.585769Z"
    }
   },
   "outputs": [
    {
     "name": "stdout",
     "output_type": "stream",
     "text": [
      "1 1 1 1\n",
      "D\n",
      "0 0 0 0\n",
      "E\n",
      "1 1 0 0\n",
      "B\n"
     ]
    }
   ],
   "source": [
    "# My Solution\n",
    "\n",
    "for _ in range(3):\n",
    "    a, b, c, d = map(int, input().split())\n",
    "    yoot = a + b + c + d\n",
    "\n",
    "    if yoot == 0:\n",
    "        print(\"D\")\n",
    "    elif yoot == 1:\n",
    "        print(\"C\")\n",
    "    elif yoot == 2:\n",
    "        print(\"B\")\n",
    "    elif yoot == 3:\n",
    "        print(\"A\")\n",
    "    else:\n",
    "        print(\"E\")"
   ]
  },
  {
   "cell_type": "markdown",
   "id": "95b4d080",
   "metadata": {},
   "source": [
    "숫자가 0 또는 1이니까 다 더해서 윷의 상태를 알 수 있다."
   ]
  },
  {
   "cell_type": "markdown",
   "id": "1ad65bd0",
   "metadata": {},
   "source": [
    "# 윤년 (백준 #2753)\n",
    "- 브론즈5\n",
    "- https://www.acmicpc.net/problem/2753"
   ]
  },
  {
   "cell_type": "markdown",
   "id": "554e727f",
   "metadata": {},
   "source": [
    "**[문제]**\n",
    "\n",
    "연도가 주어졌을 때, 윤년이면 1, 아니면 0을 출력하는 프로그램을 작성하시오.\n",
    "\n",
    "윤년은 연도가 4의 배수이면서, 100의 배수가 아닐 때 또는 400의 배수일 때이다.\n",
    "\n",
    "예를 들어, 2012년은 4의 배수이면서 100의 배수가 아니라서 윤년이다. 1900년은 100의 배수이고 400의 배수는 아니기 때문에 윤년이 아니다. 하지만, 2000년은 400의 배수이기 때문에 윤년이다."
   ]
  },
  {
   "cell_type": "markdown",
   "id": "c42aa86f",
   "metadata": {},
   "source": [
    "**[입력]**\n",
    "\n",
    "첫째 줄에 연도가 주어진다. 연도는 1보다 크거나 같고, 4000보다 작거나 같은 자연수이다."
   ]
  },
  {
   "cell_type": "markdown",
   "id": "2c064ca2",
   "metadata": {},
   "source": [
    "**[출력]**\n",
    "\n",
    "첫째 줄에 윤년이면 1, 아니면 0을 출력한다."
   ]
  },
  {
   "cell_type": "code",
   "execution_count": 60,
   "id": "f48388ac",
   "metadata": {
    "ExecuteTime": {
     "end_time": "2023-01-10T07:26:11.796583Z",
     "start_time": "2023-01-10T07:26:10.950479Z"
    }
   },
   "outputs": [
    {
     "name": "stdout",
     "output_type": "stream",
     "text": [
      "2016\n",
      "1\n"
     ]
    }
   ],
   "source": [
    "# My Solution (1)\n",
    "\n",
    "year = int(input())\n",
    "\n",
    "if year % 4 == 0 and ((year % 100) or (year % 400 == 0)):\n",
    "    print(1)\n",
    "else:\n",
    "    print(0)"
   ]
  },
  {
   "cell_type": "code",
   "execution_count": 23,
   "id": "540b05c6",
   "metadata": {
    "ExecuteTime": {
     "end_time": "2023-01-10T05:55:39.534597Z",
     "start_time": "2023-01-10T05:55:37.961079Z"
    }
   },
   "outputs": [
    {
     "name": "stdout",
     "output_type": "stream",
     "text": [
      "2020\n",
      "1\n"
     ]
    }
   ],
   "source": [
    "# My Solution (2) - 약 2년 전의 내가 이렇게 짰다고 한다\n",
    "\n",
    "a = int(input())\n",
    "if (a % 4 == 0 and a % 100 != 0) or a % 400 == 0:\n",
    "    print('1')\n",
    "else:\n",
    "    print('0')"
   ]
  },
  {
   "cell_type": "markdown",
   "id": "9f542714",
   "metadata": {},
   "source": [
    "ㅇㅇ"
   ]
  },
  {
   "cell_type": "markdown",
   "id": "e4b9039a",
   "metadata": {},
   "source": [
    "# 기찍 N (백준 #2742)\n",
    "- 브론즈4\n",
    "- https://www.acmicpc.net/problem/2742"
   ]
  },
  {
   "cell_type": "markdown",
   "id": "a0287ee5",
   "metadata": {},
   "source": [
    "**[문제]**\n",
    "\n",
    "자연수 N이 주어졌을 때, N부터 1까지 한 줄에 하나씩 출력하는 프로그램을 작성하시오."
   ]
  },
  {
   "cell_type": "markdown",
   "id": "04ed125a",
   "metadata": {},
   "source": [
    "**[입력]**\n",
    "\n",
    "첫째 줄에 100,000보다 작거나 같은 자연수 N이 주어진다."
   ]
  },
  {
   "cell_type": "markdown",
   "id": "dfeabece",
   "metadata": {},
   "source": [
    "**[출력]**\n",
    "\n",
    "첫째 줄부터 N번째 줄 까지 차례대로 출력한다."
   ]
  },
  {
   "cell_type": "code",
   "execution_count": 24,
   "id": "64460ebf",
   "metadata": {
    "ExecuteTime": {
     "end_time": "2023-01-10T05:58:06.241565Z",
     "start_time": "2023-01-10T05:58:05.054252Z"
    },
    "scrolled": false
   },
   "outputs": [
    {
     "name": "stdout",
     "output_type": "stream",
     "text": [
      "10\n",
      "10\n",
      "9\n",
      "8\n",
      "7\n",
      "6\n",
      "5\n",
      "4\n",
      "3\n",
      "2\n",
      "1\n"
     ]
    }
   ],
   "source": [
    "# My Solution (1)\n",
    "\n",
    "n = int(input())\n",
    "for i in range(n, 0, -1):\n",
    "    print(i)"
   ]
  },
  {
   "cell_type": "code",
   "execution_count": 25,
   "id": "e5b1629a",
   "metadata": {
    "ExecuteTime": {
     "end_time": "2023-01-10T05:59:22.164167Z",
     "start_time": "2023-01-10T05:59:20.400238Z"
    },
    "scrolled": true
   },
   "outputs": [
    {
     "name": "stdout",
     "output_type": "stream",
     "text": [
      "10\n",
      "10\n",
      "9\n",
      "8\n",
      "7\n",
      "6\n",
      "5\n",
      "4\n",
      "3\n",
      "2\n",
      "1\n"
     ]
    }
   ],
   "source": [
    "# My Solution (2) - 약 2년 전의 내가 이렇게 짰다고 한다\n",
    "\n",
    "n = int(input())\n",
    "for i in range(n):\n",
    "    print(n - i)"
   ]
  },
  {
   "cell_type": "markdown",
   "id": "c377e6ee",
   "metadata": {},
   "source": [
    "# 약수 구하기 (백준 #2501)\n",
    "- 브론즈3\n",
    "- https://www.acmicpc.net/problem/2501"
   ]
  },
  {
   "cell_type": "markdown",
   "id": "fee33ab8",
   "metadata": {},
   "source": [
    "**[문제]**\n",
    "\n",
    "어떤 자연수 p와 q가 있을 때, 만일 p를 q로 나누었을 때 나머지가 0이면 q는 p의 약수이다. \n",
    "\n",
    "6을 예로 들면\n",
    "- 6 ÷ 1 = 6 … 0\n",
    "- 6 ÷ 2 = 3 … 0\n",
    "- 6 ÷ 3 = 2 … 0\n",
    "- 6 ÷ 4 = 1 … 2\n",
    "- 6 ÷ 5 = 1 … 1\n",
    "- 6 ÷ 6 = 1 … 0\n",
    "\n",
    "그래서 6의 약수는 1, 2, 3, 6, 총 네 개이다.\n",
    "\n",
    "두 개의 자연수 N과 K가 주어졌을 때, N의 약수들 중 K번째로 작은 수를 출력하는 프로그램을 작성하시오."
   ]
  },
  {
   "cell_type": "markdown",
   "id": "4e176102",
   "metadata": {},
   "source": [
    "**[입력]**\n",
    "\n",
    "첫째 줄에 N과 K가 빈칸을 사이에 두고 주어진다. N은 1 이상 10,000 이하이다. K는 1 이상 N 이하이다."
   ]
  },
  {
   "cell_type": "markdown",
   "id": "e2620013",
   "metadata": {},
   "source": [
    "**[출력]**\n",
    "\n",
    "첫째 줄에 N의 약수들 중 K번째로 작은 수를 출력한다. 만일 N의 약수의 개수가 K개보다 적어서 K번째 약수가 존재하지 않을 경우에는 0을 출력하시오."
   ]
  },
  {
   "cell_type": "code",
   "execution_count": 36,
   "id": "c7f57a08",
   "metadata": {
    "ExecuteTime": {
     "end_time": "2023-01-10T06:08:21.891318Z",
     "start_time": "2023-01-10T06:08:20.749067Z"
    },
    "scrolled": true
   },
   "outputs": [
    {
     "name": "stdout",
     "output_type": "stream",
     "text": [
      "6 5\n",
      "0\n"
     ]
    }
   ],
   "source": [
    "# My Solution\n",
    "\n",
    "n, k = map(int, input().split())\n",
    "cnt = 0\n",
    "\n",
    "for i in range(1, n+1):\n",
    "    if n % i == 0:\n",
    "        cnt += 1\n",
    "    if cnt == k:\n",
    "        print(i)\n",
    "        break\n",
    "print(0) if cnt < k else None"
   ]
  },
  {
   "cell_type": "markdown",
   "id": "b7a8851a",
   "metadata": {},
   "source": [
    "# 홀수 (백준 #2576)\n",
    "- 브론즈3\n",
    "- https://www.acmicpc.net/problem/2576"
   ]
  },
  {
   "cell_type": "markdown",
   "id": "d76f15cb",
   "metadata": {},
   "source": [
    "**[문제]**\n",
    "\n",
    "7개의 자연수가 주어질 때, 이들 중 홀수인 자연수들을 모두 골라 그 합을 구하고, 고른 홀수들 중 최솟값을 찾는 프로그램을 작성하시오.\n",
    "\n",
    "예를 들어, 7개의 자연수 12, 77, 38, 41, 53, 92, 85가 주어지면 이들 중 홀수는 77, 41, 53, 85이므로 그 합은\n",
    "\n",
    "77 + 41 + 53 + 85 = 256\n",
    "\n",
    "이 되고,\n",
    "\n",
    "41 < 53 < 77 < 85\n",
    "\n",
    "이므로 홀수들 중 최솟값은 41이 된다."
   ]
  },
  {
   "cell_type": "markdown",
   "id": "d2f605b1",
   "metadata": {},
   "source": [
    "**[입력]**\n",
    "\n",
    "입력의 첫째 줄부터 일곱 번째 줄까지 한 줄에 하나의 자연수가 주어진다. 주어지는 자연수는 100보다 작다."
   ]
  },
  {
   "cell_type": "markdown",
   "id": "eb0b0c2c",
   "metadata": {},
   "source": [
    "**[출력]**\n",
    "\n",
    "홀수가 존재하지 않는 경우에는 첫째 줄에 -1을 출력한다. 홀수가 존재하는 경우 첫째 줄에 홀수들의 합을 출력하고, 둘째 줄에 홀수들 중 최솟값을 출력한다."
   ]
  },
  {
   "cell_type": "code",
   "execution_count": 44,
   "id": "80537fa2",
   "metadata": {
    "ExecuteTime": {
     "end_time": "2023-01-10T06:39:03.476378Z",
     "start_time": "2023-01-10T06:39:01.256506Z"
    },
    "scrolled": true
   },
   "outputs": [
    {
     "name": "stdout",
     "output_type": "stream",
     "text": [
      "2\n",
      "2\n",
      "2\n",
      "2\n",
      "2\n",
      "2\n",
      "2\n",
      "-1\n"
     ]
    }
   ],
   "source": [
    "# My Solution\n",
    "\n",
    "nums = []\n",
    "min_num = 100\n",
    "sum_num = 0\n",
    "\n",
    "for _ in range(7):\n",
    "    num = int(input())\n",
    "    if num % 2:\n",
    "        sum_num += num\n",
    "        if num < min_num:\n",
    "            min_num = num\n",
    "            \n",
    "print(sum_num if sum_num > 0 else -1)\n",
    "print(min_num) if sum_num > 0 else None"
   ]
  },
  {
   "cell_type": "markdown",
   "id": "fcc1a378",
   "metadata": {},
   "source": [
    "# 숫자의 개수 (백준 #2577)\n",
    "- 브론즈2\n",
    "- https://www.acmicpc.net/problem/2577"
   ]
  },
  {
   "cell_type": "markdown",
   "id": "67c35ca3",
   "metadata": {},
   "source": [
    "**[문제]**\n",
    "\n",
    "세 개의 자연수 A, B, C가 주어질 때 A × B × C를 계산한 결과에 0부터 9까지 각각의 숫자가 몇 번씩 쓰였는지를 구하는 프로그램을 작성하시오.\n",
    "\n",
    "예를 들어 A = 150, B = 266, C = 427 이라면 A × B × C = 150 × 266 × 427 = 17037300 이 되고, 계산한 결과 17037300 에는 0이 3번, 1이 1번, 3이 2번, 7이 2번 쓰였다."
   ]
  },
  {
   "cell_type": "markdown",
   "id": "54f14015",
   "metadata": {},
   "source": [
    "**[입력]**\n",
    "\n",
    "첫째 줄에 A, 둘째 줄에 B, 셋째 줄에 C가 주어진다. A, B, C는 모두 100보다 크거나 같고, 1,000보다 작은 자연수이다."
   ]
  },
  {
   "cell_type": "markdown",
   "id": "7e0e69c2",
   "metadata": {},
   "source": [
    "**[출력]**\n",
    "\n",
    "첫째 줄에는 A × B × C의 결과에 0 이 몇 번 쓰였는지 출력한다. 마찬가지로 둘째 줄부터 열 번째 줄까지 A × B × C의 결과에 1부터 9까지의 숫자가 각각 몇 번 쓰였는지 차례로 한 줄에 하나씩 출력한다."
   ]
  },
  {
   "cell_type": "code",
   "execution_count": 48,
   "id": "045d9ee3",
   "metadata": {
    "ExecuteTime": {
     "end_time": "2023-01-10T06:48:33.340166Z",
     "start_time": "2023-01-10T06:48:31.391841Z"
    },
    "collapsed": true
   },
   "outputs": [
    {
     "name": "stdout",
     "output_type": "stream",
     "text": [
      "100\n",
      "100\n",
      "100\n",
      "6\n",
      "1\n",
      "0\n",
      "0\n",
      "0\n",
      "0\n",
      "0\n",
      "0\n",
      "0\n",
      "0\n"
     ]
    }
   ],
   "source": [
    "# My Solution (1)\n",
    "\n",
    "a = int(input())\n",
    "b = int(input())\n",
    "c = int(input())\n",
    "num_str = str(a * b * c)\n",
    "for i in range(10):\n",
    "    print(num_str.count(str(i)))"
   ]
  },
  {
   "cell_type": "code",
   "execution_count": 49,
   "id": "c5a3dbfe",
   "metadata": {
    "ExecuteTime": {
     "end_time": "2023-01-10T06:50:03.221956Z",
     "start_time": "2023-01-10T06:50:00.029877Z"
    }
   },
   "outputs": [
    {
     "name": "stdout",
     "output_type": "stream",
     "text": [
      "100\n",
      "100\n",
      "100\n",
      "6\n",
      "1\n",
      "0\n",
      "0\n",
      "0\n",
      "0\n",
      "0\n",
      "0\n",
      "0\n",
      "0\n"
     ]
    }
   ],
   "source": [
    "# My Solution (2) - 약 2년 전의 내가 이렇게 짰다고 한다 너 나 맞구나...\n",
    "\n",
    "a = int(input())\n",
    "b = int(input())\n",
    "c = int(input())\n",
    "num = str(a * b * c)\n",
    "\n",
    "for i in range(10):\n",
    "    print(num.count(str(i)))"
   ]
  },
  {
   "cell_type": "markdown",
   "id": "04715dcd",
   "metadata": {},
   "source": [
    "# 빙고 (백준 #2578)\n",
    "- 실버4\n",
    "- https://www.acmicpc.net/problem/2578"
   ]
  },
  {
   "cell_type": "markdown",
   "id": "8c0c8ce9",
   "metadata": {},
   "source": [
    "**[문제]**\n",
    "\n",
    "빙고 게임은 다음과 같은 방식으로 이루어진다.\n",
    "\n",
    "먼저 아래와 같이 25개의 칸으로 이루어진 빙고판에 1부터 25까지 자연수를 한 칸에 하나씩 쓴다\n",
    "\n",
    "<그림>\n",
    "\n",
    "다음은 사회자가 부르는 수를 차례로 지워나간다. 예를 들어 5, 10, 7이 불렸다면 이 세 수를 지운 뒤 빙고판의 모습은 다음과 같다.\n",
    "\n",
    "<그림>\n",
    "\n",
    "차례로 수를 지워가다가 같은 가로줄, 세로줄 또는 대각선 위에 있는 5개의 모든 수가 지워지는 경우 그 줄에 선을 긋는다.\n",
    "\n",
    "<그림>\n",
    "\n",
    "이러한 선이 세 개 이상 그어지는 순간 \"빙고\"라고 외치는데, 가장 먼저 외치는 사람이 게임의 승자가 된다.\n",
    "\n",
    "<그림>\n",
    "\n",
    "철수는 친구들과 빙고 게임을 하고 있다. 철수가 빙고판에 쓴 수들과 사회자가 부르는 수의 순서가 주어질 때, 사회자가 몇 번째 수를 부른 후 철수가 \"빙고\"를 외치게 되는지를 출력하는 프로그램을 작성하시오."
   ]
  },
  {
   "cell_type": "markdown",
   "id": "fa261d4f",
   "metadata": {},
   "source": [
    "**[입력]**\n",
    "\n",
    "첫째 줄부터 다섯째 줄까지 빙고판에 쓰여진 수가 가장 위 가로줄부터 차례대로 한 줄에 다섯 개씩 빈 칸을 사이에 두고 주어진다. 여섯째 줄부터 열째 줄까지 사회자가 부르는 수가 차례대로 한 줄에 다섯 개씩 빈 칸을 사이에 두고 주어진다. 빙고판에 쓰여진 수와 사회자가 부르는 수는 각각 1부터 25까지의 수가 한 번씩 사용된다."
   ]
  },
  {
   "cell_type": "markdown",
   "id": "33845778",
   "metadata": {},
   "source": [
    "**[출력]**\n",
    "\n",
    "첫째 줄에 사회자가 몇 번째 수를 부른 후 철수가 \"빙고\"를 외치게 되는지 출력한다."
   ]
  },
  {
   "cell_type": "code",
   "execution_count": 8,
   "id": "f4fffbc5",
   "metadata": {
    "ExecuteTime": {
     "end_time": "2023-01-10T09:18:10.753240Z",
     "start_time": "2023-01-10T09:18:10.690392Z"
    },
    "scrolled": true
   },
   "outputs": [
    {
     "name": "stdout",
     "output_type": "stream",
     "text": [
      "0회차 빙고\n",
      "{(-2, 2): 21, (-1, 2): 22, (0, 2): 23, (1, 2): 24, (2, 2): 25, (-2, 1): 16, (-1, 1): 17, (0, 1): 18, (1, 1): 19, (2, 1): 20, (-2, 0): 11, (-1, 0): 12, (0, 0): 13, (1, 0): 14, (2, 0): 15, (-2, -1): 6, (-1, -1): 7, (0, -1): 8, (1, -1): 9, (2, -1): 10, (-2, -2): 0, (-1, -2): 2, (0, -2): 3, (1, -2): 4, (2, -2): 5}\n",
      "1회차 빙고\n",
      "{(-2, 2): 21, (-1, 2): 22, (0, 2): 23, (1, 2): 24, (2, 2): 25, (-2, 1): 16, (-1, 1): 17, (0, 1): 18, (1, 1): 19, (2, 1): 20, (-2, 0): 11, (-1, 0): 12, (0, 0): 13, (1, 0): 14, (2, 0): 15, (-2, -1): 6, (-1, -1): 7, (0, -1): 8, (1, -1): 9, (2, -1): 10, (-2, -2): 0, (-1, -2): 0, (0, -2): 3, (1, -2): 4, (2, -2): 5}\n",
      "2회차 빙고\n",
      "{(-2, 2): 21, (-1, 2): 22, (0, 2): 23, (1, 2): 24, (2, 2): 25, (-2, 1): 16, (-1, 1): 17, (0, 1): 18, (1, 1): 19, (2, 1): 20, (-2, 0): 11, (-1, 0): 12, (0, 0): 13, (1, 0): 14, (2, 0): 15, (-2, -1): 6, (-1, -1): 7, (0, -1): 8, (1, -1): 9, (2, -1): 10, (-2, -2): 0, (-1, -2): 0, (0, -2): 0, (1, -2): 4, (2, -2): 5}\n",
      "3회차 빙고\n",
      "{(-2, 2): 21, (-1, 2): 22, (0, 2): 23, (1, 2): 24, (2, 2): 25, (-2, 1): 16, (-1, 1): 17, (0, 1): 18, (1, 1): 19, (2, 1): 20, (-2, 0): 11, (-1, 0): 12, (0, 0): 13, (1, 0): 14, (2, 0): 15, (-2, -1): 6, (-1, -1): 7, (0, -1): 8, (1, -1): 9, (2, -1): 10, (-2, -2): 0, (-1, -2): 0, (0, -2): 0, (1, -2): 0, (2, -2): 5}\n",
      "4회차 빙고\n",
      "{(-2, 2): 21, (-1, 2): 22, (0, 2): 23, (1, 2): 24, (2, 2): 25, (-2, 1): 16, (-1, 1): 17, (0, 1): 18, (1, 1): 19, (2, 1): 20, (-2, 0): 11, (-1, 0): 12, (0, 0): 13, (1, 0): 14, (2, 0): 15, (-2, -1): 6, (-1, -1): 7, (0, -1): 8, (1, -1): 9, (2, -1): 10, (-2, -2): 0, (-1, -2): 0, (0, -2): 0, (1, -2): 0, (2, -2): 0}\n",
      "5회차 빙고\n",
      "{(-2, 2): 21, (-1, 2): 22, (0, 2): 23, (1, 2): 24, (2, 2): 25, (-2, 1): 16, (-1, 1): 17, (0, 1): 18, (1, 1): 19, (2, 1): 20, (-2, 0): 11, (-1, 0): 12, (0, 0): 13, (1, 0): 14, (2, 0): 15, (-2, -1): 0, (-1, -1): 7, (0, -1): 8, (1, -1): 9, (2, -1): 10, (-2, -2): 0, (-1, -2): 0, (0, -2): 0, (1, -2): 0, (2, -2): 0}\n",
      "6회차 빙고\n",
      "{(-2, 2): 21, (-1, 2): 22, (0, 2): 23, (1, 2): 24, (2, 2): 25, (-2, 1): 16, (-1, 1): 17, (0, 1): 18, (1, 1): 19, (2, 1): 20, (-2, 0): 11, (-1, 0): 12, (0, 0): 13, (1, 0): 14, (2, 0): 15, (-2, -1): 0, (-1, -1): 0, (0, -1): 8, (1, -1): 9, (2, -1): 10, (-2, -2): 0, (-1, -2): 0, (0, -2): 0, (1, -2): 0, (2, -2): 0}\n",
      "6\n"
     ]
    }
   ],
   "source": [
    "# My Solution\n",
    "\n",
    "bingo_dict = {} # 빙고판에 해당하는 '위치:값' 저장 {(-2, -2): n, (-2,-1): n, ...}\n",
    "# mc_nums = [] # 숫자 저장하는 1차원 배열\n",
    "mc_nums = [i+1 for i in range(25)]\n",
    "try_num = 0 # 시행 횟수\n",
    "bingo_num = 0 # 빙고 개수\n",
    "\n",
    "# 빙고판 정보 딕셔너리에 저장\n",
    "for i in range(5, 0, -1):\n",
    "#     temp_list = [_ for _ in map(int, input().split())]\n",
    "    temp_list = [i * 5 + (k-4) for k in range(5)]\n",
    "    for j in range(5):\n",
    "        bingo_dict[(j - 2, i - 3)] = temp_list[j]\n",
    "\n",
    "# 사회자 정보 리스트에 저장\n",
    "# for i in range(5):\n",
    "#     temp_list = [_ for _ in map(int, input().split())]\n",
    "#     for j in range(5):\n",
    "#         mc_nums.append(temp_list[j])\n",
    "\n",
    "while True:\n",
    "    # 빙고판과 사회자를 비교해서 불리는 숫자를 0으로 변경\n",
    "    for idx, val in bingo_dict.items():\n",
    "        if mc_nums[try_num] == val:\n",
    "            bingo_dict[idx] = 0\n",
    "    print(f\"{try_num}회차 빙고\")\n",
    "    print(bingo_dict)\n",
    "    \n",
    "    # 빙고 개수 알아보기 <<여기만 완성하면 됨  \n",
    "    cross_sum_a = 0\n",
    "    cross_sum_b = 0\n",
    "    for idx, val in bingo_dict.items():\n",
    "        if idx[0] == idx[1]:\n",
    "            cross_sum_a += val\n",
    "        if idx[0] == -idx[1]:\n",
    "            cross_sum_b += val\n",
    "    if cross_sum_a == 0:\n",
    "        bingo_num += 1\n",
    "    if cross_sum_b == 0:\n",
    "        bingo_num += 1\n",
    "\n",
    "    for i in range(-2, 3):\n",
    "        row_sum = 0\n",
    "        col_sum = 0\n",
    "        for idx, val in bingo_dict.items():\n",
    "            if idx[0] == i:\n",
    "                row_sum += val\n",
    "            if idx[1] == i:\n",
    "                col_sum += val\n",
    "        if row_sum == 0:\n",
    "            bingo_num += 1\n",
    "        if col_sum == 0:\n",
    "            bingo_num += 1\n",
    "\n",
    "    # 빙고 개수 3 이상이면 터뜨려버림\n",
    "    if bingo_num >= 3:\n",
    "        break\n",
    "        \n",
    "    if try_num >= 25:\n",
    "        break\n",
    "        \n",
    "    # 아니면 계속 함\n",
    "    try_num += 1\n",
    "\n",
    "print(try_num)"
   ]
  },
  {
   "cell_type": "code",
   "execution_count": 6,
   "id": "434d9c6f",
   "metadata": {},
   "outputs": [
    {
     "name": "stdout",
     "output_type": "stream",
     "text": [
      "0 1 0 2 3\n",
      "3 0 0 2 5\n",
      "5 2 0 0 1\n",
      "3 3 0 0 8\n",
      "9 4 0 2 0\n",
      "2\n"
     ]
    }
   ],
   "source": [
    "bingo_num = 0\n",
    "bingo_dict = {}\n",
    "for i in range(5, 0, -1):\n",
    "    temp_list = [_ for _ in map(int, input().split())]\n",
    "#     temp_list = [i * 5 + (k-4) for k in range(5)]\n",
    "    for j in range(5):\n",
    "        bingo_dict[(j - 2, i - 3)] = temp_list[j]\n",
    "        \n",
    "\n",
    "\n",
    "        \n",
    "print(bingo_num)"
   ]
  },
  {
   "cell_type": "code",
   "execution_count": 1,
   "id": "5b29e780",
   "metadata": {
    "ExecuteTime": {
     "end_time": "2023-01-10T09:02:53.870196Z",
     "start_time": "2023-01-10T09:02:53.851243Z"
    }
   },
   "outputs": [
    {
     "name": "stdout",
     "output_type": "stream",
     "text": [
      "-2\n",
      "-1\n",
      "0\n",
      "1\n",
      "2\n"
     ]
    }
   ],
   "source": [
    "for i in range(-2, 3):\n",
    "    print(i)"
   ]
  },
  {
   "cell_type": "markdown",
   "id": "37797f9b",
   "metadata": {},
   "source": [
    "# 별찍기 1 (백준 #2438)\n",
    "- 브론즈5\n",
    "- https://www.acmicpc.net/problem/2438"
   ]
  },
  {
   "cell_type": "markdown",
   "id": "5334f842",
   "metadata": {},
   "source": [
    "**[문제]**\n",
    "\n",
    "첫째 줄에는 별 1개, 둘째 줄에는 별 2개, N번째 줄에는 별 N개를 찍는 문제"
   ]
  },
  {
   "cell_type": "markdown",
   "id": "ffbb89d4",
   "metadata": {},
   "source": [
    "**[입력]**\n",
    "\n",
    "첫째 줄에 N(1 ≤ N ≤ 100)이 주어진다."
   ]
  },
  {
   "cell_type": "markdown",
   "id": "d3fe318f",
   "metadata": {},
   "source": [
    "**[출력]**\n",
    "\n",
    "첫째 줄부터 N번째 줄까지 차례대로 별을 출력한다."
   ]
  },
  {
   "cell_type": "code",
   "execution_count": 56,
   "id": "f021facd",
   "metadata": {
    "ExecuteTime": {
     "end_time": "2023-01-10T09:18:10.753240Z",
     "start_time": "2023-01-10T09:18:10.690392Z"
    },
    "scrolled": true
   },
   "outputs": [
    {
     "name": "stdout",
     "output_type": "stream",
     "text": [
      "2\n",
      "*\n",
      "**\n"
     ]
    }
   ],
   "source": [
    "# My Solution\n",
    "\n",
    "n = int(input())\n",
    "\n",
    "for i in range(n):\n",
    "    print('*' * (i + 1))"
   ]
  },
  {
   "cell_type": "markdown",
   "id": "73e3bf5e",
   "metadata": {},
   "source": [
    "# 별찍기 2 (백준 #2439)\n",
    "- 브론즈4\n",
    "- https://www.acmicpc.net/problem/2439"
   ]
  },
  {
   "cell_type": "markdown",
   "id": "b0b0772f",
   "metadata": {},
   "source": [
    "**[문제]**\n",
    "\n",
    "첫째 줄에는 별 1개, 둘째 줄에는 별 2개, N번째 줄에는 별 N개를 찍는 문제\n",
    "\n",
    "하지만, 오른쪽을 기준으로 정렬한 별(예제 참고)을 출력하시오."
   ]
  },
  {
   "cell_type": "markdown",
   "id": "47c33657",
   "metadata": {},
   "source": [
    "**[입력]**\n",
    "\n",
    "첫째 줄에 N(1 ≤ N ≤ 100)이 주어진다."
   ]
  },
  {
   "cell_type": "markdown",
   "id": "37361d1f",
   "metadata": {},
   "source": [
    "**[출력]**\n",
    "\n",
    "첫째 줄부터 N번째 줄까지 차례대로 별을 출력한다."
   ]
  },
  {
   "cell_type": "code",
   "execution_count": 58,
   "id": "5b2682d2",
   "metadata": {
    "ExecuteTime": {
     "end_time": "2023-01-10T09:18:10.753240Z",
     "start_time": "2023-01-10T09:18:10.690392Z"
    },
    "scrolled": true
   },
   "outputs": [
    {
     "name": "stdout",
     "output_type": "stream",
     "text": [
      "5\n",
      "    *\n",
      "   **\n",
      "  ***\n",
      " ****\n",
      "*****\n"
     ]
    }
   ],
   "source": [
    "# My Solution\n",
    "\n",
    "n = int(input())\n",
    "\n",
    "for i in range(n):\n",
    "    print(' ' * (n - i - 1), end='')\n",
    "    print('*' * (i + 1))"
   ]
  },
  {
   "cell_type": "markdown",
   "id": "cb8ec368",
   "metadata": {},
   "source": [
    "# 별찍기 3 (백준 #2440)\n",
    "- 브론즈4\n",
    "- https://www.acmicpc.net/problem/2440"
   ]
  },
  {
   "cell_type": "markdown",
   "id": "142546d1",
   "metadata": {},
   "source": [
    "**[문제]**\n",
    "\n",
    "첫째 줄에는 별 N개, 둘째 줄에는 별 N-1개, ..., N번째 줄에는 별 1개를 찍는 문제"
   ]
  },
  {
   "cell_type": "markdown",
   "id": "5a1dc547",
   "metadata": {},
   "source": [
    "**[입력]**\n",
    "\n",
    "첫째 줄에 N(1 ≤ N ≤ 100)이 주어진다."
   ]
  },
  {
   "cell_type": "markdown",
   "id": "df2132fd",
   "metadata": {},
   "source": [
    "**[출력]**\n",
    "\n",
    "첫째 줄부터 N번째 줄까지 차례대로 별을 출력한다."
   ]
  },
  {
   "cell_type": "code",
   "execution_count": 61,
   "id": "f35b58d5",
   "metadata": {
    "ExecuteTime": {
     "end_time": "2023-01-10T09:18:10.753240Z",
     "start_time": "2023-01-10T09:18:10.690392Z"
    },
    "scrolled": true
   },
   "outputs": [
    {
     "name": "stdout",
     "output_type": "stream",
     "text": [
      "5\n",
      "*****\n",
      "****\n",
      "***\n",
      "**\n",
      "*\n"
     ]
    }
   ],
   "source": [
    "# My Solution\n",
    "\n",
    "n = int(input())\n",
    "\n",
    "for i in range(n, 0, -1):\n",
    "    print(\"*\" * i)"
   ]
  },
  {
   "cell_type": "markdown",
   "id": "6e6c369a",
   "metadata": {},
   "source": [
    "# A+B 5 (백준 #10952)\n",
    "- 브론즈5\n",
    "- https://www.acmicpc.net/problem/10952"
   ]
  },
  {
   "cell_type": "markdown",
   "id": "9c655566",
   "metadata": {},
   "source": [
    "**[문제]**\n",
    "\n",
    "두 정수 A와 B를 입력받은 다음, A+B를 출력하는 프로그램을 작성하시오."
   ]
  },
  {
   "cell_type": "markdown",
   "id": "8a1089db",
   "metadata": {},
   "source": [
    "**[입력]**\n",
    "\n",
    "입력은 여러 개의 테스트 케이스로 이루어져 있다.\n",
    "\n",
    "각 테스트 케이스는 한 줄로 이루어져 있으며, 각 줄에 A와 B가 주어진다. (0 < A, B < 10)\n",
    "\n",
    "입력의 마지막에는 0 두 개가 들어온다."
   ]
  },
  {
   "cell_type": "markdown",
   "id": "19630618",
   "metadata": {},
   "source": [
    "**[출력]**\n",
    "\n",
    "각 테스트 케이스마다 A+B를 출력한다."
   ]
  },
  {
   "cell_type": "code",
   "execution_count": 62,
   "id": "714a01fb",
   "metadata": {
    "ExecuteTime": {
     "end_time": "2023-01-10T09:18:10.753240Z",
     "start_time": "2023-01-10T09:18:10.690392Z"
    },
    "scrolled": false
   },
   "outputs": [
    {
     "name": "stdout",
     "output_type": "stream",
     "text": [
      "1 5\n",
      "6\n",
      "5 6\n",
      "11\n",
      "9 8\n",
      "17\n",
      "-1 -4\n",
      "-5\n",
      "0 0\n"
     ]
    }
   ],
   "source": [
    "# My Solution (1)\n",
    "while True:\n",
    "    a, b = map(int, input().split())\n",
    "    if a == 0 and b == 0:\n",
    "        break\n",
    "    print(a + b)"
   ]
  },
  {
   "cell_type": "code",
   "execution_count": 65,
   "id": "ce1b4e2e",
   "metadata": {
    "ExecuteTime": {
     "end_time": "2023-01-10T07:35:31.441965Z",
     "start_time": "2023-01-10T07:35:28.366688Z"
    }
   },
   "outputs": [
    {
     "name": "stdout",
     "output_type": "stream",
     "text": [
      "1 2\n",
      "3\n",
      "3 4\n",
      "7\n",
      "0 0\n"
     ]
    }
   ],
   "source": [
    "# My Solution (2) - 약 2년 전의 내가 이렇게 짰다고 한다\n",
    "\n",
    "a, b = map(int, input().split())\n",
    "\n",
    "while a != 0 and b != 0:\n",
    "    print(a + b)\n",
    "    a, b = map(int, input().split())"
   ]
  },
  {
   "cell_type": "markdown",
   "id": "a80c31a3",
   "metadata": {},
   "source": [
    "# A+B 6 (백준 #10953)\n",
    "- 브론즈2\n",
    "- https://www.acmicpc.net/problem/10953"
   ]
  },
  {
   "cell_type": "markdown",
   "id": "78b7a9b5",
   "metadata": {},
   "source": [
    "**[문제]**\n",
    "\n",
    "두 정수 A와 B를 입력받은 다음, A+B를 출력하는 프로그램을 작성하시오."
   ]
  },
  {
   "cell_type": "markdown",
   "id": "75a4523c",
   "metadata": {},
   "source": [
    "**[입력]**\n",
    "\n",
    "첫째 줄에 테스트 케이스의 개수 T가 주어진다.\n",
    "\n",
    "각 테스트 케이스는 한 줄로 이루어져 있으며, 각 줄에 A와 B가 주어진다. A와 B는 콤마(,)로 구분되어 있다. (0 < A, B < 10)"
   ]
  },
  {
   "cell_type": "markdown",
   "id": "0bf480de",
   "metadata": {},
   "source": [
    "**[출력]**\n",
    "\n",
    "각 테스트 케이스마다 A+B를 출력한다."
   ]
  },
  {
   "cell_type": "code",
   "execution_count": 67,
   "id": "077093d4",
   "metadata": {
    "ExecuteTime": {
     "end_time": "2023-01-10T09:18:10.753240Z",
     "start_time": "2023-01-10T09:18:10.690392Z"
    },
    "scrolled": true
   },
   "outputs": [
    {
     "name": "stdout",
     "output_type": "stream",
     "text": [
      "2\n",
      "1,2\n",
      "3\n",
      "3,4\n",
      "7\n"
     ]
    }
   ],
   "source": [
    "# My Solution\n",
    "\n",
    "t = int(input())\n",
    "for _ in range(t):\n",
    "    a, b = map(int, input().split(','))\n",
    "    print(a + b)"
   ]
  },
  {
   "cell_type": "markdown",
   "id": "a17524e4",
   "metadata": {},
   "source": [
    "# A+B 7 (백준 #11021)\n",
    "- 브론즈5\n",
    "- https://www.acmicpc.net/problem/11021"
   ]
  },
  {
   "cell_type": "markdown",
   "id": "1b04d6b5",
   "metadata": {},
   "source": [
    "**[문제]**\n",
    "\n",
    "두 정수 A와 B를 입력받은 다음, A+B를 출력하는 프로그램을 작성하시오."
   ]
  },
  {
   "cell_type": "markdown",
   "id": "820e41d6",
   "metadata": {},
   "source": [
    "**[입력]**\n",
    "\n",
    "첫째 줄에 테스트 케이스의 개수 T가 주어진다.\n",
    "\n",
    "각 테스트 케이스는 한 줄로 이루어져 있으며, 각 줄에 A와 B가 주어진다. (0 < A, B < 10)"
   ]
  },
  {
   "cell_type": "markdown",
   "id": "785bf406",
   "metadata": {},
   "source": [
    "**[출력]**\n",
    "\n",
    "각 테스트 케이스마다 \"Case #x: \"를 출력한 다음, A+B를 출력한다. 테스트 케이스 번호는 1부터 시작한다."
   ]
  },
  {
   "cell_type": "code",
   "execution_count": 70,
   "id": "0be70a30",
   "metadata": {
    "ExecuteTime": {
     "end_time": "2023-01-10T09:18:10.753240Z",
     "start_time": "2023-01-10T09:18:10.690392Z"
    },
    "scrolled": true
   },
   "outputs": [
    {
     "name": "stdout",
     "output_type": "stream",
     "text": [
      "3\n",
      "1 2\n",
      "Case #1: 3\n",
      "5 4\n",
      "Case #2: 9\n",
      "1 8\n",
      "Case #3: 9\n"
     ]
    }
   ],
   "source": [
    "# My Solution (1)\n",
    "\n",
    "t = int(input())\n",
    "for i in range(t):\n",
    "    a, b = map(int, input().split())\n",
    "    print(f\"Case #{i + 1}: {a + b}\")"
   ]
  },
  {
   "cell_type": "code",
   "execution_count": null,
   "id": "719a6cf2",
   "metadata": {},
   "outputs": [],
   "source": [
    "# My Solution (2) - 약 2년 전의 내가 이렇게 짰다고 한다\n",
    "\n",
    "t = int(input())\n",
    "a = []\n",
    "b = []\n",
    "\n",
    "for i in range(t):\n",
    "    an, bn = map(int, input().split())\n",
    "    a.append(an)\n",
    "    b.append(bn)\n",
    "\n",
    "for i in range(t):\n",
    "    print('Case #', i+1, ': ', a[i]+b[i], sep='')"
   ]
  },
  {
   "cell_type": "markdown",
   "id": "afcad213",
   "metadata": {},
   "source": [
    "# A+B 8 (백준 #11022)\n",
    "- 브론즈5\n",
    "- https://www.acmicpc.net/problem/11022"
   ]
  },
  {
   "cell_type": "markdown",
   "id": "efb147ba",
   "metadata": {},
   "source": [
    "**[문제]**\n",
    "\n",
    "두 정수 A와 B를 입력받은 다음, A+B를 출력하는 프로그램을 작성하시오."
   ]
  },
  {
   "cell_type": "markdown",
   "id": "c4f96f5f",
   "metadata": {},
   "source": [
    "**[입력]**\n",
    "\n",
    "첫째 줄에 테스트 케이스의 개수 T가 주어진다.\n",
    "\n",
    "각 테스트 케이스는 한 줄로 이루어져 있으며, 각 줄에 A와 B가 주어진다. (0 < A, B < 10)"
   ]
  },
  {
   "cell_type": "markdown",
   "id": "55a3a984",
   "metadata": {},
   "source": [
    "**[출력]**\n",
    "\n",
    "각 테스트 케이스마다 \"Case #x: A + B = C\" 형식으로 출력한다. x는 테스트 케이스 번호이고 1부터 시작하며, C는 A+B이다."
   ]
  },
  {
   "cell_type": "code",
   "execution_count": 71,
   "id": "41c759f3",
   "metadata": {
    "ExecuteTime": {
     "end_time": "2023-01-10T09:18:10.753240Z",
     "start_time": "2023-01-10T09:18:10.690392Z"
    },
    "scrolled": true
   },
   "outputs": [
    {
     "name": "stdout",
     "output_type": "stream",
     "text": [
      "3\n",
      "-1 5\n",
      "Case #1: -1 + 5 = 4\n",
      "5 6\n",
      "Case #2: 5 + 6 = 11\n",
      "-25 3\n",
      "Case #3: -25 + 3 = -22\n"
     ]
    }
   ],
   "source": [
    "# My Solution (1)\n",
    "\n",
    "t = int(input())\n",
    "for i in range(t):\n",
    "    a, b = map(int, input().split())\n",
    "    print(f\"Case #{i + 1}: {a} + {b} = {a + b}\")"
   ]
  },
  {
   "cell_type": "code",
   "execution_count": null,
   "id": "a25cc839",
   "metadata": {},
   "outputs": [],
   "source": [
    "# My Solution (2) - 약 2년 전의 내가 이렇게 짰다고 한다\n",
    "\n",
    "t = int(input())\n",
    "a = []\n",
    "b = []\n",
    "\n",
    "for i in range(t):\n",
    "    an, bn = map(int, input().split())\n",
    "    a.append(an)\n",
    "    b.append(bn)\n",
    "\n",
    "for i in range(t):\n",
    "    print('Case #', i+1, ': ', a[i], ' + ', b[i], ' = ', a[i]+b[i], sep='')"
   ]
  }
 ],
 "metadata": {
  "kernelspec": {
   "display_name": "Python 3 (ipykernel)",
   "language": "python",
   "name": "python3"
  },
  "language_info": {
   "codemirror_mode": {
    "name": "ipython",
    "version": 3
   },
   "file_extension": ".py",
   "mimetype": "text/x-python",
   "name": "python",
   "nbconvert_exporter": "python",
   "pygments_lexer": "ipython3",
   "version": "3.9.13"
  },
  "toc": {
   "base_numbering": 1,
   "nav_menu": {},
   "number_sections": true,
   "sideBar": true,
   "skip_h1_title": false,
   "title_cell": "Table of Contents",
   "title_sidebar": "Contents",
   "toc_cell": false,
   "toc_position": {},
   "toc_section_display": true,
   "toc_window_display": false
  },
  "varInspector": {
   "cols": {
    "lenName": 16,
    "lenType": 16,
    "lenVar": 40
   },
   "kernels_config": {
    "python": {
     "delete_cmd_postfix": "",
     "delete_cmd_prefix": "del ",
     "library": "var_list.py",
     "varRefreshCmd": "print(var_dic_list())"
    },
    "r": {
     "delete_cmd_postfix": ") ",
     "delete_cmd_prefix": "rm(",
     "library": "var_list.r",
     "varRefreshCmd": "cat(var_dic_list()) "
    }
   },
   "types_to_exclude": [
    "module",
    "function",
    "builtin_function_or_method",
    "instance",
    "_Feature"
   ],
   "window_display": false
  }
 },
 "nbformat": 4,
 "nbformat_minor": 5
}
