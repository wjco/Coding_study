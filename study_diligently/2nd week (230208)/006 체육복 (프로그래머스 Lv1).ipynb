{
 "cells": [
  {
   "cell_type": "markdown",
   "id": "12a2580f",
   "metadata": {},
   "source": [
    "# 체육복 (프로그래머스 Lv.1)\n",
    "\n",
    "- 코딩테스트 연습 > 탐욕법(Greedy) > 체육복\n",
    "- https://school.programmers.co.kr/learn/courses/30/lessons/42862"
   ]
  },
  {
   "cell_type": "markdown",
   "id": "b0568359",
   "metadata": {},
   "source": [
    "**[문제 설명]**\n",
    "\n",
    "점심시간에 도둑이 들어, 일부 학생이 체육복을 도난당했습니다. 다행히 여벌 체육복이 있는 학생이 이들에게 체육복을 빌려주려 합니다. 학생들의 번호는 체격 순으로 매겨져 있어, 바로 앞번호의 학생이나 바로 뒷번호의 학생에게만 체육복을 빌려줄 수 있습니다. 예를 들어, 4번 학생은 3번 학생이나 5번 학생에게만 체육복을 빌려줄 수 있습니다. 체육복이 없으면 수업을 들을 수 없기 때문에 체육복을 적절히 빌려 최대한 많은 학생이 체육수업을 들어야 합니다.\n",
    "\n",
    "전체 학생의 수 n, 체육복을 도난당한 학생들의 번호가 담긴 배열 lost, 여벌의 체육복을 가져온 학생들의 번호가 담긴 배열 reserve가 매개변수로 주어질 때, 체육수업을 들을 수 있는 학생의 최댓값을 return 하도록 solution 함수를 작성해주세요."
   ]
  },
  {
   "cell_type": "markdown",
   "id": "f9926e81",
   "metadata": {},
   "source": [
    "**[제한 사항]**\n",
    "\n",
    "- 전체 학생의 수는 2명 이상 30명 이하입니다.\n",
    "- 체육복을 도난당한 학생의 수는 1명 이상 n명 이하이고 중복되는 번호는 없습니다.\n",
    "- 여벌의 체육복을 가져온 학생의 수는 1명 이상 n명 이하이고 중복되는 번호는 없습니다.\n",
    "- 여벌 체육복이 있는 학생만 다른 학생에게 체육복을 빌려줄 수 있습니다.\n",
    "- 여벌 체육복을 가져온 학생이 체육복을 도난당했을 수 있습니다. 이때 이 학생은 체육복을 하나만 도난당했다고 가정하며, 남은 체육복이 하나이기에 다른 학생에게는 체육복을 빌려줄 수 없습니다."
   ]
  },
  {
   "cell_type": "code",
   "execution_count": 1,
   "id": "7ca9d0c6",
   "metadata": {
    "ExecuteTime": {
     "end_time": "2023-02-03T01:22:29.311308Z",
     "start_time": "2023-02-03T01:22:29.290616Z"
    }
   },
   "outputs": [],
   "source": [
    "# My Solution\n",
    "\n",
    "def solution(n, lost, reserve):\n",
    "    members = [1 for _ in range(n)]\n",
    "    counted_idxs = [0 for _ in range(n)]\n",
    "    for i in lost:\n",
    "        members[i - 1] -= 1\n",
    "    for i in reserve:\n",
    "        members[i - 1] += 1\n",
    "\n",
    "    answer = 0\n",
    "    for m in range(len(members)):\n",
    "        if members[m] > 0:\n",
    "            answer += 1\n",
    "        elif members[m] == 0:\n",
    "            try:\n",
    "                if members[m - 1] == 2 and counted_idxs[m - 1] == 0 and m - 1 >= 0:\n",
    "                    answer += 1\n",
    "                    counted_idxs[m - 1] = 1\n",
    "                elif members[m + 1] == 2 and counted_idxs[m + 1] == 0:\n",
    "                    answer += 1\n",
    "                    counted_idxs[m + 1] = 1\n",
    "            except:\n",
    "                None\n",
    "            \n",
    "    return answer"
   ]
  },
  {
   "cell_type": "code",
   "execution_count": 2,
   "id": "9f32c1f0",
   "metadata": {
    "ExecuteTime": {
     "end_time": "2023-02-03T01:22:29.548841Z",
     "start_time": "2023-02-03T01:22:29.528577Z"
    }
   },
   "outputs": [
    {
     "name": "stdout",
     "output_type": "stream",
     "text": [
      "5\n",
      "4\n",
      "2\n"
     ]
    }
   ],
   "source": [
    "print(solution(5, [2, 4], [1, 3, 5])) #5\n",
    "print(solution(5, [2, 4], [3])) #4\n",
    "print(solution(3, [3], [1])) #2"
   ]
  }
 ],
 "metadata": {
  "kernelspec": {
   "display_name": "Python 3 (ipykernel)",
   "language": "python",
   "name": "python3"
  },
  "language_info": {
   "codemirror_mode": {
    "name": "ipython",
    "version": 3
   },
   "file_extension": ".py",
   "mimetype": "text/x-python",
   "name": "python",
   "nbconvert_exporter": "python",
   "pygments_lexer": "ipython3",
   "version": "3.9.16"
  }
 },
 "nbformat": 4,
 "nbformat_minor": 5
}
