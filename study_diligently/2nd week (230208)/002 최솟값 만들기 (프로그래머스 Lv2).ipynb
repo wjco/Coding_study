{
 "cells": [
  {
   "cell_type": "markdown",
   "id": "12a2580f",
   "metadata": {},
   "source": [
    "# 최솟값 만들기 (프로그래머스 Lv.2)\n",
    "\n",
    "- 코딩테스트 연습 > 연습문제 > 최솟값 만들기\n",
    "- https://school.programmers.co.kr/learn/courses/30/lessons/12941"
   ]
  },
  {
   "cell_type": "markdown",
   "id": "b0568359",
   "metadata": {},
   "source": [
    "**[문제 설명]**\n",
    "\n",
    "길이가 같은 배열 A, B 두개가 있습니다. 각 배열은 자연수로 이루어져 있습니다.\n",
    "배열 A, B에서 각각 한 개의 숫자를 뽑아 두 수를 곱합니다. 이러한 과정을 배열의 길이만큼 반복하며, 두 수를 곱한 값을 누적하여 더합니다. 이때 최종적으로 누적된 값이 최소가 되도록 만드는 것이 목표입니다. (단, 각 배열에서 k번째 숫자를 뽑았다면 다음에 k번째 숫자는 다시 뽑을 수 없습니다.)\n",
    "\n",
    "예를 들어 A = [1, 4, 2] , B = [5, 4, 4] 라면\n",
    "\n",
    "- A에서 첫번째 숫자인 1, B에서 첫번째 숫자인 5를 뽑아 곱하여 더합니다. (누적된 값 : 0 + 5(1x5) = 5)\n",
    "- A에서 두번째 숫자인 4, B에서 세번째 숫자인 4를 뽑아 곱하여 더합니다. (누적된 값 : 5 + 16(4x4) = 21)\n",
    "- A에서 세번째 숫자인 2, B에서 두번째 숫자인 4를 뽑아 곱하여 더합니다. (누적된 값 : 21 + 8(2x4) = 29)\n",
    "\n",
    "즉, 이 경우가 최소가 되므로 29를 return 합니다.\n",
    "\n",
    "배열 A, B가 주어질 때 최종적으로 누적된 최솟값을 return 하는 solution 함수를 완성해 주세요."
   ]
  },
  {
   "cell_type": "markdown",
   "id": "f9926e81",
   "metadata": {},
   "source": [
    "**[제한 사항]**\n",
    "\n",
    "- 배열 A, B의 크기 : 1,000 이하의 자연수\n",
    "- 배열 A, B의 원소의 크기 : 1,000 이하의 자연수"
   ]
  },
  {
   "cell_type": "code",
   "execution_count": 1,
   "id": "7ca9d0c6",
   "metadata": {
    "ExecuteTime": {
     "end_time": "2023-02-03T00:46:45.253918Z",
     "start_time": "2023-02-03T00:46:45.237236Z"
    }
   },
   "outputs": [],
   "source": [
    "# My Solution\n",
    "\n",
    "def solution(A,B):\n",
    "    A.sort()\n",
    "    B.sort()\n",
    "    answer = 0\n",
    "    \n",
    "    for i in range(len(A)):\n",
    "        answer += A[i] * B[-i-1]\n",
    "\n",
    "    return answer"
   ]
  },
  {
   "cell_type": "code",
   "execution_count": 2,
   "id": "9f32c1f0",
   "metadata": {
    "ExecuteTime": {
     "end_time": "2023-02-03T00:46:48.113659Z",
     "start_time": "2023-02-03T00:46:48.101175Z"
    }
   },
   "outputs": [
    {
     "name": "stdout",
     "output_type": "stream",
     "text": [
      "29\n",
      "10\n"
     ]
    }
   ],
   "source": [
    "print(solution([1, 4, 2], [5, 4, 4])) #29\n",
    "print(solution([1,2], [3,4])) #10"
   ]
  },
  {
   "cell_type": "markdown",
   "id": "4d007074",
   "metadata": {},
   "source": [
    "어떻게 해야 두 수를 곱한 값이 작아지는지 5, 6, 7, 8을 이용해 확인해 보았다.\n",
    "- 5 * 6 + 7 * 8 = 86 (작은 수는 작은 수끼리, 큰 수는 큰 수끼리 곱함)\n",
    "- 5 * 8 + 6 * 7 = 82 (작은 수는 큰 수와, 중간 수는 중간 수끼리 곱함)\n",
    "\n",
    "2번째 경우가 더 작은 곱을 가진다는 것을 확인할 수 있었다.\n",
    "\n",
    "작은 수와 큰 수를 곱하기 위해 A와 B를 각각 정렬한 뒤 A는 앞에서부터, B는 뒤에서부터 숫자를 뽑았다."
   ]
  },
  {
   "cell_type": "code",
   "execution_count": 7,
   "id": "99755adc",
   "metadata": {
    "ExecuteTime": {
     "end_time": "2023-02-03T00:51:56.471080Z",
     "start_time": "2023-02-03T00:51:56.464574Z"
    }
   },
   "outputs": [],
   "source": [
    "# Best Solution\n",
    "def solution(A,B):\n",
    "    return sum(sorted(A)[i] * sorted(B, reverse=True)[i] for i in range(len(A)))"
   ]
  },
  {
   "cell_type": "code",
   "execution_count": 8,
   "id": "caebecec",
   "metadata": {
    "ExecuteTime": {
     "end_time": "2023-02-03T00:51:56.832806Z",
     "start_time": "2023-02-03T00:51:56.821790Z"
    }
   },
   "outputs": [
    {
     "name": "stdout",
     "output_type": "stream",
     "text": [
      "29\n",
      "10\n"
     ]
    }
   ],
   "source": [
    "print(solution([1, 4, 2], [5, 4, 4])) #29\n",
    "print(solution([1,2], [3,4])) #10"
   ]
  },
  {
   "cell_type": "markdown",
   "id": "2d0de47d",
   "metadata": {},
   "source": [
    "이때 리스트 하나를 반대 방향으로 정렬해 준다면 굳이 뒤에서부터 인덱싱하지 않아도 된다."
   ]
  }
 ],
 "metadata": {
  "kernelspec": {
   "display_name": "Python 3 (ipykernel)",
   "language": "python",
   "name": "python3"
  },
  "language_info": {
   "codemirror_mode": {
    "name": "ipython",
    "version": 3
   },
   "file_extension": ".py",
   "mimetype": "text/x-python",
   "name": "python",
   "nbconvert_exporter": "python",
   "pygments_lexer": "ipython3",
   "version": "3.9.16"
  }
 },
 "nbformat": 4,
 "nbformat_minor": 5
}
