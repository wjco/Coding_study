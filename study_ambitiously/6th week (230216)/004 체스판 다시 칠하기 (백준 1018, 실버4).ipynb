{
 "cells": [
  {
   "cell_type": "markdown",
   "id": "ff8d0252",
   "metadata": {},
   "source": [
    "# 체스판 다시 칠하기 (백준 #1018)\n",
    "- 실버4\n",
    "- https://www.acmicpc.net/problem/1018"
   ]
  },
  {
   "cell_type": "markdown",
   "id": "f0db6a29",
   "metadata": {},
   "source": [
    "**[문제]**\n",
    "\n",
    "지민이는 자신의 저택에서 MN개의 단위 정사각형으로 나누어져 있는 M×N 크기의 보드를 찾았다. 어떤 정사각형은 검은색으로 칠해져 있고, 나머지는 흰색으로 칠해져 있다. 지민이는 이 보드를 잘라서 8×8 크기의 체스판으로 만들려고 한다.\n",
    "\n",
    "체스판은 검은색과 흰색이 번갈아서 칠해져 있어야 한다. 구체적으로, 각 칸이 검은색과 흰색 중 하나로 색칠되어 있고, 변을 공유하는 두 개의 사각형은 다른 색으로 칠해져 있어야 한다. 따라서 이 정의를 따르면 체스판을 색칠하는 경우는 두 가지뿐이다. 하나는 맨 왼쪽 위 칸이 흰색인 경우, 하나는 검은색인 경우이다.\n",
    "\n",
    "보드가 체스판처럼 칠해져 있다는 보장이 없어서, 지민이는 8×8 크기의 체스판으로 잘라낸 후에 몇 개의 정사각형을 다시 칠해야겠다고 생각했다. 당연히 8*8 크기는 아무데서나 골라도 된다. 지민이가 다시 칠해야 하는 정사각형의 최소 개수를 구하는 프로그램을 작성하시오."
   ]
  },
  {
   "cell_type": "markdown",
   "id": "510f3a8f",
   "metadata": {},
   "source": [
    "**[입력]**\n",
    "\n",
    "첫째 줄에 N과 M이 주어진다. N과 M은 8보다 크거나 같고, 50보다 작거나 같은 자연수이다. 둘째 줄부터 N개의 줄에는 보드의 각 행의 상태가 주어진다. B는 검은색이며, W는 흰색이다."
   ]
  },
  {
   "cell_type": "markdown",
   "id": "47ecce3f",
   "metadata": {},
   "source": [
    "**[출력]**\n",
    "\n",
    "첫째 줄에 지민이가 다시 칠해야 하는 정사각형 개수의 최솟값을 출력한다."
   ]
  },
  {
   "cell_type": "code",
   "execution_count": 27,
   "id": "b3bd941f",
   "metadata": {
    "ExecuteTime": {
     "end_time": "2023-02-13T14:45:30.793796Z",
     "start_time": "2023-02-13T14:45:04.141593Z"
    }
   },
   "outputs": [
    {
     "name": "stdout",
     "output_type": "stream",
     "text": [
      "10 13\n",
      "BBBBBBBBWBWBW\n",
      "BBBBBBBBBWBWB\n",
      "BBBBBBBBWBWBW\n",
      "BBBBBBBBBWBWB\n",
      "BBBBBBBBWBWBW\n",
      "BBBBBBBBBWBWB\n",
      "BBBBBBBBWBWBW\n",
      "BBBBBBBBBWBWB\n",
      "WWWWWWWWWWBWB\n",
      "WWWWWWWWWWBWB\n",
      "12\n"
     ]
    }
   ],
   "source": [
    "# My Solution\n",
    "\n",
    "def how_many_colors(boards):\n",
    "    cnt = 0\n",
    "    for i in range(len(boards)):\n",
    "        for j in range(len(boards[i])):\n",
    "            if i % 2:\n",
    "                if j % 2:\n",
    "                    if boards[i][j] == \"W\":\n",
    "                        cnt += 1\n",
    "                else:\n",
    "                    if boards[i][j] == \"B\":\n",
    "                        cnt += 1\n",
    "            else:\n",
    "                if j % 2:\n",
    "                    if boards[i][j] == \"B\":\n",
    "                        cnt += 1\n",
    "                else:\n",
    "                    if boards[i][j] == \"W\":\n",
    "                        cnt += 1\n",
    "    return min(cnt, 64 - cnt)\n",
    "\n",
    "n, m = map(int, input().split())\n",
    "boards = [input() for _ in range(n)]\n",
    "\n",
    "colors = []\n",
    "\n",
    "for i in range(n - 8 + 1):\n",
    "    for j in range(m - 8 + 1):\n",
    "        temp_boards = boards[i:i + 8]\n",
    "        sub_boards = []\n",
    "        for t in temp_boards:\n",
    "            sub_boards.append(t[j:j + 8])\n",
    "        colors.append(how_many_colors(sub_boards))\n",
    "\n",
    "print(min(colors))"
   ]
  }
 ],
 "metadata": {
  "kernelspec": {
   "display_name": "Python 3 (ipykernel)",
   "language": "python",
   "name": "python3"
  },
  "language_info": {
   "codemirror_mode": {
    "name": "ipython",
    "version": 3
   },
   "file_extension": ".py",
   "mimetype": "text/x-python",
   "name": "python",
   "nbconvert_exporter": "python",
   "pygments_lexer": "ipython3",
   "version": "3.9.16"
  }
 },
 "nbformat": 4,
 "nbformat_minor": 5
}
