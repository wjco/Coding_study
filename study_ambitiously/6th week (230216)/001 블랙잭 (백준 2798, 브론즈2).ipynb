{
 "cells": [
  {
   "cell_type": "markdown",
   "id": "ff8d0252",
   "metadata": {},
   "source": [
    "# 블랙잭 (백준 #2798)\n",
    "- 브론즈2\n",
    "- https://www.acmicpc.net/problem/2798"
   ]
  },
  {
   "cell_type": "markdown",
   "id": "f0db6a29",
   "metadata": {},
   "source": [
    "**[문제]**\n",
    "\n",
    "카지노에서 제일 인기 있는 게임 블랙잭의 규칙은 상당히 쉽다. 카드의 합이 21을 넘지 않는 한도 내에서, 카드의 합을 최대한 크게 만드는 게임이다. 블랙잭은 카지노마다 다양한 규정이 있다.\n",
    "\n",
    "한국 최고의 블랙잭 고수 김정인은 새로운 블랙잭 규칙을 만들어 상근, 창영이와 게임하려고 한다.\n",
    "\n",
    "김정인 버전의 블랙잭에서 각 카드에는 양의 정수가 쓰여 있다. 그 다음, 딜러는 N장의 카드를 모두 숫자가 보이도록 바닥에 놓는다. 그런 후에 딜러는 숫자 M을 크게 외친다.\n",
    "\n",
    "이제 플레이어는 제한된 시간 안에 N장의 카드 중에서 3장의 카드를 골라야 한다. 블랙잭 변형 게임이기 때문에, 플레이어가 고른 카드의 합은 M을 넘지 않으면서 M과 최대한 가깝게 만들어야 한다.\n",
    "\n",
    "N장의 카드에 써져 있는 숫자가 주어졌을 때, M을 넘지 않으면서 M에 최대한 가까운 카드 3장의 합을 구해 출력하시오."
   ]
  },
  {
   "cell_type": "markdown",
   "id": "510f3a8f",
   "metadata": {},
   "source": [
    "**[입력]**\n",
    "\n",
    "첫째 줄에 카드의 개수 N(3 ≤ N ≤ 100)과 M(10 ≤ M ≤ 300,000)이 주어진다. 둘째 줄에는 카드에 쓰여 있는 수가 주어지며, 이 값은 100,000을 넘지 않는 양의 정수이다.\n",
    "\n",
    "합이 M을 넘지 않는 카드 3장을 찾을 수 있는 경우만 입력으로 주어진다."
   ]
  },
  {
   "cell_type": "markdown",
   "id": "47ecce3f",
   "metadata": {},
   "source": [
    "**[출력]**\n",
    "\n",
    "첫째 줄에 M을 넘지 않으면서 M에 최대한 가까운 카드 3장의 합을 출력한다."
   ]
  },
  {
   "cell_type": "code",
   "execution_count": 17,
   "id": "b3bd941f",
   "metadata": {
    "ExecuteTime": {
     "end_time": "2023-02-13T13:14:56.750533Z",
     "start_time": "2023-02-13T13:14:54.657651Z"
    }
   },
   "outputs": [
    {
     "name": "stdout",
     "output_type": "stream",
     "text": [
      "10 500\n",
      "93 181 245 214 315 36 185 138 216 295\n",
      "497\n"
     ]
    }
   ],
   "source": [
    "# My Solution\n",
    "\n",
    "n, m = map(int, input().split())\n",
    "nums = list(map(int, input().split()))\n",
    "\n",
    "sums = set()\n",
    "for i in range(n - 2):\n",
    "    for j in range(i + 1, n - 1):\n",
    "        for k in range(j + 1, n):\n",
    "            num_sum = nums[i] + nums[j] + nums[k]\n",
    "            if num_sum <= m:\n",
    "                sums.add(num_sum)\n",
    "\n",
    "print(max(sums))"
   ]
  }
 ],
 "metadata": {
  "kernelspec": {
   "display_name": "Python 3 (ipykernel)",
   "language": "python",
   "name": "python3"
  },
  "language_info": {
   "codemirror_mode": {
    "name": "ipython",
    "version": 3
   },
   "file_extension": ".py",
   "mimetype": "text/x-python",
   "name": "python",
   "nbconvert_exporter": "python",
   "pygments_lexer": "ipython3",
   "version": "3.9.16"
  }
 },
 "nbformat": 4,
 "nbformat_minor": 5
}
