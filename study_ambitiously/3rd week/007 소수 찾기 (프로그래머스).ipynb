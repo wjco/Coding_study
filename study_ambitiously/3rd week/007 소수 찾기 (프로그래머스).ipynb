{
 "cells": [
  {
   "cell_type": "markdown",
   "id": "ec7ecd53",
   "metadata": {},
   "source": [
    "# 소수 찾기 (프로그래머스 Lv.1)\n",
    "- 코딩테스트 연습 > 연습문제 > 소수 찾기\n",
    "- https://school.programmers.co.kr/learn/courses/30/lessons/12921"
   ]
  },
  {
   "cell_type": "markdown",
   "id": "68a0deb9",
   "metadata": {},
   "source": [
    "**[문제 설명]**\n",
    "\n",
    "\n",
    "1부터 입력받은 숫자 n 사이에 있는 소수의 개수를 반환하는 함수, solution을 만들어 보세요.\n",
    "\n",
    "소수는 1과 자기 자신으로만 나누어지는 수를 의미합니다.\n",
    "(1은 소수가 아닙니다.)"
   ]
  },
  {
   "cell_type": "markdown",
   "id": "4589dce5",
   "metadata": {},
   "source": [
    "**[제한 사항]**\n",
    "\n",
    "- n은 2이상 1000000이하의 자연수입니다."
   ]
  },
  {
   "cell_type": "code",
   "execution_count": 40,
   "id": "c2ae6f61",
   "metadata": {},
   "outputs": [
    {
     "name": "stdout",
     "output_type": "stream",
     "text": [
      "4\n",
      "3\n"
     ]
    }
   ],
   "source": [
    "# My Solution\n",
    "\n",
    "def solution(n):\n",
    "    answer = 0\n",
    "    \n",
    "    for num in range(2, n + 1):\n",
    "        is_devided = False\n",
    "        for i in range(2, int(num ** 0.5) + 1):\n",
    "            if num % i == 0:\n",
    "                is_devided = True\n",
    "                break\n",
    "        if not is_devided:\n",
    "            answer += 1\n",
    "            \n",
    "    return answer\n",
    "\n",
    "print(solution(10)) #4\n",
    "print(solution(5)) #3"
   ]
  }
 ],
 "metadata": {
  "kernelspec": {
   "display_name": "Python 3 (ipykernel)",
   "language": "python",
   "name": "python3"
  },
  "language_info": {
   "codemirror_mode": {
    "name": "ipython",
    "version": 3
   },
   "file_extension": ".py",
   "mimetype": "text/x-python",
   "name": "python",
   "nbconvert_exporter": "python",
   "pygments_lexer": "ipython3",
   "version": "3.9.13"
  },
  "toc": {
   "base_numbering": 1,
   "nav_menu": {},
   "number_sections": true,
   "sideBar": true,
   "skip_h1_title": false,
   "title_cell": "Table of Contents",
   "title_sidebar": "Contents",
   "toc_cell": false,
   "toc_position": {},
   "toc_section_display": true,
   "toc_window_display": false
  },
  "varInspector": {
   "cols": {
    "lenName": 16,
    "lenType": 16,
    "lenVar": 40
   },
   "kernels_config": {
    "python": {
     "delete_cmd_postfix": "",
     "delete_cmd_prefix": "del ",
     "library": "var_list.py",
     "varRefreshCmd": "print(var_dic_list())"
    },
    "r": {
     "delete_cmd_postfix": ") ",
     "delete_cmd_prefix": "rm(",
     "library": "var_list.r",
     "varRefreshCmd": "cat(var_dic_list()) "
    }
   },
   "types_to_exclude": [
    "module",
    "function",
    "builtin_function_or_method",
    "instance",
    "_Feature"
   ],
   "window_display": false
  }
 },
 "nbformat": 4,
 "nbformat_minor": 5
}
