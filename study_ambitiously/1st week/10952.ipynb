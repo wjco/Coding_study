{
 "cells": [
  {
   "cell_type": "markdown",
   "id": "0a573bb1",
   "metadata": {},
   "source": [
    "# A+B 5 (백준 #10952)\n",
    "- 브론즈5\n",
    "- https://www.acmicpc.net/problem/10952"
   ]
  },
  {
   "cell_type": "markdown",
   "id": "9aa3181f",
   "metadata": {},
   "source": [
    "**[문제]**\n",
    "\n",
    "두 정수 A와 B를 입력받은 다음, A+B를 출력하는 프로그램을 작성하시오."
   ]
  },
  {
   "cell_type": "markdown",
   "id": "16c50b22",
   "metadata": {},
   "source": [
    "**[입력]**\n",
    "\n",
    "입력은 여러 개의 테스트 케이스로 이루어져 있다.\n",
    "\n",
    "각 테스트 케이스는 한 줄로 이루어져 있으며, 각 줄에 A와 B가 주어진다. (0 < A, B < 10)\n",
    "\n",
    "입력의 마지막에는 0 두 개가 들어온다."
   ]
  },
  {
   "cell_type": "markdown",
   "id": "2eb6e685",
   "metadata": {},
   "source": [
    "**[출력]**\n",
    "\n",
    "각 테스트 케이스마다 A+B를 출력한다."
   ]
  },
  {
   "cell_type": "code",
   "execution_count": 62,
   "id": "ec0d5533",
   "metadata": {
    "ExecuteTime": {
     "end_time": "2023-01-10T09:18:10.753240Z",
     "start_time": "2023-01-10T09:18:10.690392Z"
    },
    "scrolled": false
   },
   "outputs": [
    {
     "name": "stdout",
     "output_type": "stream",
     "text": [
      "1 5\n",
      "6\n",
      "5 6\n",
      "11\n",
      "9 8\n",
      "17\n",
      "-1 -4\n",
      "-5\n",
      "0 0\n"
     ]
    }
   ],
   "source": [
    "# My Solution (1)\n",
    "while True:\n",
    "    a, b = map(int, input().split())\n",
    "    if a == 0 and b == 0:\n",
    "        break\n",
    "    print(a + b)"
   ]
  }
 ],
 "metadata": {
  "kernelspec": {
   "display_name": "Python 3 (ipykernel)",
   "language": "python",
   "name": "python3"
  },
  "language_info": {
   "codemirror_mode": {
    "name": "ipython",
    "version": 3
   },
   "file_extension": ".py",
   "mimetype": "text/x-python",
   "name": "python",
   "nbconvert_exporter": "python",
   "pygments_lexer": "ipython3",
   "version": "3.9.13"
  },
  "toc": {
   "base_numbering": 1,
   "nav_menu": {},
   "number_sections": true,
   "sideBar": true,
   "skip_h1_title": false,
   "title_cell": "Table of Contents",
   "title_sidebar": "Contents",
   "toc_cell": false,
   "toc_position": {},
   "toc_section_display": true,
   "toc_window_display": false
  },
  "varInspector": {
   "cols": {
    "lenName": 16,
    "lenType": 16,
    "lenVar": 40
   },
   "kernels_config": {
    "python": {
     "delete_cmd_postfix": "",
     "delete_cmd_prefix": "del ",
     "library": "var_list.py",
     "varRefreshCmd": "print(var_dic_list())"
    },
    "r": {
     "delete_cmd_postfix": ") ",
     "delete_cmd_prefix": "rm(",
     "library": "var_list.r",
     "varRefreshCmd": "cat(var_dic_list()) "
    }
   },
   "types_to_exclude": [
    "module",
    "function",
    "builtin_function_or_method",
    "instance",
    "_Feature"
   ],
   "window_display": false
  }
 },
 "nbformat": 4,
 "nbformat_minor": 5
}
